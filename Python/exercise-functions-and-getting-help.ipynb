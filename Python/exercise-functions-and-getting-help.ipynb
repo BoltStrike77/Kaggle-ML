{
 "cells": [
  {
   "cell_type": "markdown",
   "id": "2ca88edc",
   "metadata": {
    "papermill": {
     "duration": 0.007072,
     "end_time": "2022-07-04T19:14:09.930341",
     "exception": false,
     "start_time": "2022-07-04T19:14:09.923269",
     "status": "completed"
    },
    "tags": []
   },
   "source": [
    "**This notebook is an exercise in the [Python](https://www.kaggle.com/learn/python) course.  You can reference the tutorial at [this link](https://www.kaggle.com/colinmorris/functions-and-getting-help).**\n",
    "\n",
    "---\n"
   ]
  },
  {
   "cell_type": "markdown",
   "id": "583927a0",
   "metadata": {
    "papermill": {
     "duration": 0.005398,
     "end_time": "2022-07-04T19:14:09.941639",
     "exception": false,
     "start_time": "2022-07-04T19:14:09.936241",
     "status": "completed"
    },
    "tags": []
   },
   "source": [
    "Functions are powerful. Try writing some yourself.\n",
    "\n",
    "As before, don't forget to run the setup code below before jumping into question 1."
   ]
  },
  {
   "cell_type": "code",
   "execution_count": 1,
   "id": "0dc32bd0",
   "metadata": {
    "_kg_hide-input": true,
    "_kg_hide-output": true,
    "execution": {
     "iopub.execute_input": "2022-07-04T19:14:09.955496Z",
     "iopub.status.busy": "2022-07-04T19:14:09.955014Z",
     "iopub.status.idle": "2022-07-04T19:14:10.019519Z",
     "shell.execute_reply": "2022-07-04T19:14:10.017958Z"
    },
    "papermill": {
     "duration": 0.075351,
     "end_time": "2022-07-04T19:14:10.023016",
     "exception": false,
     "start_time": "2022-07-04T19:14:09.947665",
     "status": "completed"
    },
    "tags": []
   },
   "outputs": [
    {
     "name": "stdout",
     "output_type": "stream",
     "text": [
      "Setup complete.\n"
     ]
    }
   ],
   "source": [
    "# SETUP. You don't need to worry for now about what this code does or how it works.\n",
    "from learntools.core import binder; binder.bind(globals())\n",
    "from learntools.python.ex2 import *\n",
    "print('Setup complete.')"
   ]
  },
  {
   "cell_type": "markdown",
   "id": "3fe245fa",
   "metadata": {
    "papermill": {
     "duration": 0.005258,
     "end_time": "2022-07-04T19:14:10.034055",
     "exception": false,
     "start_time": "2022-07-04T19:14:10.028797",
     "status": "completed"
    },
    "tags": []
   },
   "source": [
    "# 1.\n",
    "\n",
    "Complete the body of the following function according to its docstring.\n",
    "\n",
    "HINT: Python has a built-in function `round`."
   ]
  },
  {
   "cell_type": "code",
   "execution_count": 2,
   "id": "b7c5ef22",
   "metadata": {
    "execution": {
     "iopub.execute_input": "2022-07-04T19:14:10.046838Z",
     "iopub.status.busy": "2022-07-04T19:14:10.046434Z",
     "iopub.status.idle": "2022-07-04T19:14:10.058598Z",
     "shell.execute_reply": "2022-07-04T19:14:10.057498Z"
    },
    "papermill": {
     "duration": 0.021217,
     "end_time": "2022-07-04T19:14:10.060837",
     "exception": false,
     "start_time": "2022-07-04T19:14:10.039620",
     "status": "completed"
    },
    "tags": []
   },
   "outputs": [
    {
     "data": {
      "application/javascript": [
       "parent.postMessage({\"jupyterEvent\": \"custom.exercise_interaction\", \"data\": {\"outcomeType\": 1, \"valueTowardsCompletion\": 0.16666666666666666, \"interactionType\": 1, \"questionType\": 2, \"questionId\": \"1_RoundFunctionProblem\", \"learnToolsVersion\": \"0.3.4\", \"failureMessage\": \"\", \"exceptionClass\": \"\", \"trace\": \"\"}}, \"*\")"
      ],
      "text/plain": [
       "<IPython.core.display.Javascript object>"
      ]
     },
     "metadata": {},
     "output_type": "display_data"
    },
    {
     "data": {
      "text/markdown": [
       "<span style=\"color:#33cc33\">Correct</span>"
      ],
      "text/plain": [
       "Correct"
      ]
     },
     "metadata": {},
     "output_type": "display_data"
    }
   ],
   "source": [
    "def round_to_two_places(num):\n",
    "    return round(num, 2)\n",
    "\n",
    "# Check your answer\n",
    "q1.check()"
   ]
  },
  {
   "cell_type": "code",
   "execution_count": 3,
   "id": "37709fc2",
   "metadata": {
    "execution": {
     "iopub.execute_input": "2022-07-04T19:14:10.074127Z",
     "iopub.status.busy": "2022-07-04T19:14:10.073745Z",
     "iopub.status.idle": "2022-07-04T19:14:10.077645Z",
     "shell.execute_reply": "2022-07-04T19:14:10.076765Z"
    },
    "papermill": {
     "duration": 0.013037,
     "end_time": "2022-07-04T19:14:10.079646",
     "exception": false,
     "start_time": "2022-07-04T19:14:10.066609",
     "status": "completed"
    },
    "tags": []
   },
   "outputs": [],
   "source": [
    "# Uncomment the following for a hint\n",
    "#q1.hint()\n",
    "# Or uncomment the following to peek at the solution\n",
    "#q1.solution()"
   ]
  },
  {
   "cell_type": "markdown",
   "id": "07fa9ec2",
   "metadata": {
    "papermill": {
     "duration": 0.007007,
     "end_time": "2022-07-04T19:14:10.093148",
     "exception": false,
     "start_time": "2022-07-04T19:14:10.086141",
     "status": "completed"
    },
    "tags": []
   },
   "source": [
    "# 2.\n",
    "The help for `round` says that `ndigits` (the second argument) may be negative.\n",
    "What do you think will happen when it is? Try some examples in the following cell."
   ]
  },
  {
   "cell_type": "code",
   "execution_count": 4,
   "id": "ce9054b1",
   "metadata": {
    "execution": {
     "iopub.execute_input": "2022-07-04T19:14:10.107642Z",
     "iopub.status.busy": "2022-07-04T19:14:10.107248Z",
     "iopub.status.idle": "2022-07-04T19:14:10.113427Z",
     "shell.execute_reply": "2022-07-04T19:14:10.112665Z"
    },
    "papermill": {
     "duration": 0.0163,
     "end_time": "2022-07-04T19:14:10.115428",
     "exception": false,
     "start_time": "2022-07-04T19:14:10.099128",
     "status": "completed"
    },
    "tags": []
   },
   "outputs": [
    {
     "data": {
      "text/plain": [
       "1200.0"
      ]
     },
     "execution_count": 4,
     "metadata": {},
     "output_type": "execute_result"
    }
   ],
   "source": [
    "# Put your test code here\n",
    "round(1234.567, -2)"
   ]
  },
  {
   "cell_type": "markdown",
   "id": "e8a29b89",
   "metadata": {
    "papermill": {
     "duration": 0.005978,
     "end_time": "2022-07-04T19:14:10.127420",
     "exception": false,
     "start_time": "2022-07-04T19:14:10.121442",
     "status": "completed"
    },
    "tags": []
   },
   "source": [
    "Can you think of a case where this would be useful?  Once you're ready, run the code cell below to see the answer and to receive credit for completing the problem."
   ]
  },
  {
   "cell_type": "code",
   "execution_count": 5,
   "id": "6ced3505",
   "metadata": {
    "execution": {
     "iopub.execute_input": "2022-07-04T19:14:10.141344Z",
     "iopub.status.busy": "2022-07-04T19:14:10.140625Z",
     "iopub.status.idle": "2022-07-04T19:14:10.147961Z",
     "shell.execute_reply": "2022-07-04T19:14:10.147154Z"
    },
    "papermill": {
     "duration": 0.016836,
     "end_time": "2022-07-04T19:14:10.150118",
     "exception": false,
     "start_time": "2022-07-04T19:14:10.133282",
     "status": "completed"
    },
    "tags": []
   },
   "outputs": [
    {
     "data": {
      "application/javascript": [
       "parent.postMessage({\"jupyterEvent\": \"custom.exercise_interaction\", \"data\": {\"interactionType\": 3, \"questionType\": 4, \"questionId\": \"2_RoundNdigitsProblem\", \"learnToolsVersion\": \"0.3.4\", \"valueTowardsCompletion\": 0.0, \"failureMessage\": \"\", \"exceptionClass\": \"\", \"trace\": \"\", \"outcomeType\": 4}}, \"*\")"
      ],
      "text/plain": [
       "<IPython.core.display.Javascript object>"
      ]
     },
     "metadata": {},
     "output_type": "display_data"
    },
    {
     "data": {
      "text/markdown": [
       "<span style=\"color:#33cc99\">Solution:</span> As you've seen, `ndigits=-1` rounds to the nearest 10, `ndigits=-2` rounds to the nearest 100 and so on. Where might this be useful? Suppose we're dealing with large numbers:\n",
       "\n",
       "> The area of Finland is 338,424 km²  \n",
       "> The area of Greenland is 2,166,086 km²\n",
       "\n",
       "We probably don't care whether it's really 338,424, or 338,425, or 338,177. All those digits of accuracy are just distracting. We can chop them off by calling `round()` with `ndigits=-3`:\n",
       "\n",
       "> The area of Finland is 338,000 km²  \n",
       "> The area of Greenland is 2,166,000 km²\n",
       "\n",
       "(We'll talk about how we would get the commas later when we talk about string formatting :))\n"
      ],
      "text/plain": [
       "Solution: As you've seen, `ndigits=-1` rounds to the nearest 10, `ndigits=-2` rounds to the nearest 100 and so on. Where might this be useful? Suppose we're dealing with large numbers:\n",
       "\n",
       "> The area of Finland is 338,424 km²  \n",
       "> The area of Greenland is 2,166,086 km²\n",
       "\n",
       "We probably don't care whether it's really 338,424, or 338,425, or 338,177. All those digits of accuracy are just distracting. We can chop them off by calling `round()` with `ndigits=-3`:\n",
       "\n",
       "> The area of Finland is 338,000 km²  \n",
       "> The area of Greenland is 2,166,000 km²\n",
       "\n",
       "(We'll talk about how we would get the commas later when we talk about string formatting :))"
      ]
     },
     "metadata": {},
     "output_type": "display_data"
    }
   ],
   "source": [
    "# Check your answer (Run this code cell to receive credit!)\n",
    "q2.solution()"
   ]
  },
  {
   "cell_type": "markdown",
   "id": "99f8bcb1",
   "metadata": {
    "papermill": {
     "duration": 0.005957,
     "end_time": "2022-07-04T19:14:10.162472",
     "exception": false,
     "start_time": "2022-07-04T19:14:10.156515",
     "status": "completed"
    },
    "tags": []
   },
   "source": [
    "# 3.\n",
    "\n",
    "In the previous exercise, the candy-sharing friends Alice, Bob and Carol tried to split candies evenly. For the sake of their friendship, any candies left over would be smashed. For example, if they collectively bring home 91 candies, they'll take 30 each and smash 1.\n",
    "\n",
    "Below is a simple function that will calculate the number of candies to smash for *any* number of total candies.\n",
    "\n",
    "Modify it so that it optionally takes a second argument representing the number of friends the candies are being split between. If no second argument is provided, it should assume 3 friends, as before.\n",
    "\n",
    "Update the docstring to reflect this new behaviour."
   ]
  },
  {
   "cell_type": "code",
   "execution_count": 6,
   "id": "f4ca7c32",
   "metadata": {
    "execution": {
     "iopub.execute_input": "2022-07-04T19:14:10.177313Z",
     "iopub.status.busy": "2022-07-04T19:14:10.176580Z",
     "iopub.status.idle": "2022-07-04T19:14:10.188061Z",
     "shell.execute_reply": "2022-07-04T19:14:10.185925Z"
    },
    "papermill": {
     "duration": 0.022097,
     "end_time": "2022-07-04T19:14:10.190803",
     "exception": false,
     "start_time": "2022-07-04T19:14:10.168706",
     "status": "completed"
    },
    "tags": []
   },
   "outputs": [
    {
     "data": {
      "application/javascript": [
       "parent.postMessage({\"jupyterEvent\": \"custom.exercise_interaction\", \"data\": {\"outcomeType\": 1, \"valueTowardsCompletion\": 0.16666666666666666, \"interactionType\": 1, \"questionType\": 2, \"questionId\": \"3_CandySmashingFunctionProblem\", \"learnToolsVersion\": \"0.3.4\", \"failureMessage\": \"\", \"exceptionClass\": \"\", \"trace\": \"\"}}, \"*\")"
      ],
      "text/plain": [
       "<IPython.core.display.Javascript object>"
      ]
     },
     "metadata": {},
     "output_type": "display_data"
    },
    {
     "data": {
      "text/markdown": [
       "<span style=\"color:#33cc33\">Correct</span>"
      ],
      "text/plain": [
       "Correct"
      ]
     },
     "metadata": {},
     "output_type": "display_data"
    }
   ],
   "source": [
    "def to_smash(total_candies, num_friends=3):\n",
    "    return total_candies % num_friends\n",
    "\n",
    "# Check your answer\n",
    "q3.check()"
   ]
  },
  {
   "cell_type": "code",
   "execution_count": 7,
   "id": "e09e558a",
   "metadata": {
    "execution": {
     "iopub.execute_input": "2022-07-04T19:14:10.208168Z",
     "iopub.status.busy": "2022-07-04T19:14:10.206979Z",
     "iopub.status.idle": "2022-07-04T19:14:10.213130Z",
     "shell.execute_reply": "2022-07-04T19:14:10.211959Z"
    },
    "papermill": {
     "duration": 0.018279,
     "end_time": "2022-07-04T19:14:10.215729",
     "exception": false,
     "start_time": "2022-07-04T19:14:10.197450",
     "status": "completed"
    },
    "tags": []
   },
   "outputs": [],
   "source": [
    "#q3.hint()"
   ]
  },
  {
   "cell_type": "code",
   "execution_count": 8,
   "id": "7ae5c82e",
   "metadata": {
    "execution": {
     "iopub.execute_input": "2022-07-04T19:14:10.231001Z",
     "iopub.status.busy": "2022-07-04T19:14:10.230118Z",
     "iopub.status.idle": "2022-07-04T19:14:10.234518Z",
     "shell.execute_reply": "2022-07-04T19:14:10.233745Z"
    },
    "papermill": {
     "duration": 0.014528,
     "end_time": "2022-07-04T19:14:10.236836",
     "exception": false,
     "start_time": "2022-07-04T19:14:10.222308",
     "status": "completed"
    },
    "tags": []
   },
   "outputs": [],
   "source": [
    "#q3.solution()"
   ]
  },
  {
   "cell_type": "markdown",
   "id": "d260fdaf",
   "metadata": {
    "papermill": {
     "duration": 0.006125,
     "end_time": "2022-07-04T19:14:10.249400",
     "exception": false,
     "start_time": "2022-07-04T19:14:10.243275",
     "status": "completed"
    },
    "tags": []
   },
   "source": [
    "# 4. (Optional)\n",
    "\n",
    "It may not be fun, but reading and understanding error messages will be an important part of your Python career.\n",
    "\n",
    "Each code cell below contains some commented buggy code. For each cell...\n",
    "\n",
    "1. Read the code and predict what you think will happen when it's run.\n",
    "2. Then uncomment the code and run it to see what happens. (**Tip**: In the kernel editor, you can highlight several lines and press `ctrl`+`/` to toggle commenting.)\n",
    "3. Fix the code (so that it accomplishes its intended purpose without throwing an exception)\n",
    "\n",
    "<!-- TODO: should this be autochecked? Delta is probably pretty small. -->"
   ]
  },
  {
   "cell_type": "code",
   "execution_count": 9,
   "id": "5011dde8",
   "metadata": {
    "execution": {
     "iopub.execute_input": "2022-07-04T19:14:10.263905Z",
     "iopub.status.busy": "2022-07-04T19:14:10.263265Z",
     "iopub.status.idle": "2022-07-04T19:14:10.270407Z",
     "shell.execute_reply": "2022-07-04T19:14:10.269359Z"
    },
    "papermill": {
     "duration": 0.017048,
     "end_time": "2022-07-04T19:14:10.272752",
     "exception": false,
     "start_time": "2022-07-04T19:14:10.255704",
     "status": "completed"
    },
    "tags": []
   },
   "outputs": [
    {
     "data": {
      "text/plain": [
       "10.0"
      ]
     },
     "execution_count": 9,
     "metadata": {},
     "output_type": "execute_result"
    }
   ],
   "source": [
    "round_to_two_places(9.9999)"
   ]
  },
  {
   "cell_type": "code",
   "execution_count": 10,
   "id": "854cfee4",
   "metadata": {
    "execution": {
     "iopub.execute_input": "2022-07-04T19:14:10.288454Z",
     "iopub.status.busy": "2022-07-04T19:14:10.287828Z",
     "iopub.status.idle": "2022-07-04T19:14:10.294860Z",
     "shell.execute_reply": "2022-07-04T19:14:10.293695Z"
    },
    "papermill": {
     "duration": 0.01936,
     "end_time": "2022-07-04T19:14:10.298661",
     "exception": false,
     "start_time": "2022-07-04T19:14:10.279301",
     "status": "completed"
    },
    "tags": []
   },
   "outputs": [
    {
     "name": "stdout",
     "output_type": "stream",
     "text": [
      "y\n"
     ]
    }
   ],
   "source": [
    "x = -10\n",
    "y = 5\n",
    "# Which of the two variables above has the smallest absolute value?\n",
    "smallest_abs = min(abs(x), abs(y))\n",
    "if (smallest_abs == abs(y)):\n",
    "    print('y')\n",
    "else:\n",
    "    print('x')"
   ]
  },
  {
   "cell_type": "code",
   "execution_count": 11,
   "id": "b25528c0",
   "metadata": {
    "execution": {
     "iopub.execute_input": "2022-07-04T19:14:10.315788Z",
     "iopub.status.busy": "2022-07-04T19:14:10.315023Z",
     "iopub.status.idle": "2022-07-04T19:14:10.320720Z",
     "shell.execute_reply": "2022-07-04T19:14:10.319870Z"
    },
    "papermill": {
     "duration": 0.016516,
     "end_time": "2022-07-04T19:14:10.323034",
     "exception": false,
     "start_time": "2022-07-04T19:14:10.306518",
     "status": "completed"
    },
    "tags": []
   },
   "outputs": [
    {
     "name": "stdout",
     "output_type": "stream",
     "text": [
      "5\n"
     ]
    }
   ],
   "source": [
    "def f(x):\n",
    "    y = abs(x)\n",
    "    return y\n",
    "\n",
    "print(f(5))"
   ]
  },
  {
   "cell_type": "markdown",
   "id": "57626f77",
   "metadata": {
    "papermill": {
     "duration": 0.006998,
     "end_time": "2022-07-04T19:14:10.336872",
     "exception": false,
     "start_time": "2022-07-04T19:14:10.329874",
     "status": "completed"
    },
    "tags": []
   },
   "source": [
    "# Keep Going\n",
    "\n",
    "Nice job with the code. Next up, you'll learn about *conditionals*, which you'll need to **[write interesting programs](https://www.kaggle.com/colinmorris/booleans-and-conditionals)**. "
   ]
  },
  {
   "cell_type": "markdown",
   "id": "a760d9d9",
   "metadata": {
    "papermill": {
     "duration": 0.006457,
     "end_time": "2022-07-04T19:14:10.350186",
     "exception": false,
     "start_time": "2022-07-04T19:14:10.343729",
     "status": "completed"
    },
    "tags": []
   },
   "source": [
    "---\n",
    "\n",
    "\n",
    "\n",
    "\n",
    "*Have questions or comments? Visit the [course discussion forum](https://www.kaggle.com/learn/python/discussion) to chat with other learners.*"
   ]
  }
 ],
 "metadata": {
  "kernelspec": {
   "display_name": "Python 3",
   "language": "python",
   "name": "python3"
  },
  "language_info": {
   "codemirror_mode": {
    "name": "ipython",
    "version": 3
   },
   "file_extension": ".py",
   "mimetype": "text/x-python",
   "name": "python",
   "nbconvert_exporter": "python",
   "pygments_lexer": "ipython3",
   "version": "3.7.12"
  },
  "papermill": {
   "default_parameters": {},
   "duration": 11.708804,
   "end_time": "2022-07-04T19:14:11.079199",
   "environment_variables": {},
   "exception": null,
   "input_path": "__notebook__.ipynb",
   "output_path": "__notebook__.ipynb",
   "parameters": {},
   "start_time": "2022-07-04T19:13:59.370395",
   "version": "2.3.4"
  }
 },
 "nbformat": 4,
 "nbformat_minor": 5
}

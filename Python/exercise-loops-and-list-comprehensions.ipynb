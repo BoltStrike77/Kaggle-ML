{
 "cells": [
  {
   "cell_type": "markdown",
   "id": "3dd58a1c",
   "metadata": {
    "papermill": {
     "duration": 0.005673,
     "end_time": "2022-07-14T23:18:33.648956",
     "exception": false,
     "start_time": "2022-07-14T23:18:33.643283",
     "status": "completed"
    },
    "tags": []
   },
   "source": [
    "**This notebook is an exercise in the [Python](https://www.kaggle.com/learn/python) course.  You can reference the tutorial at [this link](https://www.kaggle.com/colinmorris/loops-and-list-comprehensions).**\n",
    "\n",
    "---\n"
   ]
  },
  {
   "cell_type": "markdown",
   "id": "8df3cff2",
   "metadata": {
    "papermill": {
     "duration": 0.003891,
     "end_time": "2022-07-14T23:18:33.657271",
     "exception": false,
     "start_time": "2022-07-14T23:18:33.653380",
     "status": "completed"
    },
    "tags": []
   },
   "source": [
    "With all you've learned, you can start writing much more interesting programs. See if you can solve the problems below.\n",
    "\n",
    "As always, run the setup code below before working on the questions."
   ]
  },
  {
   "cell_type": "code",
   "execution_count": 1,
   "id": "62840676",
   "metadata": {
    "execution": {
     "iopub.execute_input": "2022-07-14T23:18:33.668414Z",
     "iopub.status.busy": "2022-07-14T23:18:33.667374Z",
     "iopub.status.idle": "2022-07-14T23:18:33.732244Z",
     "shell.execute_reply": "2022-07-14T23:18:33.730879Z"
    },
    "papermill": {
     "duration": 0.073222,
     "end_time": "2022-07-14T23:18:33.734574",
     "exception": false,
     "start_time": "2022-07-14T23:18:33.661352",
     "status": "completed"
    },
    "tags": []
   },
   "outputs": [
    {
     "name": "stdout",
     "output_type": "stream",
     "text": [
      "Setup complete.\n"
     ]
    }
   ],
   "source": [
    "from learntools.core import binder; binder.bind(globals())\n",
    "from learntools.python.ex5 import *\n",
    "print('Setup complete.')"
   ]
  },
  {
   "cell_type": "markdown",
   "id": "6bfd2c36",
   "metadata": {
    "papermill": {
     "duration": 0.004522,
     "end_time": "2022-07-14T23:18:33.744261",
     "exception": false,
     "start_time": "2022-07-14T23:18:33.739739",
     "status": "completed"
    },
    "tags": []
   },
   "source": [
    "# 1.\n",
    "\n",
    "Have you ever felt debugging involved a bit of luck? The following program has a bug. Try to identify the bug and fix it."
   ]
  },
  {
   "cell_type": "code",
   "execution_count": 2,
   "id": "6c3a4419",
   "metadata": {
    "execution": {
     "iopub.execute_input": "2022-07-14T23:18:33.756341Z",
     "iopub.status.busy": "2022-07-14T23:18:33.755325Z",
     "iopub.status.idle": "2022-07-14T23:18:33.762537Z",
     "shell.execute_reply": "2022-07-14T23:18:33.761462Z"
    },
    "papermill": {
     "duration": 0.015882,
     "end_time": "2022-07-14T23:18:33.764786",
     "exception": false,
     "start_time": "2022-07-14T23:18:33.748904",
     "status": "completed"
    },
    "tags": []
   },
   "outputs": [],
   "source": [
    "def has_lucky_number(nums):\n",
    "    \"\"\"Return whether the given list of numbers is lucky. A lucky list contains\n",
    "    at least one number divisible by 7.\n",
    "    \"\"\"\n",
    "    for num in nums:\n",
    "        if num % 7 == 0:\n",
    "            return True\n",
    "        else:\n",
    "            return False"
   ]
  },
  {
   "cell_type": "markdown",
   "id": "663d7387",
   "metadata": {
    "papermill": {
     "duration": 0.004166,
     "end_time": "2022-07-14T23:18:33.773426",
     "exception": false,
     "start_time": "2022-07-14T23:18:33.769260",
     "status": "completed"
    },
    "tags": []
   },
   "source": [
    "Try to identify the bug and fix it in the cell below:"
   ]
  },
  {
   "cell_type": "code",
   "execution_count": 3,
   "id": "c5bb2ce6",
   "metadata": {
    "execution": {
     "iopub.execute_input": "2022-07-14T23:18:33.784641Z",
     "iopub.status.busy": "2022-07-14T23:18:33.783693Z",
     "iopub.status.idle": "2022-07-14T23:18:33.798478Z",
     "shell.execute_reply": "2022-07-14T23:18:33.797256Z"
    },
    "papermill": {
     "duration": 0.022872,
     "end_time": "2022-07-14T23:18:33.800542",
     "exception": false,
     "start_time": "2022-07-14T23:18:33.777670",
     "status": "completed"
    },
    "tags": []
   },
   "outputs": [
    {
     "name": "stdout",
     "output_type": "stream",
     "text": [
      "7\n",
      "14\n",
      "3\n",
      "14\n",
      "3\n",
      "21\n",
      "7\n",
      "3\n",
      "3\n",
      "4\n",
      "5\n"
     ]
    },
    {
     "data": {
      "application/javascript": [
       "parent.postMessage({\"jupyterEvent\": \"custom.exercise_interaction\", \"data\": {\"outcomeType\": 1, \"valueTowardsCompletion\": 0.25, \"interactionType\": 1, \"questionType\": 2, \"questionId\": \"1_EarlyExitDebugging\", \"learnToolsVersion\": \"0.3.4\", \"failureMessage\": \"\", \"exceptionClass\": \"\", \"trace\": \"\"}}, \"*\")"
      ],
      "text/plain": [
       "<IPython.core.display.Javascript object>"
      ]
     },
     "metadata": {},
     "output_type": "display_data"
    },
    {
     "data": {
      "text/markdown": [
       "<span style=\"color:#33cc33\">Correct:</span> \n",
       "\n",
       "Remember that `return` causes a function to exit immediately. So our original implementation always ran for just one iteration. We can only return `False` if we've looked at every element of the list (and confirmed that none of them are lucky). Though we can return early if the answer is `True`:\n",
       "\n",
       "```python\n",
       "def has_lucky_number(nums):\n",
       "    for num in nums:\n",
       "        if num % 7 == 0:\n",
       "            return True\n",
       "    # We've exhausted the list without finding a lucky number\n",
       "    return False\n",
       "```\n",
       "\n",
       "Here's a one-line version using a list comprehension with Python's `any` function (you can read about what it does by calling `help(any)`):\n",
       "\n",
       "```python\n",
       "def has_lucky_number(nums):\n",
       "    return any([num % 7 == 0 for num in nums])\n",
       "```\n"
      ],
      "text/plain": [
       "Correct: \n",
       "\n",
       "Remember that `return` causes a function to exit immediately. So our original implementation always ran for just one iteration. We can only return `False` if we've looked at every element of the list (and confirmed that none of them are lucky). Though we can return early if the answer is `True`:\n",
       "\n",
       "```python\n",
       "def has_lucky_number(nums):\n",
       "    for num in nums:\n",
       "        if num % 7 == 0:\n",
       "            return True\n",
       "    # We've exhausted the list without finding a lucky number\n",
       "    return False\n",
       "```\n",
       "\n",
       "Here's a one-line version using a list comprehension with Python's `any` function (you can read about what it does by calling `help(any)`):\n",
       "\n",
       "```python\n",
       "def has_lucky_number(nums):\n",
       "    return any([num % 7 == 0 for num in nums])\n",
       "```"
      ]
     },
     "metadata": {},
     "output_type": "display_data"
    }
   ],
   "source": [
    "def has_lucky_number(nums):\n",
    "    for num in nums:\n",
    "        print(num)\n",
    "        if num % 7 == 0:\n",
    "            return True\n",
    "    return False\n",
    "\n",
    "# Check your answer\n",
    "q1.check()"
   ]
  },
  {
   "cell_type": "code",
   "execution_count": 4,
   "id": "96aa024b",
   "metadata": {
    "execution": {
     "iopub.execute_input": "2022-07-14T23:18:33.812910Z",
     "iopub.status.busy": "2022-07-14T23:18:33.811591Z",
     "iopub.status.idle": "2022-07-14T23:18:33.816857Z",
     "shell.execute_reply": "2022-07-14T23:18:33.815784Z"
    },
    "papermill": {
     "duration": 0.013714,
     "end_time": "2022-07-14T23:18:33.818984",
     "exception": false,
     "start_time": "2022-07-14T23:18:33.805270",
     "status": "completed"
    },
    "tags": []
   },
   "outputs": [],
   "source": [
    "#q1.hint()\n",
    "#q1.solution()"
   ]
  },
  {
   "cell_type": "markdown",
   "id": "e8e9ed61",
   "metadata": {
    "papermill": {
     "duration": 0.004562,
     "end_time": "2022-07-14T23:18:33.828415",
     "exception": false,
     "start_time": "2022-07-14T23:18:33.823853",
     "status": "completed"
    },
    "tags": []
   },
   "source": [
    "# 2.\n",
    "Look at the Python expression below. What do you think we'll get when we run it? When you've made your prediction, uncomment the code and run the cell to see if you were right."
   ]
  },
  {
   "cell_type": "code",
   "execution_count": 5,
   "id": "3a4326a8",
   "metadata": {
    "execution": {
     "iopub.execute_input": "2022-07-14T23:18:33.840906Z",
     "iopub.status.busy": "2022-07-14T23:18:33.839819Z",
     "iopub.status.idle": "2022-07-14T23:18:33.852366Z",
     "shell.execute_reply": "2022-07-14T23:18:33.851076Z"
    },
    "papermill": {
     "duration": 0.021519,
     "end_time": "2022-07-14T23:18:33.854639",
     "exception": false,
     "start_time": "2022-07-14T23:18:33.833120",
     "status": "completed"
    },
    "tags": []
   },
   "outputs": [
    {
     "data": {
      "application/javascript": [
       "parent.postMessage({\"jupyterEvent\": \"custom.exercise_interaction\", \"data\": {\"outcomeType\": 1, \"valueTowardsCompletion\": 0.25, \"interactionType\": 1, \"questionType\": 2, \"questionId\": \"2_ElementWiseComparison\", \"learnToolsVersion\": \"0.3.4\", \"failureMessage\": \"\", \"exceptionClass\": \"\", \"trace\": \"\"}}, \"*\")"
      ],
      "text/plain": [
       "<IPython.core.display.Javascript object>"
      ]
     },
     "metadata": {},
     "output_type": "display_data"
    },
    {
     "data": {
      "text/markdown": [
       "<span style=\"color:#33cc33\">Correct:</span> \n",
       "\n",
       "Here's one solution:\n",
       "```python\n",
       "def elementwise_greater_than(L, thresh):\n",
       "    res = []\n",
       "    for ele in L:\n",
       "        res.append(ele > thresh)\n",
       "    return res\n",
       "```\n",
       "\n",
       "And here's the list comprehension version:\n",
       "```python\n",
       "def elementwise_greater_than(L, thresh):\n",
       "    return [ele > thresh for ele in L]\n",
       "```\n"
      ],
      "text/plain": [
       "Correct: \n",
       "\n",
       "Here's one solution:\n",
       "```python\n",
       "def elementwise_greater_than(L, thresh):\n",
       "    res = []\n",
       "    for ele in L:\n",
       "        res.append(ele > thresh)\n",
       "    return res\n",
       "```\n",
       "\n",
       "And here's the list comprehension version:\n",
       "```python\n",
       "def elementwise_greater_than(L, thresh):\n",
       "    return [ele > thresh for ele in L]\n",
       "```"
      ]
     },
     "metadata": {},
     "output_type": "display_data"
    }
   ],
   "source": [
    "def elementwise_greater_than(L, thresh):\n",
    "    results = []\n",
    "    for i in L:\n",
    "       results.append(i > thresh)\n",
    "    return results\n",
    "\n",
    "# Check your answer\n",
    "q2.check()"
   ]
  },
  {
   "cell_type": "code",
   "execution_count": 6,
   "id": "42cba457",
   "metadata": {
    "execution": {
     "iopub.execute_input": "2022-07-14T23:18:33.867730Z",
     "iopub.status.busy": "2022-07-14T23:18:33.866701Z",
     "iopub.status.idle": "2022-07-14T23:18:33.872604Z",
     "shell.execute_reply": "2022-07-14T23:18:33.871469Z"
    },
    "papermill": {
     "duration": 0.015071,
     "end_time": "2022-07-14T23:18:33.874908",
     "exception": false,
     "start_time": "2022-07-14T23:18:33.859837",
     "status": "completed"
    },
    "tags": []
   },
   "outputs": [],
   "source": [
    "#q2.solution()"
   ]
  },
  {
   "cell_type": "markdown",
   "id": "171ce065",
   "metadata": {
    "papermill": {
     "duration": 0.004496,
     "end_time": "2022-07-14T23:18:33.884439",
     "exception": false,
     "start_time": "2022-07-14T23:18:33.879943",
     "status": "completed"
    },
    "tags": []
   },
   "source": [
    "# 3.\n",
    "\n",
    "Complete the body of the function below according to its docstring."
   ]
  },
  {
   "cell_type": "code",
   "execution_count": 7,
   "id": "118ebb17",
   "metadata": {
    "execution": {
     "iopub.execute_input": "2022-07-14T23:18:33.897053Z",
     "iopub.status.busy": "2022-07-14T23:18:33.896035Z",
     "iopub.status.idle": "2022-07-14T23:18:33.908082Z",
     "shell.execute_reply": "2022-07-14T23:18:33.906970Z"
    },
    "papermill": {
     "duration": 0.021011,
     "end_time": "2022-07-14T23:18:33.910295",
     "exception": false,
     "start_time": "2022-07-14T23:18:33.889284",
     "status": "completed"
    },
    "tags": []
   },
   "outputs": [
    {
     "data": {
      "application/javascript": [
       "parent.postMessage({\"jupyterEvent\": \"custom.exercise_interaction\", \"data\": {\"outcomeType\": 1, \"valueTowardsCompletion\": 0.25, \"interactionType\": 1, \"questionType\": 2, \"questionId\": \"3_BoringMenu\", \"learnToolsVersion\": \"0.3.4\", \"failureMessage\": \"\", \"exceptionClass\": \"\", \"trace\": \"\"}}, \"*\")"
      ],
      "text/plain": [
       "<IPython.core.display.Javascript object>"
      ]
     },
     "metadata": {},
     "output_type": "display_data"
    },
    {
     "data": {
      "text/markdown": [
       "<span style=\"color:#33cc33\">Correct:</span> \n",
       "\n",
       "\n",
       "\n",
       "```python\n",
       "def menu_is_boring(meals):\n",
       "    # Iterate over all indices of the list, except the last one\n",
       "    for i in range(len(meals)-1):\n",
       "        if meals[i] == meals[i+1]:\n",
       "            return True\n",
       "    return False\n",
       "```\n",
       "\n",
       "The key to our solution is the call to `range`. `range(len(meals))` would give us all the indices of `meals`. If we had used that range, the last iteration of the loop would be comparing the last element to the element after it, which is... `IndexError`! `range(len(meals)-1)` gives us all the indices except the index of the last element.\n",
       "\n",
       "But don't we need to check if `meals` is empty? Turns out that `range(0) == range(-1)` - they're both empty. So if `meals` has length 0 or 1, we just won't do any iterations of our for loop.\n"
      ],
      "text/plain": [
       "Correct: \n",
       "\n",
       "\n",
       "\n",
       "```python\n",
       "def menu_is_boring(meals):\n",
       "    # Iterate over all indices of the list, except the last one\n",
       "    for i in range(len(meals)-1):\n",
       "        if meals[i] == meals[i+1]:\n",
       "            return True\n",
       "    return False\n",
       "```\n",
       "\n",
       "The key to our solution is the call to `range`. `range(len(meals))` would give us all the indices of `meals`. If we had used that range, the last iteration of the loop would be comparing the last element to the element after it, which is... `IndexError`! `range(len(meals)-1)` gives us all the indices except the index of the last element.\n",
       "\n",
       "But don't we need to check if `meals` is empty? Turns out that `range(0) == range(-1)` - they're both empty. So if `meals` has length 0 or 1, we just won't do any iterations of our for loop."
      ]
     },
     "metadata": {},
     "output_type": "display_data"
    }
   ],
   "source": [
    "def menu_is_boring(meals):\n",
    "    for i in range(len(meals) - 1):\n",
    "        if meals[i] == meals[i+1]:\n",
    "            return True\n",
    "    return False\n",
    "\n",
    "# Check your answer\n",
    "q3.check()"
   ]
  },
  {
   "cell_type": "code",
   "execution_count": 8,
   "id": "e6b7846a",
   "metadata": {
    "execution": {
     "iopub.execute_input": "2022-07-14T23:18:33.924023Z",
     "iopub.status.busy": "2022-07-14T23:18:33.923039Z",
     "iopub.status.idle": "2022-07-14T23:18:33.927933Z",
     "shell.execute_reply": "2022-07-14T23:18:33.926912Z"
    },
    "papermill": {
     "duration": 0.014363,
     "end_time": "2022-07-14T23:18:33.930158",
     "exception": false,
     "start_time": "2022-07-14T23:18:33.915795",
     "status": "completed"
    },
    "tags": []
   },
   "outputs": [],
   "source": [
    "#q3.hint()\n",
    "#q3.solution()"
   ]
  },
  {
   "cell_type": "markdown",
   "id": "746926ed",
   "metadata": {
    "papermill": {
     "duration": 0.00501,
     "end_time": "2022-07-14T23:18:33.940421",
     "exception": false,
     "start_time": "2022-07-14T23:18:33.935411",
     "status": "completed"
    },
    "tags": []
   },
   "source": [
    "# 4. <span title=\"A bit spicy\" style=\"color: darkgreen \">🌶️</span>\n",
    "\n",
    "Next to the Blackjack table, the Python Challenge Casino has a slot machine. You can get a result from the slot machine by calling `play_slot_machine()`. The number it returns is your winnings in dollars. Usually it returns 0.  But sometimes you'll get lucky and get a big payday. Try running it below:"
   ]
  },
  {
   "cell_type": "code",
   "execution_count": 9,
   "id": "75987eb8",
   "metadata": {
    "execution": {
     "iopub.execute_input": "2022-07-14T23:18:33.955086Z",
     "iopub.status.busy": "2022-07-14T23:18:33.954321Z",
     "iopub.status.idle": "2022-07-14T23:18:33.959967Z",
     "shell.execute_reply": "2022-07-14T23:18:33.959206Z"
    },
    "papermill": {
     "duration": 0.015469,
     "end_time": "2022-07-14T23:18:33.961697",
     "exception": false,
     "start_time": "2022-07-14T23:18:33.946228",
     "status": "completed"
    },
    "tags": []
   },
   "outputs": [
    {
     "data": {
      "text/plain": [
       "0"
      ]
     },
     "execution_count": 9,
     "metadata": {},
     "output_type": "execute_result"
    }
   ],
   "source": [
    "play_slot_machine()"
   ]
  },
  {
   "cell_type": "markdown",
   "id": "65b44932",
   "metadata": {
    "papermill": {
     "duration": 0.004984,
     "end_time": "2022-07-14T23:18:33.971833",
     "exception": false,
     "start_time": "2022-07-14T23:18:33.966849",
     "status": "completed"
    },
    "tags": []
   },
   "source": [
    "By the way, did we mention that each play costs $1? Don't worry, we'll send you the bill later.\n",
    "\n",
    "On average, how much money can you expect to gain (or lose) every time you play the machine?  The casino keeps it a secret, but you can estimate the average value of each pull using a technique called the **Monte Carlo method**. To estimate the average outcome, we simulate the scenario many times, and return the average result.\n",
    "\n",
    "Complete the following function to calculate the average value per play of the slot machine."
   ]
  },
  {
   "cell_type": "code",
   "execution_count": 10,
   "id": "7542ab8a",
   "metadata": {
    "execution": {
     "iopub.execute_input": "2022-07-14T23:18:33.985614Z",
     "iopub.status.busy": "2022-07-14T23:18:33.984808Z",
     "iopub.status.idle": "2022-07-14T23:23:03.007099Z",
     "shell.execute_reply": "2022-07-14T23:23:03.005774Z"
    },
    "papermill": {
     "duration": 269.036461,
     "end_time": "2022-07-14T23:23:03.014356",
     "exception": false,
     "start_time": "2022-07-14T23:18:33.977895",
     "status": "completed"
    },
    "tags": []
   },
   "outputs": [
    {
     "data": {
      "text/plain": [
       "1.0249936265"
      ]
     },
     "execution_count": 10,
     "metadata": {},
     "output_type": "execute_result"
    }
   ],
   "source": [
    "def estimate_average_slot_payout(n_runs):\n",
    "    sum = 0\n",
    "    for i in range(n_runs):\n",
    "        sum += play_slot_machine()\n",
    "    return sum / n_runs\n",
    "\n",
    "estimate_average_slot_payout(1000000000)"
   ]
  },
  {
   "cell_type": "markdown",
   "id": "203a2b9c",
   "metadata": {
    "papermill": {
     "duration": 0.00521,
     "end_time": "2022-07-14T23:23:03.025279",
     "exception": false,
     "start_time": "2022-07-14T23:23:03.020069",
     "status": "completed"
    },
    "tags": []
   },
   "source": [
    "When you think you know the expected value per spin, run the code cell below to view the solution and get credit for answering the question."
   ]
  },
  {
   "cell_type": "code",
   "execution_count": 11,
   "id": "21fc0995",
   "metadata": {
    "execution": {
     "iopub.execute_input": "2022-07-14T23:23:03.038596Z",
     "iopub.status.busy": "2022-07-14T23:23:03.038159Z",
     "iopub.status.idle": "2022-07-14T23:23:03.045561Z",
     "shell.execute_reply": "2022-07-14T23:23:03.044841Z"
    },
    "papermill": {
     "duration": 0.016246,
     "end_time": "2022-07-14T23:23:03.047420",
     "exception": false,
     "start_time": "2022-07-14T23:23:03.031174",
     "status": "completed"
    },
    "tags": []
   },
   "outputs": [
    {
     "data": {
      "application/javascript": [
       "parent.postMessage({\"jupyterEvent\": \"custom.exercise_interaction\", \"data\": {\"interactionType\": 3, \"questionType\": 4, \"questionId\": \"4_ExpectedSlotsPayout\", \"learnToolsVersion\": \"0.3.4\", \"valueTowardsCompletion\": 0.0, \"failureMessage\": \"\", \"exceptionClass\": \"\", \"trace\": \"\", \"outcomeType\": 4}}, \"*\")"
      ],
      "text/plain": [
       "<IPython.core.display.Javascript object>"
      ]
     },
     "metadata": {},
     "output_type": "display_data"
    },
    {
     "data": {
      "text/markdown": [
       "<span style=\"color:#33cc99\">Solution:</span> \n",
       "    \n",
       "The exact expected value of one pull of the slot machine is 0.025 - i.e. a little more than 2 cents.  See?  Not every game in the Python Challenge Casino is rigged against the player!\n",
       "\n",
       "In order to get this answer, you'll need to implement the `estimate_average_slot_payout(n_runs)` function to simulate pulling the slot machine `n_runs` times.  It should return the payout averaged over those `n_runs`.\n",
       "\n",
       "Then, once the function is defined, in order to estimate the average slot payout, we need only call the function.\n",
       "\n",
       "Because of the high variance of the outcome (there are some very rare high payout results that significantly affect the average) you might need to run your function with a very high value of `n_runs` to get a stable answer close to the true expectation.  For instance, you might use a value for `n_runs` of 1000000.\n",
       "\n",
       "Here's an example for how the function could look:\n",
       "```python\n",
       "def estimate_average_slot_payout(n_runs):\n",
       "    # Play slot machine n_runs times, calculate payout of each\n",
       "    payouts = [play_slot_machine()-1 for i in range(n_runs)]\n",
       "    # Calculate the average value\n",
       "    avg_payout = sum(payouts) / n_runs\n",
       "    return avg_payout\n",
       "    \n",
       "estimate_average_slot_payout(10000000)\n",
       "\n",
       "```\n",
       "\n",
       "This should return an answer close to 0.025!\n",
       "            \n"
      ],
      "text/plain": [
       "Solution: \n",
       "    \n",
       "The exact expected value of one pull of the slot machine is 0.025 - i.e. a little more than 2 cents.  See?  Not every game in the Python Challenge Casino is rigged against the player!\n",
       "\n",
       "In order to get this answer, you'll need to implement the `estimate_average_slot_payout(n_runs)` function to simulate pulling the slot machine `n_runs` times.  It should return the payout averaged over those `n_runs`.\n",
       "\n",
       "Then, once the function is defined, in order to estimate the average slot payout, we need only call the function.\n",
       "\n",
       "Because of the high variance of the outcome (there are some very rare high payout results that significantly affect the average) you might need to run your function with a very high value of `n_runs` to get a stable answer close to the true expectation.  For instance, you might use a value for `n_runs` of 1000000.\n",
       "\n",
       "Here's an example for how the function could look:\n",
       "```python\n",
       "def estimate_average_slot_payout(n_runs):\n",
       "    # Play slot machine n_runs times, calculate payout of each\n",
       "    payouts = [play_slot_machine()-1 for i in range(n_runs)]\n",
       "    # Calculate the average value\n",
       "    avg_payout = sum(payouts) / n_runs\n",
       "    return avg_payout\n",
       "    \n",
       "estimate_average_slot_payout(10000000)\n",
       "\n",
       "```\n",
       "\n",
       "This should return an answer close to 0.025!\n",
       "            "
      ]
     },
     "metadata": {},
     "output_type": "display_data"
    }
   ],
   "source": [
    "# Check your answer (Run this code cell to receive credit!)\n",
    "q4.solution()"
   ]
  },
  {
   "cell_type": "markdown",
   "id": "b4fc7a2e",
   "metadata": {
    "papermill": {
     "duration": 0.005366,
     "end_time": "2022-07-14T23:23:03.058419",
     "exception": false,
     "start_time": "2022-07-14T23:23:03.053053",
     "status": "completed"
    },
    "tags": []
   },
   "source": [
    "# Keep Going\n",
    "\n",
    "Many programmers report that dictionaries are their favorite data structure. You'll get to **[learn about them](https://www.kaggle.com/colinmorris/strings-and-dictionaries)** (as well as strings) in the next lesson."
   ]
  },
  {
   "cell_type": "markdown",
   "id": "211eeae5",
   "metadata": {
    "papermill": {
     "duration": 0.005253,
     "end_time": "2022-07-14T23:23:03.069136",
     "exception": false,
     "start_time": "2022-07-14T23:23:03.063883",
     "status": "completed"
    },
    "tags": []
   },
   "source": [
    "---\n",
    "\n",
    "\n",
    "\n",
    "\n",
    "*Have questions or comments? Visit the [course discussion forum](https://www.kaggle.com/learn/python/discussion) to chat with other learners.*"
   ]
  }
 ],
 "metadata": {
  "kernelspec": {
   "display_name": "Python 3",
   "language": "python",
   "name": "python3"
  },
  "language_info": {
   "codemirror_mode": {
    "name": "ipython",
    "version": 3
   },
   "file_extension": ".py",
   "mimetype": "text/x-python",
   "name": "python",
   "nbconvert_exporter": "python",
   "pygments_lexer": "ipython3",
   "version": "3.7.12"
  },
  "papermill": {
   "default_parameters": {},
   "duration": 280.255564,
   "end_time": "2022-07-14T23:23:03.898068",
   "environment_variables": {},
   "exception": null,
   "input_path": "__notebook__.ipynb",
   "output_path": "__notebook__.ipynb",
   "parameters": {},
   "start_time": "2022-07-14T23:18:23.642504",
   "version": "2.3.4"
  }
 },
 "nbformat": 4,
 "nbformat_minor": 5
}

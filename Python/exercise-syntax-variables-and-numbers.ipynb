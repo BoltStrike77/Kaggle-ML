{
 "cells": [
  {
   "cell_type": "markdown",
   "id": "4679e444",
   "metadata": {
    "papermill": {
     "duration": 0.010266,
     "end_time": "2022-06-26T18:42:04.907554",
     "exception": false,
     "start_time": "2022-06-26T18:42:04.897288",
     "status": "completed"
    },
    "tags": []
   },
   "source": [
    "**This notebook is an exercise in the [Python](https://www.kaggle.com/learn/python) course.  You can reference the tutorial at [this link](https://www.kaggle.com/colinmorris/hello-python).**\n",
    "\n",
    "---\n"
   ]
  },
  {
   "cell_type": "markdown",
   "id": "23ed41f8",
   "metadata": {
    "papermill": {
     "duration": 0.006049,
     "end_time": "2022-06-26T18:42:04.920893",
     "exception": false,
     "start_time": "2022-06-26T18:42:04.914844",
     "status": "completed"
    },
    "tags": []
   },
   "source": [
    "Welcome to your first set of Python coding problems.  If this is your first time using Kaggle Notebooks, welcome! \n",
    "\n",
    "Notebooks are composed of blocks (called \"cells\") of text and code. Each of these is editable, though you'll mainly be editing the code cells to answer some questions.\n",
    "\n",
    "To get started, try running the code cell below (by pressing the ► button, or clicking on the cell and pressing ctrl+enter on your keyboard)."
   ]
  },
  {
   "cell_type": "code",
   "execution_count": 1,
   "id": "80c0b65b",
   "metadata": {
    "execution": {
     "iopub.execute_input": "2022-06-26T18:42:04.934871Z",
     "iopub.status.busy": "2022-06-26T18:42:04.934426Z",
     "iopub.status.idle": "2022-06-26T18:42:04.945270Z",
     "shell.execute_reply": "2022-06-26T18:42:04.944280Z"
    },
    "papermill": {
     "duration": 0.022032,
     "end_time": "2022-06-26T18:42:04.949181",
     "exception": false,
     "start_time": "2022-06-26T18:42:04.927149",
     "status": "completed"
    },
    "tags": []
   },
   "outputs": [
    {
     "name": "stdout",
     "output_type": "stream",
     "text": [
      "You've successfully run some Python code\n",
      "Congratulations!\n"
     ]
    }
   ],
   "source": [
    "print(\"You've successfully run some Python code\")\n",
    "print(\"Congratulations!\")"
   ]
  },
  {
   "cell_type": "markdown",
   "id": "6a092527",
   "metadata": {
    "papermill": {
     "duration": 0.0054,
     "end_time": "2022-06-26T18:42:04.961547",
     "exception": false,
     "start_time": "2022-06-26T18:42:04.956147",
     "status": "completed"
    },
    "tags": []
   },
   "source": [
    "Try adding another line of code in the cell above and re-running it. \n",
    "\n",
    "Now let's get a little fancier:  Add a new code cell by clicking on an existing code cell, hitting the escape key, and then hitting the `a` or `b` key.  The `a` key will add a cell above the current cell, and `b` adds a cell below.\n",
    "\n",
    "Great! Now you know how to use Notebooks.\n",
    "\n",
    "Each hands-on exercise starts by setting up our feedback and code checking mechanism. Run the code cell below to do that. Then you'll be ready to move on to question 0."
   ]
  },
  {
   "cell_type": "code",
   "execution_count": 2,
   "id": "107af7a7",
   "metadata": {
    "_kg_hide-input": true,
    "_kg_hide-output": true,
    "execution": {
     "iopub.execute_input": "2022-06-26T18:42:04.974865Z",
     "iopub.status.busy": "2022-06-26T18:42:04.974469Z",
     "iopub.status.idle": "2022-06-26T18:42:05.033343Z",
     "shell.execute_reply": "2022-06-26T18:42:05.031996Z"
    },
    "papermill": {
     "duration": 0.06865,
     "end_time": "2022-06-26T18:42:05.035983",
     "exception": false,
     "start_time": "2022-06-26T18:42:04.967333",
     "status": "completed"
    },
    "tags": []
   },
   "outputs": [
    {
     "name": "stdout",
     "output_type": "stream",
     "text": [
      "Setup complete! You're ready to start question 0.\n"
     ]
    }
   ],
   "source": [
    "from learntools.core import binder; binder.bind(globals())\n",
    "from learntools.python.ex1 import *\n",
    "print(\"Setup complete! You're ready to start question 0.\")"
   ]
  },
  {
   "cell_type": "markdown",
   "id": "4fc65763",
   "metadata": {
    "papermill": {
     "duration": 0.005714,
     "end_time": "2022-06-26T18:42:05.048175",
     "exception": false,
     "start_time": "2022-06-26T18:42:05.042461",
     "status": "completed"
    },
    "tags": []
   },
   "source": [
    "# 0.\n",
    "\n",
    "*This is a silly question intended as an introduction to the format we use for hands-on exercises throughout all Kaggle courses.*\n",
    "\n",
    "**What is your favorite color? **\n",
    "\n",
    "To complete this question, create a variable called `color` in the cell below with an appropriate value. The function call `q0.check()` (which we've already provided in the cell below) will check your answer."
   ]
  },
  {
   "cell_type": "code",
   "execution_count": 3,
   "id": "87ce59a1",
   "metadata": {
    "execution": {
     "iopub.execute_input": "2022-06-26T18:42:05.061385Z",
     "iopub.status.busy": "2022-06-26T18:42:05.060685Z",
     "iopub.status.idle": "2022-06-26T18:42:05.071966Z",
     "shell.execute_reply": "2022-06-26T18:42:05.070848Z"
    },
    "papermill": {
     "duration": 0.020516,
     "end_time": "2022-06-26T18:42:05.074319",
     "exception": false,
     "start_time": "2022-06-26T18:42:05.053803",
     "status": "completed"
    },
    "tags": []
   },
   "outputs": [
    {
     "data": {
      "application/javascript": [
       "parent.postMessage({\"jupyterEvent\": \"custom.exercise_interaction\", \"data\": {\"outcomeType\": 1, \"valueTowardsCompletion\": 0.25, \"interactionType\": 1, \"questionType\": 2, \"questionId\": \"0_ExerciseFormatTutorial\", \"learnToolsVersion\": \"0.3.4\", \"failureMessage\": \"\", \"exceptionClass\": \"\", \"trace\": \"\"}}, \"*\")"
      ],
      "text/plain": [
       "<IPython.core.display.Javascript object>"
      ]
     },
     "metadata": {},
     "output_type": "display_data"
    },
    {
     "data": {
      "text/markdown": [
       "<span style=\"color:#33cc33\">Correct:</span> What?! You got it right without needing a hint or anything? Drats. Well hey, you should still continue to the next step to get some practice asking for a hint and checking solutions. (Even though you obviously don't need any help here.)"
      ],
      "text/plain": [
       "Correct: What?! You got it right without needing a hint or anything? Drats. Well hey, you should still continue to the next step to get some practice asking for a hint and checking solutions. (Even though you obviously don't need any help here.)"
      ]
     },
     "metadata": {},
     "output_type": "display_data"
    }
   ],
   "source": [
    "# create a variable called color with an appropriate value on the line below\n",
    "# (Remember, strings in Python must be enclosed in 'single' or \"double\" quotes)\n",
    "color = \"blue\"\n",
    "\n",
    "# Check your answer\n",
    "q0.check()"
   ]
  },
  {
   "cell_type": "markdown",
   "id": "486b36c6",
   "metadata": {
    "papermill": {
     "duration": 0.005671,
     "end_time": "2022-06-26T18:42:05.086285",
     "exception": false,
     "start_time": "2022-06-26T18:42:05.080614",
     "status": "completed"
    },
    "tags": []
   },
   "source": [
    "Didn't get the right answer? How do you not even know your own favorite color?!\n",
    "\n",
    "Delete the `#` in the line below to make one of the lines run. You can choose between getting a hint or the full answer by choosing which line to remove the `#` from. \n",
    "\n",
    "Removing the `#` is called uncommenting, because it changes that line from a \"comment\" which Python doesn't run to code, which Python does run."
   ]
  },
  {
   "cell_type": "code",
   "execution_count": 4,
   "id": "01744af1",
   "metadata": {
    "execution": {
     "iopub.execute_input": "2022-06-26T18:42:05.100683Z",
     "iopub.status.busy": "2022-06-26T18:42:05.100308Z",
     "iopub.status.idle": "2022-06-26T18:42:05.104565Z",
     "shell.execute_reply": "2022-06-26T18:42:05.103479Z"
    },
    "papermill": {
     "duration": 0.013839,
     "end_time": "2022-06-26T18:42:05.106527",
     "exception": false,
     "start_time": "2022-06-26T18:42:05.092688",
     "status": "completed"
    },
    "tags": []
   },
   "outputs": [],
   "source": [
    "#q0.hint()\n",
    "#q0.solution()"
   ]
  },
  {
   "cell_type": "markdown",
   "id": "13efbba1",
   "metadata": {
    "papermill": {
     "duration": 0.005748,
     "end_time": "2022-06-26T18:42:05.118384",
     "exception": false,
     "start_time": "2022-06-26T18:42:05.112636",
     "status": "completed"
    },
    "tags": []
   },
   "source": [
    "The upcoming questions work the same way. The only thing that will change are the question numbers. For the next question, you'll call `q1.check()`, `q1.hint()`, `q1.solution()`, for question 2, you'll call `q2.check()`, and so on."
   ]
  },
  {
   "cell_type": "markdown",
   "id": "2e3f52d2",
   "metadata": {
    "papermill": {
     "duration": 0.005565,
     "end_time": "2022-06-26T18:42:05.129843",
     "exception": false,
     "start_time": "2022-06-26T18:42:05.124278",
     "status": "completed"
    },
    "tags": []
   },
   "source": [
    "<hr/>\n",
    "\n",
    "# 1.\n",
    "\n",
    "Complete the code below. In case it's helpful, here is the table of available arithmetic operations:\n",
    "\n",
    "\n",
    "\n",
    "| Operator     | Name           | Description                                            |\n",
    "|--------------|----------------|--------------------------------------------------------|\n",
    "| ``a + b``    | Addition       | Sum of ``a`` and ``b``                                 |\n",
    "| ``a - b``    | Subtraction    | Difference of ``a`` and ``b``                          |\n",
    "| ``a * b``    | Multiplication | Product of ``a`` and ``b``                             |\n",
    "| ``a / b``    | True division  | Quotient of ``a`` and ``b``                            |\n",
    "| ``a // b``   | Floor division | Quotient of ``a`` and ``b``, removing fractional parts |\n",
    "| ``a % b``    | Modulus        | Integer remainder after division of ``a`` by ``b``     |\n",
    "| ``a ** b``   | Exponentiation | ``a`` raised to the power of ``b``                     |\n",
    "| ``-a``       | Negation       | The negative of ``a``                                  |\n",
    "\n",
    "<span style=\"display:none\"></span>\n"
   ]
  },
  {
   "cell_type": "code",
   "execution_count": 5,
   "id": "952715c9",
   "metadata": {
    "execution": {
     "iopub.execute_input": "2022-06-26T18:42:05.143462Z",
     "iopub.status.busy": "2022-06-26T18:42:05.143015Z",
     "iopub.status.idle": "2022-06-26T18:42:05.153094Z",
     "shell.execute_reply": "2022-06-26T18:42:05.151956Z"
    },
    "papermill": {
     "duration": 0.01933,
     "end_time": "2022-06-26T18:42:05.155077",
     "exception": false,
     "start_time": "2022-06-26T18:42:05.135747",
     "status": "completed"
    },
    "tags": []
   },
   "outputs": [
    {
     "data": {
      "application/javascript": [
       "parent.postMessage({\"jupyterEvent\": \"custom.exercise_interaction\", \"data\": {\"outcomeType\": 1, \"valueTowardsCompletion\": 0.25, \"interactionType\": 1, \"questionType\": 1, \"questionId\": \"1_CircleArea\", \"learnToolsVersion\": \"0.3.4\", \"failureMessage\": \"\", \"exceptionClass\": \"\", \"trace\": \"\"}}, \"*\")"
      ],
      "text/plain": [
       "<IPython.core.display.Javascript object>"
      ]
     },
     "metadata": {},
     "output_type": "display_data"
    },
    {
     "data": {
      "text/markdown": [
       "<span style=\"color:#33cc33\">Correct</span>"
      ],
      "text/plain": [
       "Correct"
      ]
     },
     "metadata": {},
     "output_type": "display_data"
    }
   ],
   "source": [
    "pi = 3.14159 # approximate\n",
    "diameter = 3\n",
    "\n",
    "# Create a variable called 'radius' equal to half the diameter\n",
    "radius = diameter/2\n",
    "\n",
    "# Create a variable called 'area', using the formula for the area of a circle: pi times the radius squared\n",
    "area = pi * (radius ** 2)\n",
    "\n",
    "# Check your answer\n",
    "q1.check()"
   ]
  },
  {
   "cell_type": "code",
   "execution_count": 6,
   "id": "ef5a8e42",
   "metadata": {
    "execution": {
     "iopub.execute_input": "2022-06-26T18:42:05.169105Z",
     "iopub.status.busy": "2022-06-26T18:42:05.168703Z",
     "iopub.status.idle": "2022-06-26T18:42:05.173616Z",
     "shell.execute_reply": "2022-06-26T18:42:05.172400Z"
    },
    "papermill": {
     "duration": 0.01444,
     "end_time": "2022-06-26T18:42:05.175758",
     "exception": false,
     "start_time": "2022-06-26T18:42:05.161318",
     "status": "completed"
    },
    "tags": []
   },
   "outputs": [],
   "source": [
    "# Uncomment and run the lines below if you need help.\n",
    "#q1.hint()\n",
    "#q1.solution()"
   ]
  },
  {
   "cell_type": "markdown",
   "id": "b53c3ed7",
   "metadata": {
    "papermill": {
     "duration": 0.006365,
     "end_time": "2022-06-26T18:42:05.188275",
     "exception": false,
     "start_time": "2022-06-26T18:42:05.181910",
     "status": "completed"
    },
    "tags": []
   },
   "source": [
    "<hr/>\n",
    "\n",
    "# 2.\n",
    "\n",
    "Add code to the following cell to swap variables `a` and `b` (so that `a` refers to the object previously referred to by `b` and vice versa)."
   ]
  },
  {
   "cell_type": "code",
   "execution_count": 7,
   "id": "423bbe25",
   "metadata": {
    "execution": {
     "iopub.execute_input": "2022-06-26T18:42:05.202110Z",
     "iopub.status.busy": "2022-06-26T18:42:05.201713Z",
     "iopub.status.idle": "2022-06-26T18:42:05.211973Z",
     "shell.execute_reply": "2022-06-26T18:42:05.210684Z"
    },
    "papermill": {
     "duration": 0.019796,
     "end_time": "2022-06-26T18:42:05.214145",
     "exception": false,
     "start_time": "2022-06-26T18:42:05.194349",
     "status": "completed"
    },
    "tags": []
   },
   "outputs": [
    {
     "data": {
      "application/javascript": [
       "parent.postMessage({\"jupyterEvent\": \"custom.exercise_interaction\", \"data\": {\"outcomeType\": 1, \"valueTowardsCompletion\": 0.25, \"interactionType\": 1, \"questionType\": 2, \"questionId\": \"2_VariableSwap\", \"learnToolsVersion\": \"0.3.4\", \"failureMessage\": \"\", \"exceptionClass\": \"\", \"trace\": \"\"}}, \"*\")"
      ],
      "text/plain": [
       "<IPython.core.display.Javascript object>"
      ]
     },
     "metadata": {},
     "output_type": "display_data"
    },
    {
     "data": {
      "text/markdown": [
       "<span style=\"color:#33cc33\">Correct:</span> \n",
       "\n",
       "The most straightforward solution is to use a third variable to temporarily store one of the old values. e.g.:\n",
       "\n",
       "    tmp = a\n",
       "    a = b\n",
       "    b = tmp\n",
       "\n",
       "If you've read lots of Python code, you might have seen the following trick to swap two variables in one line:\n",
       "\n",
       "    a, b = b, a\n",
       "\n",
       "We'll demystify this bit of Python magic later when we talk about *tuples*."
      ],
      "text/plain": [
       "Correct: \n",
       "\n",
       "The most straightforward solution is to use a third variable to temporarily store one of the old values. e.g.:\n",
       "\n",
       "    tmp = a\n",
       "    a = b\n",
       "    b = tmp\n",
       "\n",
       "If you've read lots of Python code, you might have seen the following trick to swap two variables in one line:\n",
       "\n",
       "    a, b = b, a\n",
       "\n",
       "We'll demystify this bit of Python magic later when we talk about *tuples*."
      ]
     },
     "metadata": {},
     "output_type": "display_data"
    }
   ],
   "source": [
    "########### Setup code - don't touch this part ######################\n",
    "# If you're curious, these are examples of lists. We'll talk about \n",
    "# them in depth a few lessons from now. For now, just know that they're\n",
    "# yet another type of Python object, like int or float.\n",
    "a = [1, 2, 3]\n",
    "b = [3, 2, 1]\n",
    "q2.store_original_ids()\n",
    "######################################################################\n",
    "\n",
    "# Your code goes here. Swap the values to which a and b refer.\n",
    "# If you get stuck, you can always uncomment one or both of the lines in\n",
    "# the next cell for a hint, or to peek at the solution.\n",
    "c = b\n",
    "b = a\n",
    "a = c\n",
    "\n",
    "######################################################################\n",
    "\n",
    "# Check your answer\n",
    "q2.check()"
   ]
  },
  {
   "cell_type": "code",
   "execution_count": 8,
   "id": "eb60b8ec",
   "metadata": {
    "execution": {
     "iopub.execute_input": "2022-06-26T18:42:05.229112Z",
     "iopub.status.busy": "2022-06-26T18:42:05.228038Z",
     "iopub.status.idle": "2022-06-26T18:42:05.233571Z",
     "shell.execute_reply": "2022-06-26T18:42:05.232262Z"
    },
    "papermill": {
     "duration": 0.015169,
     "end_time": "2022-06-26T18:42:05.235785",
     "exception": false,
     "start_time": "2022-06-26T18:42:05.220616",
     "status": "completed"
    },
    "tags": []
   },
   "outputs": [],
   "source": [
    "#q2.hint()"
   ]
  },
  {
   "cell_type": "code",
   "execution_count": 9,
   "id": "ca129a00",
   "metadata": {
    "execution": {
     "iopub.execute_input": "2022-06-26T18:42:05.250750Z",
     "iopub.status.busy": "2022-06-26T18:42:05.250372Z",
     "iopub.status.idle": "2022-06-26T18:42:05.254016Z",
     "shell.execute_reply": "2022-06-26T18:42:05.253154Z"
    },
    "papermill": {
     "duration": 0.013797,
     "end_time": "2022-06-26T18:42:05.255942",
     "exception": false,
     "start_time": "2022-06-26T18:42:05.242145",
     "status": "completed"
    },
    "tags": []
   },
   "outputs": [],
   "source": [
    "#q2.solution()"
   ]
  },
  {
   "cell_type": "markdown",
   "id": "4221d200",
   "metadata": {
    "papermill": {
     "duration": 0.00595,
     "end_time": "2022-06-26T18:42:05.268346",
     "exception": false,
     "start_time": "2022-06-26T18:42:05.262396",
     "status": "completed"
    },
    "tags": []
   },
   "source": [
    "<hr/>\n",
    "\n",
    "# 3a.\n",
    "\n",
    "Add parentheses to the following expression so that it evaluates to 1."
   ]
  },
  {
   "cell_type": "code",
   "execution_count": 10,
   "id": "8f684951",
   "metadata": {
    "execution": {
     "iopub.execute_input": "2022-06-26T18:42:05.283004Z",
     "iopub.status.busy": "2022-06-26T18:42:05.282405Z",
     "iopub.status.idle": "2022-06-26T18:42:05.287471Z",
     "shell.execute_reply": "2022-06-26T18:42:05.286672Z"
    },
    "papermill": {
     "duration": 0.014884,
     "end_time": "2022-06-26T18:42:05.289468",
     "exception": false,
     "start_time": "2022-06-26T18:42:05.274584",
     "status": "completed"
    },
    "tags": []
   },
   "outputs": [
    {
     "data": {
      "text/plain": [
       "1"
      ]
     },
     "execution_count": 10,
     "metadata": {},
     "output_type": "execute_result"
    }
   ],
   "source": [
    "(5 - 3) // 2"
   ]
  },
  {
   "cell_type": "code",
   "execution_count": 11,
   "id": "8eba73a7",
   "metadata": {
    "execution": {
     "iopub.execute_input": "2022-06-26T18:42:05.304421Z",
     "iopub.status.busy": "2022-06-26T18:42:05.303858Z",
     "iopub.status.idle": "2022-06-26T18:42:05.307418Z",
     "shell.execute_reply": "2022-06-26T18:42:05.306614Z"
    },
    "papermill": {
     "duration": 0.013378,
     "end_time": "2022-06-26T18:42:05.309430",
     "exception": false,
     "start_time": "2022-06-26T18:42:05.296052",
     "status": "completed"
    },
    "tags": []
   },
   "outputs": [],
   "source": [
    "#q3.a.hint()"
   ]
  },
  {
   "cell_type": "code",
   "execution_count": 12,
   "id": "aa11d2d9",
   "metadata": {
    "execution": {
     "iopub.execute_input": "2022-06-26T18:42:05.324088Z",
     "iopub.status.busy": "2022-06-26T18:42:05.323674Z",
     "iopub.status.idle": "2022-06-26T18:42:05.332502Z",
     "shell.execute_reply": "2022-06-26T18:42:05.331251Z"
    },
    "papermill": {
     "duration": 0.018618,
     "end_time": "2022-06-26T18:42:05.334562",
     "exception": false,
     "start_time": "2022-06-26T18:42:05.315944",
     "status": "completed"
    },
    "tags": []
   },
   "outputs": [
    {
     "data": {
      "application/javascript": [
       "parent.postMessage({\"jupyterEvent\": \"custom.exercise_interaction\", \"data\": {\"interactionType\": 3, \"questionType\": 4, \"questionId\": \"3.1_ArithmeticParensEasy\", \"learnToolsVersion\": \"0.3.4\", \"valueTowardsCompletion\": 0.0, \"failureMessage\": \"\", \"exceptionClass\": \"\", \"trace\": \"\", \"outcomeType\": 4}}, \"*\")"
      ],
      "text/plain": [
       "<IPython.core.display.Javascript object>"
      ]
     },
     "metadata": {},
     "output_type": "display_data"
    },
    {
     "data": {
      "text/markdown": [
       "<span style=\"color:#33cc99\">Solution:</span> \n",
       "```python\n",
       "(5 - 3) // 2\n",
       "```"
      ],
      "text/plain": [
       "Solution: \n",
       "```python\n",
       "(5 - 3) // 2\n",
       "```"
      ]
     },
     "metadata": {},
     "output_type": "display_data"
    }
   ],
   "source": [
    "# Check your answer (Run this code cell to receive credit!)\n",
    "q3.a.solution()"
   ]
  },
  {
   "cell_type": "markdown",
   "id": "9e82219c",
   "metadata": {
    "papermill": {
     "duration": 0.006288,
     "end_time": "2022-06-26T18:42:05.347942",
     "exception": false,
     "start_time": "2022-06-26T18:42:05.341654",
     "status": "completed"
    },
    "tags": []
   },
   "source": [
    "# 3b.  <span title=\"A bit spicy\" style=\"color: darkgreen \">🌶️</span>\n",
    "\n",
    "<small>Questions, like this one, marked a spicy pepper are a bit harder.</small>\n",
    "\n",
    "Add parentheses to the following expression so that it evaluates to 0."
   ]
  },
  {
   "cell_type": "code",
   "execution_count": 13,
   "id": "27b33b10",
   "metadata": {
    "execution": {
     "iopub.execute_input": "2022-06-26T18:42:05.362499Z",
     "iopub.status.busy": "2022-06-26T18:42:05.362077Z",
     "iopub.status.idle": "2022-06-26T18:42:05.369262Z",
     "shell.execute_reply": "2022-06-26T18:42:05.368132Z"
    },
    "papermill": {
     "duration": 0.016863,
     "end_time": "2022-06-26T18:42:05.371293",
     "exception": false,
     "start_time": "2022-06-26T18:42:05.354430",
     "status": "completed"
    },
    "tags": []
   },
   "outputs": [
    {
     "data": {
      "text/plain": [
       "0"
      ]
     },
     "execution_count": 13,
     "metadata": {},
     "output_type": "execute_result"
    }
   ],
   "source": [
    "(8 - 3) * (2 - (1 + 1))"
   ]
  },
  {
   "cell_type": "code",
   "execution_count": 14,
   "id": "1664e5f1",
   "metadata": {
    "execution": {
     "iopub.execute_input": "2022-06-26T18:42:05.387316Z",
     "iopub.status.busy": "2022-06-26T18:42:05.386275Z",
     "iopub.status.idle": "2022-06-26T18:42:05.391230Z",
     "shell.execute_reply": "2022-06-26T18:42:05.390109Z"
    },
    "papermill": {
     "duration": 0.015384,
     "end_time": "2022-06-26T18:42:05.393421",
     "exception": false,
     "start_time": "2022-06-26T18:42:05.378037",
     "status": "completed"
    },
    "tags": []
   },
   "outputs": [],
   "source": [
    "#q3.b.hint()"
   ]
  },
  {
   "cell_type": "code",
   "execution_count": 15,
   "id": "a6956fb4",
   "metadata": {
    "execution": {
     "iopub.execute_input": "2022-06-26T18:42:05.409370Z",
     "iopub.status.busy": "2022-06-26T18:42:05.408487Z",
     "iopub.status.idle": "2022-06-26T18:42:05.418179Z",
     "shell.execute_reply": "2022-06-26T18:42:05.417290Z"
    },
    "papermill": {
     "duration": 0.019919,
     "end_time": "2022-06-26T18:42:05.420228",
     "exception": false,
     "start_time": "2022-06-26T18:42:05.400309",
     "status": "completed"
    },
    "tags": []
   },
   "outputs": [
    {
     "data": {
      "application/javascript": [
       "parent.postMessage({\"jupyterEvent\": \"custom.exercise_interaction\", \"data\": {\"interactionType\": 3, \"questionType\": 4, \"questionId\": \"3.2_ArithmeticParensHard\", \"learnToolsVersion\": \"0.3.4\", \"valueTowardsCompletion\": 0.0, \"failureMessage\": \"\", \"exceptionClass\": \"\", \"trace\": \"\", \"outcomeType\": 4}}, \"*\")"
      ],
      "text/plain": [
       "<IPython.core.display.Javascript object>"
      ]
     },
     "metadata": {},
     "output_type": "display_data"
    },
    {
     "data": {
      "text/markdown": [
       "<span style=\"color:#33cc99\">Solution:</span> `(8 - 3) * (2 - (1 + 1))` is one solution. There may be others."
      ],
      "text/plain": [
       "Solution: `(8 - 3) * (2 - (1 + 1))` is one solution. There may be others."
      ]
     },
     "metadata": {},
     "output_type": "display_data"
    }
   ],
   "source": [
    "# Check your answer (Run this code cell to receive credit!)\n",
    "q3.b.solution()"
   ]
  },
  {
   "cell_type": "markdown",
   "id": "e3ee46c0",
   "metadata": {
    "papermill": {
     "duration": 0.006746,
     "end_time": "2022-06-26T18:42:05.433779",
     "exception": false,
     "start_time": "2022-06-26T18:42:05.427033",
     "status": "completed"
    },
    "tags": []
   },
   "source": [
    "<hr/>\n",
    "\n",
    "# 4. \n",
    "Alice, Bob and Carol have agreed to pool their Halloween candy and split it evenly among themselves.\n",
    "For the sake of their friendship, any candies left over will be smashed. For example, if they collectively\n",
    "bring home 91 candies, they'll take 30 each and smash 1.\n",
    "\n",
    "Write an arithmetic expression below to calculate how many candies they must smash for a given haul."
   ]
  },
  {
   "cell_type": "code",
   "execution_count": 16,
   "id": "632e7755",
   "metadata": {
    "execution": {
     "iopub.execute_input": "2022-06-26T18:42:05.450195Z",
     "iopub.status.busy": "2022-06-26T18:42:05.448870Z",
     "iopub.status.idle": "2022-06-26T18:42:05.457981Z",
     "shell.execute_reply": "2022-06-26T18:42:05.456931Z"
    },
    "papermill": {
     "duration": 0.019283,
     "end_time": "2022-06-26T18:42:05.459975",
     "exception": false,
     "start_time": "2022-06-26T18:42:05.440692",
     "status": "completed"
    },
    "tags": []
   },
   "outputs": [
    {
     "data": {
      "application/javascript": [
       "parent.postMessage({\"jupyterEvent\": \"custom.exercise_interaction\", \"data\": {\"outcomeType\": 1, \"valueTowardsCompletion\": 0.25, \"interactionType\": 1, \"questionType\": 1, \"questionId\": \"4_CandySplitting\", \"learnToolsVersion\": \"0.3.4\", \"failureMessage\": \"\", \"exceptionClass\": \"\", \"trace\": \"\"}}, \"*\")"
      ],
      "text/plain": [
       "<IPython.core.display.Javascript object>"
      ]
     },
     "metadata": {},
     "output_type": "display_data"
    },
    {
     "data": {
      "text/markdown": [
       "<span style=\"color:#33cc33\">Correct</span>"
      ],
      "text/plain": [
       "Correct"
      ]
     },
     "metadata": {},
     "output_type": "display_data"
    }
   ],
   "source": [
    "# Variables representing the number of candies collected by alice, bob, and carol\n",
    "alice_candies = 121\n",
    "bob_candies = 77\n",
    "carol_candies = 109\n",
    "\n",
    "# Your code goes here! Replace the right-hand side of this assignment with an expression\n",
    "# involving alice_candies, bob_candies, and carol_candies\n",
    "to_smash = (alice_candies + bob_candies + carol_candies) % 3\n",
    "\n",
    "# Check your answer\n",
    "q4.check()"
   ]
  },
  {
   "cell_type": "code",
   "execution_count": 17,
   "id": "17b7c100",
   "metadata": {
    "execution": {
     "iopub.execute_input": "2022-06-26T18:42:05.476780Z",
     "iopub.status.busy": "2022-06-26T18:42:05.476133Z",
     "iopub.status.idle": "2022-06-26T18:42:05.479683Z",
     "shell.execute_reply": "2022-06-26T18:42:05.478935Z"
    },
    "papermill": {
     "duration": 0.014329,
     "end_time": "2022-06-26T18:42:05.481590",
     "exception": false,
     "start_time": "2022-06-26T18:42:05.467261",
     "status": "completed"
    },
    "tags": []
   },
   "outputs": [],
   "source": [
    "#q4.hint()\n",
    "#q4.solution()"
   ]
  },
  {
   "cell_type": "markdown",
   "id": "b08bd234",
   "metadata": {
    "papermill": {
     "duration": 0.007014,
     "end_time": "2022-06-26T18:42:05.495808",
     "exception": false,
     "start_time": "2022-06-26T18:42:05.488794",
     "status": "completed"
    },
    "tags": []
   },
   "source": [
    "# Keep Going\n",
    "\n",
    "Next up, you'll **[learn to write new functions and understand functions others write](https://www.kaggle.com/colinmorris/functions-and-getting-help)**. This will make you at least 10 times more productive as a Python programmer. "
   ]
  },
  {
   "cell_type": "markdown",
   "id": "daa5f783",
   "metadata": {
    "papermill": {
     "duration": 0.006921,
     "end_time": "2022-06-26T18:42:05.509855",
     "exception": false,
     "start_time": "2022-06-26T18:42:05.502934",
     "status": "completed"
    },
    "tags": []
   },
   "source": [
    "---\n",
    "\n",
    "\n",
    "\n",
    "\n",
    "*Have questions or comments? Visit the [course discussion forum](https://www.kaggle.com/learn/python/discussion) to chat with other learners.*"
   ]
  }
 ],
 "metadata": {
  "kernelspec": {
   "display_name": "Python 3",
   "language": "python",
   "name": "python3"
  },
  "language_info": {
   "codemirror_mode": {
    "name": "ipython",
    "version": 3
   },
   "file_extension": ".py",
   "mimetype": "text/x-python",
   "name": "python",
   "nbconvert_exporter": "python",
   "pygments_lexer": "ipython3",
   "version": "3.7.12"
  },
  "papermill": {
   "default_parameters": {},
   "duration": 10.117808,
   "end_time": "2022-06-26T18:42:06.138466",
   "environment_variables": {},
   "exception": null,
   "input_path": "__notebook__.ipynb",
   "output_path": "__notebook__.ipynb",
   "parameters": {},
   "start_time": "2022-06-26T18:41:56.020658",
   "version": "2.3.4"
  }
 },
 "nbformat": 4,
 "nbformat_minor": 5
}

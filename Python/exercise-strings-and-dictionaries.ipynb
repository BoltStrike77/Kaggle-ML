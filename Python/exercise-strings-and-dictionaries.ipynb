{
 "cells": [
  {
   "cell_type": "markdown",
   "id": "59170583",
   "metadata": {
    "papermill": {
     "duration": 0.007113,
     "end_time": "2022-07-15T05:17:56.153384",
     "exception": false,
     "start_time": "2022-07-15T05:17:56.146271",
     "status": "completed"
    },
    "tags": []
   },
   "source": [
    "**This notebook is an exercise in the [Python](https://www.kaggle.com/learn/python) course.  You can reference the tutorial at [this link](https://www.kaggle.com/colinmorris/strings-and-dictionaries).**\n",
    "\n",
    "---\n"
   ]
  },
  {
   "cell_type": "markdown",
   "id": "c4e6a10f",
   "metadata": {
    "papermill": {
     "duration": 0.005799,
     "end_time": "2022-07-15T05:17:56.165477",
     "exception": false,
     "start_time": "2022-07-15T05:17:56.159678",
     "status": "completed"
    },
    "tags": []
   },
   "source": [
    "You are almost done with the course. Nice job!\n",
    "\n",
    "We have a couple more interesting problems for you before you go. \n",
    "\n",
    "As always, run the setup code below before working on the questions."
   ]
  },
  {
   "cell_type": "code",
   "execution_count": 1,
   "id": "2198d523",
   "metadata": {
    "execution": {
     "iopub.execute_input": "2022-07-15T05:17:56.180720Z",
     "iopub.status.busy": "2022-07-15T05:17:56.179685Z",
     "iopub.status.idle": "2022-07-15T05:17:56.248012Z",
     "shell.execute_reply": "2022-07-15T05:17:56.246824Z"
    },
    "papermill": {
     "duration": 0.079234,
     "end_time": "2022-07-15T05:17:56.250784",
     "exception": false,
     "start_time": "2022-07-15T05:17:56.171550",
     "status": "completed"
    },
    "tags": []
   },
   "outputs": [
    {
     "name": "stdout",
     "output_type": "stream",
     "text": [
      "Setup complete.\n"
     ]
    }
   ],
   "source": [
    "from learntools.core import binder; binder.bind(globals())\n",
    "from learntools.python.ex6 import *\n",
    "print('Setup complete.')"
   ]
  },
  {
   "cell_type": "markdown",
   "id": "904c0d16",
   "metadata": {
    "papermill": {
     "duration": 0.006214,
     "end_time": "2022-07-15T05:17:56.263307",
     "exception": false,
     "start_time": "2022-07-15T05:17:56.257093",
     "status": "completed"
    },
    "tags": []
   },
   "source": [
    "Let's start with a string lightning round to warm up. What are the lengths of the strings below?\n",
    "\n",
    "For each of the five strings below, predict what `len()` would return when passed that string. Use the variable `length` to record your answer, then run the cell to check whether you were right.  \n",
    "\n",
    "# 0a."
   ]
  },
  {
   "cell_type": "code",
   "execution_count": 2,
   "id": "117f17bb",
   "metadata": {
    "execution": {
     "iopub.execute_input": "2022-07-15T05:17:56.277884Z",
     "iopub.status.busy": "2022-07-15T05:17:56.277267Z",
     "iopub.status.idle": "2022-07-15T05:17:56.288869Z",
     "shell.execute_reply": "2022-07-15T05:17:56.287522Z"
    },
    "papermill": {
     "duration": 0.021689,
     "end_time": "2022-07-15T05:17:56.291251",
     "exception": false,
     "start_time": "2022-07-15T05:17:56.269562",
     "status": "completed"
    },
    "tags": []
   },
   "outputs": [
    {
     "data": {
      "application/javascript": [
       "parent.postMessage({\"jupyterEvent\": \"custom.exercise_interaction\", \"data\": {\"outcomeType\": 1, \"valueTowardsCompletion\": 0.3333333333333333, \"interactionType\": 1, \"questionType\": 1, \"questionId\": \"0.1_ZA\", \"learnToolsVersion\": \"0.3.4\", \"failureMessage\": \"\", \"exceptionClass\": \"\", \"trace\": \"\"}}, \"*\")"
      ],
      "text/plain": [
       "<IPython.core.display.Javascript object>"
      ]
     },
     "metadata": {},
     "output_type": "display_data"
    },
    {
     "data": {
      "text/markdown": [
       "<span style=\"color:#33cc33\">Correct:</span> \n",
       "\n",
       "The empty string has length zero. Note that the empty string is also the only string that Python considers as False when converting to boolean."
      ],
      "text/plain": [
       "Correct: \n",
       "\n",
       "The empty string has length zero. Note that the empty string is also the only string that Python considers as False when converting to boolean."
      ]
     },
     "metadata": {},
     "output_type": "display_data"
    }
   ],
   "source": [
    "a = \"\"\n",
    "length = 0\n",
    "q0.a.check()"
   ]
  },
  {
   "cell_type": "markdown",
   "id": "deeb5886",
   "metadata": {
    "papermill": {
     "duration": 0.006234,
     "end_time": "2022-07-15T05:17:56.304022",
     "exception": false,
     "start_time": "2022-07-15T05:17:56.297788",
     "status": "completed"
    },
    "tags": []
   },
   "source": [
    "# 0b."
   ]
  },
  {
   "cell_type": "code",
   "execution_count": 3,
   "id": "6d57a45f",
   "metadata": {
    "execution": {
     "iopub.execute_input": "2022-07-15T05:17:56.318845Z",
     "iopub.status.busy": "2022-07-15T05:17:56.318422Z",
     "iopub.status.idle": "2022-07-15T05:17:56.327130Z",
     "shell.execute_reply": "2022-07-15T05:17:56.326005Z"
    },
    "papermill": {
     "duration": 0.018655,
     "end_time": "2022-07-15T05:17:56.329119",
     "exception": false,
     "start_time": "2022-07-15T05:17:56.310464",
     "status": "completed"
    },
    "tags": []
   },
   "outputs": [
    {
     "data": {
      "application/javascript": [
       "parent.postMessage({\"jupyterEvent\": \"custom.exercise_interaction\", \"data\": {\"outcomeType\": 1, \"valueTowardsCompletion\": 0.3333333333333333, \"interactionType\": 1, \"questionType\": 1, \"questionId\": \"0.2_ZB\", \"learnToolsVersion\": \"0.3.4\", \"failureMessage\": \"\", \"exceptionClass\": \"\", \"trace\": \"\"}}, \"*\")"
      ],
      "text/plain": [
       "<IPython.core.display.Javascript object>"
      ]
     },
     "metadata": {},
     "output_type": "display_data"
    },
    {
     "data": {
      "text/markdown": [
       "<span style=\"color:#33cc33\">Correct:</span> \n",
       "\n",
       "Keep in mind Python includes spaces (and punctuation) when counting string length."
      ],
      "text/plain": [
       "Correct: \n",
       "\n",
       "Keep in mind Python includes spaces (and punctuation) when counting string length."
      ]
     },
     "metadata": {},
     "output_type": "display_data"
    }
   ],
   "source": [
    "b = \"it's ok\"\n",
    "length = 7\n",
    "q0.b.check()"
   ]
  },
  {
   "cell_type": "markdown",
   "id": "7f10a01c",
   "metadata": {
    "papermill": {
     "duration": 0.006645,
     "end_time": "2022-07-15T05:17:56.342653",
     "exception": false,
     "start_time": "2022-07-15T05:17:56.336008",
     "status": "completed"
    },
    "tags": []
   },
   "source": [
    "# 0c."
   ]
  },
  {
   "cell_type": "code",
   "execution_count": 4,
   "id": "9bba1ae6",
   "metadata": {
    "execution": {
     "iopub.execute_input": "2022-07-15T05:17:56.357899Z",
     "iopub.status.busy": "2022-07-15T05:17:56.357484Z",
     "iopub.status.idle": "2022-07-15T05:17:56.366315Z",
     "shell.execute_reply": "2022-07-15T05:17:56.365257Z"
    },
    "papermill": {
     "duration": 0.019042,
     "end_time": "2022-07-15T05:17:56.368463",
     "exception": false,
     "start_time": "2022-07-15T05:17:56.349421",
     "status": "completed"
    },
    "tags": []
   },
   "outputs": [
    {
     "data": {
      "application/javascript": [
       "parent.postMessage({\"jupyterEvent\": \"custom.exercise_interaction\", \"data\": {\"outcomeType\": 1, \"valueTowardsCompletion\": 0.3333333333333333, \"interactionType\": 1, \"questionType\": 1, \"questionId\": \"0.3_ZC\", \"learnToolsVersion\": \"0.3.4\", \"failureMessage\": \"\", \"exceptionClass\": \"\", \"trace\": \"\"}}, \"*\")"
      ],
      "text/plain": [
       "<IPython.core.display.Javascript object>"
      ]
     },
     "metadata": {},
     "output_type": "display_data"
    },
    {
     "data": {
      "text/markdown": [
       "<span style=\"color:#33cc33\">Correct:</span> \n",
       "\n",
       "Even though we use different syntax to create it, the string `c` is identical to `b`. In particular, note that the backslash is not part of the string, so it doesn't contribute to its length."
      ],
      "text/plain": [
       "Correct: \n",
       "\n",
       "Even though we use different syntax to create it, the string `c` is identical to `b`. In particular, note that the backslash is not part of the string, so it doesn't contribute to its length."
      ]
     },
     "metadata": {},
     "output_type": "display_data"
    }
   ],
   "source": [
    "c = 'it\\'s ok'\n",
    "length = 7\n",
    "q0.c.check()"
   ]
  },
  {
   "cell_type": "markdown",
   "id": "04b1474f",
   "metadata": {
    "papermill": {
     "duration": 0.006589,
     "end_time": "2022-07-15T05:17:56.382121",
     "exception": false,
     "start_time": "2022-07-15T05:17:56.375532",
     "status": "completed"
    },
    "tags": []
   },
   "source": [
    "# 0d."
   ]
  },
  {
   "cell_type": "code",
   "execution_count": 5,
   "id": "3d66fda9",
   "metadata": {
    "execution": {
     "iopub.execute_input": "2022-07-15T05:17:56.397587Z",
     "iopub.status.busy": "2022-07-15T05:17:56.397166Z",
     "iopub.status.idle": "2022-07-15T05:17:56.406870Z",
     "shell.execute_reply": "2022-07-15T05:17:56.405830Z"
    },
    "papermill": {
     "duration": 0.02009,
     "end_time": "2022-07-15T05:17:56.409043",
     "exception": false,
     "start_time": "2022-07-15T05:17:56.388953",
     "status": "completed"
    },
    "tags": []
   },
   "outputs": [
    {
     "data": {
      "application/javascript": [
       "parent.postMessage({\"jupyterEvent\": \"custom.exercise_interaction\", \"data\": {\"outcomeType\": 1, \"valueTowardsCompletion\": 0.3333333333333333, \"interactionType\": 1, \"questionType\": 1, \"questionId\": \"0.4_ZD\", \"learnToolsVersion\": \"0.3.4\", \"failureMessage\": \"\", \"exceptionClass\": \"\", \"trace\": \"\"}}, \"*\")"
      ],
      "text/plain": [
       "<IPython.core.display.Javascript object>"
      ]
     },
     "metadata": {},
     "output_type": "display_data"
    },
    {
     "data": {
      "text/markdown": [
       "<span style=\"color:#33cc33\">Correct:</span> \n",
       "\n",
       "The fact that this string was created using triple-quote syntax doesn't make any difference in terms of its content or length. This string is exactly the same as `'hey'`."
      ],
      "text/plain": [
       "Correct: \n",
       "\n",
       "The fact that this string was created using triple-quote syntax doesn't make any difference in terms of its content or length. This string is exactly the same as `'hey'`."
      ]
     },
     "metadata": {},
     "output_type": "display_data"
    }
   ],
   "source": [
    "d = \"\"\"hey\"\"\"\n",
    "length = 3\n",
    "q0.d.check()"
   ]
  },
  {
   "cell_type": "markdown",
   "id": "452bb2c0",
   "metadata": {
    "papermill": {
     "duration": 0.007222,
     "end_time": "2022-07-15T05:17:56.423616",
     "exception": false,
     "start_time": "2022-07-15T05:17:56.416394",
     "status": "completed"
    },
    "tags": []
   },
   "source": [
    "# 0e."
   ]
  },
  {
   "cell_type": "code",
   "execution_count": 6,
   "id": "59545a1f",
   "metadata": {
    "execution": {
     "iopub.execute_input": "2022-07-15T05:17:56.439782Z",
     "iopub.status.busy": "2022-07-15T05:17:56.439390Z",
     "iopub.status.idle": "2022-07-15T05:17:56.447782Z",
     "shell.execute_reply": "2022-07-15T05:17:56.447009Z"
    },
    "papermill": {
     "duration": 0.018971,
     "end_time": "2022-07-15T05:17:56.449707",
     "exception": false,
     "start_time": "2022-07-15T05:17:56.430736",
     "status": "completed"
    },
    "tags": []
   },
   "outputs": [
    {
     "data": {
      "application/javascript": [
       "parent.postMessage({\"jupyterEvent\": \"custom.exercise_interaction\", \"data\": {\"outcomeType\": 1, \"valueTowardsCompletion\": 0.3333333333333333, \"interactionType\": 1, \"questionType\": 1, \"questionId\": \"0.5_ZE\", \"learnToolsVersion\": \"0.3.4\", \"failureMessage\": \"\", \"exceptionClass\": \"\", \"trace\": \"\"}}, \"*\")"
      ],
      "text/plain": [
       "<IPython.core.display.Javascript object>"
      ]
     },
     "metadata": {},
     "output_type": "display_data"
    },
    {
     "data": {
      "text/markdown": [
       "<span style=\"color:#33cc33\">Correct:</span> \n",
       "\n",
       "The newline character is just a single character! (Even though we represent it to Python using a combination of two characters.)"
      ],
      "text/plain": [
       "Correct: \n",
       "\n",
       "The newline character is just a single character! (Even though we represent it to Python using a combination of two characters.)"
      ]
     },
     "metadata": {},
     "output_type": "display_data"
    }
   ],
   "source": [
    "e = '\\n'\n",
    "length = 1\n",
    "q0.e.check()"
   ]
  },
  {
   "cell_type": "markdown",
   "id": "4ed1fef0",
   "metadata": {
    "papermill": {
     "duration": 0.007268,
     "end_time": "2022-07-15T05:17:56.464451",
     "exception": false,
     "start_time": "2022-07-15T05:17:56.457183",
     "status": "completed"
    },
    "tags": []
   },
   "source": [
    "# 1.\n",
    "\n",
    "There is a saying that \"Data scientists spend 80% of their time cleaning data, and 20% of their time complaining about cleaning data.\" Let's see if you can write a function to help clean US zip code data. Given a string, it should return whether or not that string represents a valid zip code. For our purposes, a valid zip code is any string consisting of exactly 5 digits.\n",
    "\n",
    "HINT: `str` has a method that will be useful here. Use `help(str)` to review a list of string methods."
   ]
  },
  {
   "cell_type": "code",
   "execution_count": 7,
   "id": "2cc1ae47",
   "metadata": {
    "execution": {
     "iopub.execute_input": "2022-07-15T05:17:56.481037Z",
     "iopub.status.busy": "2022-07-15T05:17:56.480621Z",
     "iopub.status.idle": "2022-07-15T05:17:56.490348Z",
     "shell.execute_reply": "2022-07-15T05:17:56.489242Z"
    },
    "papermill": {
     "duration": 0.020597,
     "end_time": "2022-07-15T05:17:56.492469",
     "exception": false,
     "start_time": "2022-07-15T05:17:56.471872",
     "status": "completed"
    },
    "tags": []
   },
   "outputs": [
    {
     "data": {
      "application/javascript": [
       "parent.postMessage({\"jupyterEvent\": \"custom.exercise_interaction\", \"data\": {\"outcomeType\": 1, \"valueTowardsCompletion\": 0.3333333333333333, \"interactionType\": 1, \"questionType\": 2, \"questionId\": \"1_ZipValidator\", \"learnToolsVersion\": \"0.3.4\", \"failureMessage\": \"\", \"exceptionClass\": \"\", \"trace\": \"\"}}, \"*\")"
      ],
      "text/plain": [
       "<IPython.core.display.Javascript object>"
      ]
     },
     "metadata": {},
     "output_type": "display_data"
    },
    {
     "data": {
      "text/markdown": [
       "<span style=\"color:#33cc33\">Correct</span>"
      ],
      "text/plain": [
       "Correct"
      ]
     },
     "metadata": {},
     "output_type": "display_data"
    }
   ],
   "source": [
    "def is_valid_zip(zip_code):\n",
    "    return (zip_code.isdigit() and len(zip_code) == 5)\n",
    "\n",
    "# Check your answer\n",
    "q1.check()"
   ]
  },
  {
   "cell_type": "code",
   "execution_count": 8,
   "id": "06b62571",
   "metadata": {
    "execution": {
     "iopub.execute_input": "2022-07-15T05:17:56.510128Z",
     "iopub.status.busy": "2022-07-15T05:17:56.509733Z",
     "iopub.status.idle": "2022-07-15T05:17:56.514338Z",
     "shell.execute_reply": "2022-07-15T05:17:56.513273Z"
    },
    "papermill": {
     "duration": 0.016166,
     "end_time": "2022-07-15T05:17:56.516430",
     "exception": false,
     "start_time": "2022-07-15T05:17:56.500264",
     "status": "completed"
    },
    "tags": []
   },
   "outputs": [],
   "source": [
    "#q1.hint()\n",
    "#q1.solution()"
   ]
  },
  {
   "cell_type": "markdown",
   "id": "ea58011d",
   "metadata": {
    "papermill": {
     "duration": 0.007342,
     "end_time": "2022-07-15T05:17:56.531455",
     "exception": false,
     "start_time": "2022-07-15T05:17:56.524113",
     "status": "completed"
    },
    "tags": []
   },
   "source": [
    "# 2.\n",
    "\n",
    "A researcher has gathered thousands of news articles. But she wants to focus her attention on articles including a specific word. Complete the function below to help her filter her list of articles.\n",
    "\n",
    "Your function should meet the following criteria:\n",
    "\n",
    "- Do not include documents where the keyword string shows up only as a part of a larger word. For example, if she were looking for the keyword “closed”, you would not include the string “enclosed.” \n",
    "- She does not want you to distinguish upper case from lower case letters. So the phrase “Closed the case.” would be included when the keyword is “closed”\n",
    "- Do not let periods or commas affect what is matched. “It is closed.” would be included when the keyword is “closed”. But you can assume there are no other types of punctuation."
   ]
  },
  {
   "cell_type": "code",
   "execution_count": 9,
   "id": "d804a9f9",
   "metadata": {
    "execution": {
     "iopub.execute_input": "2022-07-15T05:17:56.549905Z",
     "iopub.status.busy": "2022-07-15T05:17:56.549005Z",
     "iopub.status.idle": "2022-07-15T05:17:56.560439Z",
     "shell.execute_reply": "2022-07-15T05:17:56.559309Z"
    },
    "papermill": {
     "duration": 0.022701,
     "end_time": "2022-07-15T05:17:56.562562",
     "exception": false,
     "start_time": "2022-07-15T05:17:56.539861",
     "status": "completed"
    },
    "tags": []
   },
   "outputs": [
    {
     "data": {
      "application/javascript": [
       "parent.postMessage({\"jupyterEvent\": \"custom.exercise_interaction\", \"data\": {\"outcomeType\": 1, \"valueTowardsCompletion\": 0.3333333333333333, \"interactionType\": 1, \"questionType\": 2, \"questionId\": \"2_WordSearch\", \"learnToolsVersion\": \"0.3.4\", \"failureMessage\": \"\", \"exceptionClass\": \"\", \"trace\": \"\"}}, \"*\")"
      ],
      "text/plain": [
       "<IPython.core.display.Javascript object>"
      ]
     },
     "metadata": {},
     "output_type": "display_data"
    },
    {
     "data": {
      "text/markdown": [
       "<span style=\"color:#33cc33\">Correct</span>"
      ],
      "text/plain": [
       "Correct"
      ]
     },
     "metadata": {},
     "output_type": "display_data"
    }
   ],
   "source": [
    "def word_search(doc_list, keyword):\n",
    "    indices = [] \n",
    "    for i, phrase in enumerate(doc_list):\n",
    "        words = phrase.split()\n",
    "        refined = [word.rstrip('.,').lower() for word in words]\n",
    "        if keyword.lower() in refined:\n",
    "            indices.append(i)\n",
    "    return indices\n",
    "\n",
    "# Check your answer\n",
    "q2.check()"
   ]
  },
  {
   "cell_type": "code",
   "execution_count": 10,
   "id": "89fd2576",
   "metadata": {
    "execution": {
     "iopub.execute_input": "2022-07-15T05:17:56.580466Z",
     "iopub.status.busy": "2022-07-15T05:17:56.580078Z",
     "iopub.status.idle": "2022-07-15T05:17:56.584197Z",
     "shell.execute_reply": "2022-07-15T05:17:56.583295Z"
    },
    "papermill": {
     "duration": 0.0156,
     "end_time": "2022-07-15T05:17:56.586185",
     "exception": false,
     "start_time": "2022-07-15T05:17:56.570585",
     "status": "completed"
    },
    "tags": []
   },
   "outputs": [],
   "source": [
    "#q2.hint()\n",
    "#q2.solution()"
   ]
  },
  {
   "cell_type": "markdown",
   "id": "5b230e31",
   "metadata": {
    "papermill": {
     "duration": 0.008026,
     "end_time": "2022-07-15T05:17:56.602263",
     "exception": false,
     "start_time": "2022-07-15T05:17:56.594237",
     "status": "completed"
    },
    "tags": []
   },
   "source": [
    "# 3.\n",
    "\n",
    "Now the researcher wants to supply multiple keywords to search for. Complete the function below to help her.\n",
    "\n",
    "(You're encouraged to use the `word_search` function you just wrote when implementing this function. Reusing code in this way makes your programs more robust and readable - and it saves typing!)"
   ]
  },
  {
   "cell_type": "code",
   "execution_count": 11,
   "id": "22fe1f07",
   "metadata": {
    "execution": {
     "iopub.execute_input": "2022-07-15T05:17:56.620380Z",
     "iopub.status.busy": "2022-07-15T05:17:56.619907Z",
     "iopub.status.idle": "2022-07-15T05:17:56.630025Z",
     "shell.execute_reply": "2022-07-15T05:17:56.629251Z"
    },
    "papermill": {
     "duration": 0.021576,
     "end_time": "2022-07-15T05:17:56.632167",
     "exception": false,
     "start_time": "2022-07-15T05:17:56.610591",
     "status": "completed"
    },
    "tags": []
   },
   "outputs": [
    {
     "data": {
      "application/javascript": [
       "parent.postMessage({\"jupyterEvent\": \"custom.exercise_interaction\", \"data\": {\"outcomeType\": 1, \"valueTowardsCompletion\": 0.3333333333333333, \"interactionType\": 1, \"questionType\": 2, \"questionId\": \"3_MultiWordSearch\", \"learnToolsVersion\": \"0.3.4\", \"failureMessage\": \"\", \"exceptionClass\": \"\", \"trace\": \"\"}}, \"*\")"
      ],
      "text/plain": [
       "<IPython.core.display.Javascript object>"
      ]
     },
     "metadata": {},
     "output_type": "display_data"
    },
    {
     "data": {
      "text/markdown": [
       "<span style=\"color:#33cc33\">Correct</span>"
      ],
      "text/plain": [
       "Correct"
      ]
     },
     "metadata": {},
     "output_type": "display_data"
    }
   ],
   "source": [
    "def multi_word_search(doc_list, keywords):\n",
    "    dict = {}\n",
    "    for keyword in keywords:\n",
    "        indices = [] \n",
    "        for i, phrase in enumerate(doc_list):\n",
    "            words = phrase.split()\n",
    "            refined = [word.rstrip('.,').lower() for word in words]\n",
    "            if keyword.lower() in refined:\n",
    "                indices.append(i)\n",
    "        dict[keyword] = indices\n",
    "    return dict\n",
    "\n",
    "# Check your answer\n",
    "q3.check()"
   ]
  },
  {
   "cell_type": "code",
   "execution_count": 12,
   "id": "6ba59788",
   "metadata": {
    "execution": {
     "iopub.execute_input": "2022-07-15T05:17:56.650473Z",
     "iopub.status.busy": "2022-07-15T05:17:56.650077Z",
     "iopub.status.idle": "2022-07-15T05:17:56.653984Z",
     "shell.execute_reply": "2022-07-15T05:17:56.653268Z"
    },
    "papermill": {
     "duration": 0.015583,
     "end_time": "2022-07-15T05:17:56.656072",
     "exception": false,
     "start_time": "2022-07-15T05:17:56.640489",
     "status": "completed"
    },
    "tags": []
   },
   "outputs": [],
   "source": [
    "#q3.solution()"
   ]
  },
  {
   "cell_type": "markdown",
   "id": "6cc67129",
   "metadata": {
    "papermill": {
     "duration": 0.007948,
     "end_time": "2022-07-15T05:17:56.672334",
     "exception": false,
     "start_time": "2022-07-15T05:17:56.664386",
     "status": "completed"
    },
    "tags": []
   },
   "source": [
    "# Keep Going\n",
    "\n",
    "You've learned a lot. But even the best programmers rely heavily on \"libraries\" of code from other programmers. You'll learn about that in **[the last lesson](https://www.kaggle.com/colinmorris/working-with-external-libraries)**.\n"
   ]
  },
  {
   "cell_type": "markdown",
   "id": "a789eb01",
   "metadata": {
    "papermill": {
     "duration": 0.008036,
     "end_time": "2022-07-15T05:17:56.688567",
     "exception": false,
     "start_time": "2022-07-15T05:17:56.680531",
     "status": "completed"
    },
    "tags": []
   },
   "source": [
    "---\n",
    "\n",
    "\n",
    "\n",
    "\n",
    "*Have questions or comments? Visit the [course discussion forum](https://www.kaggle.com/learn/python/discussion) to chat with other learners.*"
   ]
  }
 ],
 "metadata": {
  "kernelspec": {
   "display_name": "Python 3",
   "language": "python",
   "name": "python3"
  },
  "language_info": {
   "codemirror_mode": {
    "name": "ipython",
    "version": 3
   },
   "file_extension": ".py",
   "mimetype": "text/x-python",
   "name": "python",
   "nbconvert_exporter": "python",
   "pygments_lexer": "ipython3",
   "version": "3.7.12"
  },
  "papermill": {
   "default_parameters": {},
   "duration": 11.602583,
   "end_time": "2022-07-15T05:17:57.317979",
   "environment_variables": {},
   "exception": null,
   "input_path": "__notebook__.ipynb",
   "output_path": "__notebook__.ipynb",
   "parameters": {},
   "start_time": "2022-07-15T05:17:45.715396",
   "version": "2.3.4"
  }
 },
 "nbformat": 4,
 "nbformat_minor": 5
}

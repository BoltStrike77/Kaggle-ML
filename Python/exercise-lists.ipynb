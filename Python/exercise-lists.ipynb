{
 "cells": [
  {
   "cell_type": "markdown",
   "id": "a1a83000",
   "metadata": {
    "papermill": {
     "duration": 0.006397,
     "end_time": "2022-07-09T15:27:02.561737",
     "exception": false,
     "start_time": "2022-07-09T15:27:02.555340",
     "status": "completed"
    },
    "tags": []
   },
   "source": [
    "**This notebook is an exercise in the [Python](https://www.kaggle.com/learn/python) course.  You can reference the tutorial at [this link](https://www.kaggle.com/colinmorris/lists).**\n",
    "\n",
    "---\n"
   ]
  },
  {
   "cell_type": "markdown",
   "id": "8b6b076e",
   "metadata": {
    "papermill": {
     "duration": 0.005001,
     "end_time": "2022-07-09T15:27:02.572306",
     "exception": false,
     "start_time": "2022-07-09T15:27:02.567305",
     "status": "completed"
    },
    "tags": []
   },
   "source": [
    "Things get more interesting with lists. You'll apply your new knowledge to solve the questions below. Remember to run the following cell first."
   ]
  },
  {
   "cell_type": "code",
   "execution_count": 1,
   "id": "441e23bb",
   "metadata": {
    "execution": {
     "iopub.execute_input": "2022-07-09T15:27:02.585818Z",
     "iopub.status.busy": "2022-07-09T15:27:02.584807Z",
     "iopub.status.idle": "2022-07-09T15:27:02.639549Z",
     "shell.execute_reply": "2022-07-09T15:27:02.638297Z"
    },
    "papermill": {
     "duration": 0.064558,
     "end_time": "2022-07-09T15:27:02.642200",
     "exception": false,
     "start_time": "2022-07-09T15:27:02.577642",
     "status": "completed"
    },
    "tags": []
   },
   "outputs": [
    {
     "name": "stdout",
     "output_type": "stream",
     "text": [
      "Setup complete.\n"
     ]
    }
   ],
   "source": [
    "from learntools.core import binder; binder.bind(globals())\n",
    "from learntools.python.ex4 import *\n",
    "print('Setup complete.')"
   ]
  },
  {
   "cell_type": "markdown",
   "id": "26eaac8a",
   "metadata": {
    "papermill": {
     "duration": 0.005239,
     "end_time": "2022-07-09T15:27:02.653032",
     "exception": false,
     "start_time": "2022-07-09T15:27:02.647793",
     "status": "completed"
    },
    "tags": []
   },
   "source": [
    "# 1.\n",
    "\n",
    "Complete the function below according to its docstring."
   ]
  },
  {
   "cell_type": "code",
   "execution_count": 2,
   "id": "9d0b6935",
   "metadata": {
    "execution": {
     "iopub.execute_input": "2022-07-09T15:27:02.666484Z",
     "iopub.status.busy": "2022-07-09T15:27:02.665430Z",
     "iopub.status.idle": "2022-07-09T15:27:02.678456Z",
     "shell.execute_reply": "2022-07-09T15:27:02.677457Z"
    },
    "papermill": {
     "duration": 0.022199,
     "end_time": "2022-07-09T15:27:02.680722",
     "exception": false,
     "start_time": "2022-07-09T15:27:02.658523",
     "status": "completed"
    },
    "tags": []
   },
   "outputs": [
    {
     "data": {
      "application/javascript": [
       "parent.postMessage({\"jupyterEvent\": \"custom.exercise_interaction\", \"data\": {\"outcomeType\": 1, \"valueTowardsCompletion\": 0.2, \"interactionType\": 1, \"questionType\": 2, \"questionId\": \"1_SelectSecondItem\", \"learnToolsVersion\": \"0.3.4\", \"failureMessage\": \"\", \"exceptionClass\": \"\", \"trace\": \"\"}}, \"*\")"
      ],
      "text/plain": [
       "<IPython.core.display.Javascript object>"
      ]
     },
     "metadata": {},
     "output_type": "display_data"
    },
    {
     "data": {
      "text/markdown": [
       "<span style=\"color:#33cc33\">Correct</span>"
      ],
      "text/plain": [
       "Correct"
      ]
     },
     "metadata": {},
     "output_type": "display_data"
    }
   ],
   "source": [
    "def select_second(L):\n",
    "    \"\"\"Return the second element of the given list. If the list has no second\n",
    "    element, return None.\n",
    "    \"\"\"\n",
    "    if len(L) > 1: return L[1]\n",
    "    else: return None\n",
    "\n",
    "# Check your answer\n",
    "q1.check()"
   ]
  },
  {
   "cell_type": "code",
   "execution_count": 3,
   "id": "49e26714",
   "metadata": {
    "execution": {
     "iopub.execute_input": "2022-07-09T15:27:02.694525Z",
     "iopub.status.busy": "2022-07-09T15:27:02.693620Z",
     "iopub.status.idle": "2022-07-09T15:27:02.698245Z",
     "shell.execute_reply": "2022-07-09T15:27:02.697526Z"
    },
    "papermill": {
     "duration": 0.014005,
     "end_time": "2022-07-09T15:27:02.700468",
     "exception": false,
     "start_time": "2022-07-09T15:27:02.686463",
     "status": "completed"
    },
    "tags": []
   },
   "outputs": [],
   "source": [
    "#q1.hint()\n",
    "#q1.solution()"
   ]
  },
  {
   "cell_type": "markdown",
   "id": "6f6039cd",
   "metadata": {
    "papermill": {
     "duration": 0.005429,
     "end_time": "2022-07-09T15:27:02.711557",
     "exception": false,
     "start_time": "2022-07-09T15:27:02.706128",
     "status": "completed"
    },
    "tags": []
   },
   "source": [
    "# 2.\n",
    "\n",
    "You are analyzing sports teams.  Members of each team are stored in a list. The Coach is the first name in the list, the captain is the second name in the list, and other players are listed after that. \n",
    "These lists are stored in another list, which starts with the best team and proceeds through the list to the worst team last.  Complete the function below to select the **captain** of the worst team."
   ]
  },
  {
   "cell_type": "code",
   "execution_count": 4,
   "id": "a70882ee",
   "metadata": {
    "execution": {
     "iopub.execute_input": "2022-07-09T15:27:02.725121Z",
     "iopub.status.busy": "2022-07-09T15:27:02.724318Z",
     "iopub.status.idle": "2022-07-09T15:27:02.734922Z",
     "shell.execute_reply": "2022-07-09T15:27:02.733724Z"
    },
    "papermill": {
     "duration": 0.01997,
     "end_time": "2022-07-09T15:27:02.737137",
     "exception": false,
     "start_time": "2022-07-09T15:27:02.717167",
     "status": "completed"
    },
    "tags": []
   },
   "outputs": [
    {
     "data": {
      "application/javascript": [
       "parent.postMessage({\"jupyterEvent\": \"custom.exercise_interaction\", \"data\": {\"outcomeType\": 1, \"valueTowardsCompletion\": 0.2, \"interactionType\": 1, \"questionType\": 2, \"questionId\": \"2_LosingTeamCaptain\", \"learnToolsVersion\": \"0.3.4\", \"failureMessage\": \"\", \"exceptionClass\": \"\", \"trace\": \"\"}}, \"*\")"
      ],
      "text/plain": [
       "<IPython.core.display.Javascript object>"
      ]
     },
     "metadata": {},
     "output_type": "display_data"
    },
    {
     "data": {
      "text/markdown": [
       "<span style=\"color:#33cc33\">Correct</span>"
      ],
      "text/plain": [
       "Correct"
      ]
     },
     "metadata": {},
     "output_type": "display_data"
    }
   ],
   "source": [
    "def losing_team_captain(teams):\n",
    "    \"\"\"Given a list of teams, where each team is a list of names, return the 2nd player (captain)\n",
    "    from the last listed team\n",
    "    \"\"\"\n",
    "    length = len(teams)\n",
    "    return teams[length-1][1]\n",
    "\n",
    "# Check your answer\n",
    "q2.check()"
   ]
  },
  {
   "cell_type": "code",
   "execution_count": 5,
   "id": "6bd773d0",
   "metadata": {
    "collapsed": true,
    "execution": {
     "iopub.execute_input": "2022-07-09T15:27:02.750808Z",
     "iopub.status.busy": "2022-07-09T15:27:02.750423Z",
     "iopub.status.idle": "2022-07-09T15:27:02.754127Z",
     "shell.execute_reply": "2022-07-09T15:27:02.753059Z"
    },
    "jupyter": {
     "outputs_hidden": true
    },
    "papermill": {
     "duration": 0.01338,
     "end_time": "2022-07-09T15:27:02.756561",
     "exception": false,
     "start_time": "2022-07-09T15:27:02.743181",
     "status": "completed"
    },
    "tags": []
   },
   "outputs": [],
   "source": [
    "#q2.hint()\n",
    "#q2.solution()"
   ]
  },
  {
   "cell_type": "markdown",
   "id": "6dd21bcb",
   "metadata": {
    "papermill": {
     "duration": 0.005667,
     "end_time": "2022-07-09T15:27:02.768140",
     "exception": false,
     "start_time": "2022-07-09T15:27:02.762473",
     "status": "completed"
    },
    "tags": []
   },
   "source": [
    "# 3.\n",
    "\n",
    "The next iteration of Mario Kart will feature an extra-infuriating new item, the *Purple Shell*. When used, it warps the last place racer into first place and the first place racer into last place. Complete the function below to implement the Purple Shell's effect."
   ]
  },
  {
   "cell_type": "code",
   "execution_count": 6,
   "id": "8294ea0b",
   "metadata": {
    "execution": {
     "iopub.execute_input": "2022-07-09T15:27:02.781436Z",
     "iopub.status.busy": "2022-07-09T15:27:02.781088Z",
     "iopub.status.idle": "2022-07-09T15:27:02.790861Z",
     "shell.execute_reply": "2022-07-09T15:27:02.789760Z"
    },
    "papermill": {
     "duration": 0.018929,
     "end_time": "2022-07-09T15:27:02.792814",
     "exception": false,
     "start_time": "2022-07-09T15:27:02.773885",
     "status": "completed"
    },
    "tags": []
   },
   "outputs": [
    {
     "data": {
      "application/javascript": [
       "parent.postMessage({\"jupyterEvent\": \"custom.exercise_interaction\", \"data\": {\"outcomeType\": 1, \"valueTowardsCompletion\": 0.2, \"interactionType\": 1, \"questionType\": 2, \"questionId\": \"3_PurpleShell\", \"learnToolsVersion\": \"0.3.4\", \"failureMessage\": \"\", \"exceptionClass\": \"\", \"trace\": \"\"}}, \"*\")"
      ],
      "text/plain": [
       "<IPython.core.display.Javascript object>"
      ]
     },
     "metadata": {},
     "output_type": "display_data"
    },
    {
     "data": {
      "text/markdown": [
       "<span style=\"color:#33cc33\">Correct</span>"
      ],
      "text/plain": [
       "Correct"
      ]
     },
     "metadata": {},
     "output_type": "display_data"
    }
   ],
   "source": [
    "def purple_shell(racers):\n",
    "    \"\"\"Given a list of racers, set the first place racer (at the front of the list) to last\n",
    "    place and vice versa.\n",
    "    \n",
    "    >>> r = [\"Mario\", \"Bowser\", \"Luigi\"]\n",
    "    >>> purple_shell(r)\n",
    "    >>> r\n",
    "    [\"Luigi\", \"Bowser\", \"Mario\"]\n",
    "    \"\"\"\n",
    "    length = len(racers)\n",
    "    racers[0], racers[length-1] = racers[length-1], racers[0]\n",
    "\n",
    "# Check your answer\n",
    "q3.check()"
   ]
  },
  {
   "cell_type": "code",
   "execution_count": 7,
   "id": "58b99c1d",
   "metadata": {
    "collapsed": true,
    "execution": {
     "iopub.execute_input": "2022-07-09T15:27:02.806789Z",
     "iopub.status.busy": "2022-07-09T15:27:02.806447Z",
     "iopub.status.idle": "2022-07-09T15:27:02.809744Z",
     "shell.execute_reply": "2022-07-09T15:27:02.809061Z"
    },
    "jupyter": {
     "outputs_hidden": true
    },
    "papermill": {
     "duration": 0.012564,
     "end_time": "2022-07-09T15:27:02.811540",
     "exception": false,
     "start_time": "2022-07-09T15:27:02.798976",
     "status": "completed"
    },
    "tags": []
   },
   "outputs": [],
   "source": [
    "#q3.hint()\n",
    "#q3.solution()"
   ]
  },
  {
   "cell_type": "markdown",
   "id": "6e8938b2",
   "metadata": {
    "papermill": {
     "duration": 0.005791,
     "end_time": "2022-07-09T15:27:02.823438",
     "exception": false,
     "start_time": "2022-07-09T15:27:02.817647",
     "status": "completed"
    },
    "tags": []
   },
   "source": [
    "# 4.\n",
    "\n",
    "What are the lengths of the following lists? Fill in the variable `lengths` with your predictions. (Try to make a prediction for each list *without* just calling `len()` on it.)"
   ]
  },
  {
   "cell_type": "code",
   "execution_count": 8,
   "id": "66ef83d4",
   "metadata": {
    "execution": {
     "iopub.execute_input": "2022-07-09T15:27:02.837574Z",
     "iopub.status.busy": "2022-07-09T15:27:02.836865Z",
     "iopub.status.idle": "2022-07-09T15:27:02.845287Z",
     "shell.execute_reply": "2022-07-09T15:27:02.844570Z"
    },
    "papermill": {
     "duration": 0.017835,
     "end_time": "2022-07-09T15:27:02.847278",
     "exception": false,
     "start_time": "2022-07-09T15:27:02.829443",
     "status": "completed"
    },
    "tags": []
   },
   "outputs": [
    {
     "data": {
      "application/javascript": [
       "parent.postMessage({\"jupyterEvent\": \"custom.exercise_interaction\", \"data\": {\"outcomeType\": 1, \"valueTowardsCompletion\": 0.2, \"interactionType\": 1, \"questionType\": 1, \"questionId\": \"4_UnderstandLen\", \"learnToolsVersion\": \"0.3.4\", \"failureMessage\": \"\", \"exceptionClass\": \"\", \"trace\": \"\"}}, \"*\")"
      ],
      "text/plain": [
       "<IPython.core.display.Javascript object>"
      ]
     },
     "metadata": {},
     "output_type": "display_data"
    },
    {
     "data": {
      "text/markdown": [
       "<span style=\"color:#33cc33\">Correct:</span> \n",
       "\n",
       "\n",
       "- a: There are three items in this list. Nothing tricky yet.\n",
       "- b: The list `[2, 3]` counts as a single item. It has one item before it. So we have 2 items in the list\n",
       "- c: The empty list has 0 items\n",
       "- d: The expression is the same as the list `[2, 3]`, which has length 2."
      ],
      "text/plain": [
       "Correct: \n",
       "\n",
       "\n",
       "- a: There are three items in this list. Nothing tricky yet.\n",
       "- b: The list `[2, 3]` counts as a single item. It has one item before it. So we have 2 items in the list\n",
       "- c: The empty list has 0 items\n",
       "- d: The expression is the same as the list `[2, 3]`, which has length 2."
      ]
     },
     "metadata": {},
     "output_type": "display_data"
    }
   ],
   "source": [
    "a = [1, 2, 3]\n",
    "b = [1, [2, 3]]\n",
    "c = []\n",
    "d = [1, 2, 3][1:]\n",
    "\n",
    "# Put your predictions in the list below. Lengths should contain 4 numbers, the\n",
    "# first being the length of a, the second being the length of b and so on.\n",
    "lengths = [3, 2, 0, 2]\n",
    "\n",
    "# Check your answer\n",
    "q4.check()"
   ]
  },
  {
   "cell_type": "code",
   "execution_count": 9,
   "id": "288b56ab",
   "metadata": {
    "collapsed": true,
    "execution": {
     "iopub.execute_input": "2022-07-09T15:27:02.861590Z",
     "iopub.status.busy": "2022-07-09T15:27:02.861166Z",
     "iopub.status.idle": "2022-07-09T15:27:02.864926Z",
     "shell.execute_reply": "2022-07-09T15:27:02.864192Z"
    },
    "jupyter": {
     "outputs_hidden": true
    },
    "papermill": {
     "duration": 0.013142,
     "end_time": "2022-07-09T15:27:02.866752",
     "exception": false,
     "start_time": "2022-07-09T15:27:02.853610",
     "status": "completed"
    },
    "tags": []
   },
   "outputs": [],
   "source": [
    "# line below provides some explanation\n",
    "#q4.solution()"
   ]
  },
  {
   "cell_type": "markdown",
   "id": "28b2cba4",
   "metadata": {
    "papermill": {
     "duration": 0.00645,
     "end_time": "2022-07-09T15:27:02.879537",
     "exception": false,
     "start_time": "2022-07-09T15:27:02.873087",
     "status": "completed"
    },
    "tags": []
   },
   "source": [
    "# 5. <span title=\"A bit spicy\" style=\"color: darkgreen \">🌶️</span>\n",
    "\n",
    "We're using lists to record people who attended our party and what order they arrived in. For example, the following list represents a party with 7 guests, in which Adela showed up first and Ford was the last to arrive:\n",
    "\n",
    "    party_attendees = ['Adela', 'Fleda', 'Owen', 'May', 'Mona', 'Gilbert', 'Ford']\n",
    "\n",
    "A guest is considered 'fashionably late' if they arrived after at least half of the party's guests. However, they must not be the very last guest (that's taking it too far). In the above example, Mona and Gilbert are the only guests who were fashionably late.\n",
    "\n",
    "Complete the function below which takes a list of party attendees as well as a person, and tells us whether that person is fashionably late."
   ]
  },
  {
   "cell_type": "code",
   "execution_count": 10,
   "id": "6cb2b102",
   "metadata": {
    "execution": {
     "iopub.execute_input": "2022-07-09T15:27:02.895110Z",
     "iopub.status.busy": "2022-07-09T15:27:02.894393Z",
     "iopub.status.idle": "2022-07-09T15:27:02.903267Z",
     "shell.execute_reply": "2022-07-09T15:27:02.902541Z"
    },
    "papermill": {
     "duration": 0.019087,
     "end_time": "2022-07-09T15:27:02.905342",
     "exception": false,
     "start_time": "2022-07-09T15:27:02.886255",
     "status": "completed"
    },
    "tags": []
   },
   "outputs": [
    {
     "data": {
      "application/javascript": [
       "parent.postMessage({\"jupyterEvent\": \"custom.exercise_interaction\", \"data\": {\"outcomeType\": 1, \"valueTowardsCompletion\": 0.2, \"interactionType\": 1, \"questionType\": 2, \"questionId\": \"5_FashionablyLate\", \"learnToolsVersion\": \"0.3.4\", \"failureMessage\": \"\", \"exceptionClass\": \"\", \"trace\": \"\"}}, \"*\")"
      ],
      "text/plain": [
       "<IPython.core.display.Javascript object>"
      ]
     },
     "metadata": {},
     "output_type": "display_data"
    },
    {
     "data": {
      "text/markdown": [
       "<span style=\"color:#33cc33\">Correct</span>"
      ],
      "text/plain": [
       "Correct"
      ]
     },
     "metadata": {},
     "output_type": "display_data"
    }
   ],
   "source": [
    "def fashionably_late(arrivals, name):\n",
    "    \"\"\"Given an ordered list of arrivals to the party and a name, return whether the guest with that\n",
    "    name was fashionably late.\n",
    "    \"\"\"\n",
    "    length = len(arrivals)\n",
    "    index = arrivals.index(name)\n",
    "    if (((length) < 2*index+1) & (index+1 != length)):\n",
    "        return True\n",
    "    else: return False\n",
    "\n",
    "# Check your answer\n",
    "q5.check()"
   ]
  },
  {
   "cell_type": "code",
   "execution_count": 11,
   "id": "ac41ca2e",
   "metadata": {
    "collapsed": true,
    "execution": {
     "iopub.execute_input": "2022-07-09T15:27:02.920682Z",
     "iopub.status.busy": "2022-07-09T15:27:02.920044Z",
     "iopub.status.idle": "2022-07-09T15:27:02.923430Z",
     "shell.execute_reply": "2022-07-09T15:27:02.922773Z"
    },
    "jupyter": {
     "outputs_hidden": true
    },
    "papermill": {
     "duration": 0.013341,
     "end_time": "2022-07-09T15:27:02.925368",
     "exception": false,
     "start_time": "2022-07-09T15:27:02.912027",
     "status": "completed"
    },
    "tags": []
   },
   "outputs": [],
   "source": [
    "#q5.hint()\n",
    "#q5.solution()"
   ]
  },
  {
   "cell_type": "markdown",
   "id": "27e3b63a",
   "metadata": {
    "papermill": {
     "duration": 0.006953,
     "end_time": "2022-07-09T15:27:02.939000",
     "exception": false,
     "start_time": "2022-07-09T15:27:02.932047",
     "status": "completed"
    },
    "tags": []
   },
   "source": [
    "# Keep Going\n",
    "\n",
    "That's it for lists and tuples! Now you have the baseline knowledge to **[learn about loops](https://www.kaggle.com/colinmorris/loops-and-list-comprehensions)**, which is where lists and tuples get really interesting. "
   ]
  },
  {
   "cell_type": "markdown",
   "id": "a649c417",
   "metadata": {
    "papermill": {
     "duration": 0.006315,
     "end_time": "2022-07-09T15:27:02.951937",
     "exception": false,
     "start_time": "2022-07-09T15:27:02.945622",
     "status": "completed"
    },
    "tags": []
   },
   "source": [
    "---\n",
    "\n",
    "\n",
    "\n",
    "\n",
    "*Have questions or comments? Visit the [course discussion forum](https://www.kaggle.com/learn/python/discussion) to chat with other learners.*"
   ]
  }
 ],
 "metadata": {
  "kernelspec": {
   "display_name": "Python 3",
   "language": "python",
   "name": "python3"
  },
  "language_info": {
   "codemirror_mode": {
    "name": "ipython",
    "version": 3
   },
   "file_extension": ".py",
   "mimetype": "text/x-python",
   "name": "python",
   "nbconvert_exporter": "python",
   "pygments_lexer": "ipython3",
   "version": "3.7.12"
  },
  "papermill": {
   "default_parameters": {},
   "duration": 10.571499,
   "end_time": "2022-07-09T15:27:03.579036",
   "environment_variables": {},
   "exception": null,
   "input_path": "__notebook__.ipynb",
   "output_path": "__notebook__.ipynb",
   "parameters": {},
   "start_time": "2022-07-09T15:26:53.007537",
   "version": "2.3.4"
  }
 },
 "nbformat": 4,
 "nbformat_minor": 5
}

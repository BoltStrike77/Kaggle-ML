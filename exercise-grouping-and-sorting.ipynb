{
 "cells": [
  {
   "cell_type": "markdown",
   "id": "48918a22",
   "metadata": {
    "papermill": {
     "duration": 0.008135,
     "end_time": "2022-12-23T19:06:55.805974",
     "exception": false,
     "start_time": "2022-12-23T19:06:55.797839",
     "status": "completed"
    },
    "tags": []
   },
   "source": [
    "**This notebook is an exercise in the [Pandas](https://www.kaggle.com/learn/pandas) course.  You can reference the tutorial at [this link](https://www.kaggle.com/residentmario/grouping-and-sorting).**\n",
    "\n",
    "---\n"
   ]
  },
  {
   "cell_type": "markdown",
   "id": "8a165e15",
   "metadata": {
    "papermill": {
     "duration": 0.006234,
     "end_time": "2022-12-23T19:06:55.819004",
     "exception": false,
     "start_time": "2022-12-23T19:06:55.812770",
     "status": "completed"
    },
    "tags": []
   },
   "source": [
    "# Introduction\n",
    "\n",
    "In these exercises we'll apply groupwise analysis to our dataset.\n",
    "\n",
    "Run the code cell below to load the data before running the exercises."
   ]
  },
  {
   "cell_type": "code",
   "execution_count": 1,
   "id": "d576a7d4",
   "metadata": {
    "execution": {
     "iopub.execute_input": "2022-12-23T19:06:55.833185Z",
     "iopub.status.busy": "2022-12-23T19:06:55.832675Z",
     "iopub.status.idle": "2022-12-23T19:06:58.854068Z",
     "shell.execute_reply": "2022-12-23T19:06:58.852677Z"
    },
    "papermill": {
     "duration": 3.031801,
     "end_time": "2022-12-23T19:06:58.856976",
     "exception": false,
     "start_time": "2022-12-23T19:06:55.825175",
     "status": "completed"
    },
    "tags": []
   },
   "outputs": [
    {
     "name": "stdout",
     "output_type": "stream",
     "text": [
      "Setup complete.\n"
     ]
    }
   ],
   "source": [
    "import pandas as pd\n",
    "\n",
    "reviews = pd.read_csv(\"../input/wine-reviews/winemag-data-130k-v2.csv\", index_col=0)\n",
    "#pd.set_option(\"display.max_rows\", 5)\n",
    "\n",
    "from learntools.core import binder; binder.bind(globals())\n",
    "from learntools.pandas.grouping_and_sorting import *\n",
    "print(\"Setup complete.\")"
   ]
  },
  {
   "cell_type": "markdown",
   "id": "d1282c20",
   "metadata": {
    "papermill": {
     "duration": 0.007282,
     "end_time": "2022-12-23T19:06:58.870927",
     "exception": false,
     "start_time": "2022-12-23T19:06:58.863645",
     "status": "completed"
    },
    "tags": []
   },
   "source": [
    "# Exercises"
   ]
  },
  {
   "cell_type": "markdown",
   "id": "50d517aa",
   "metadata": {
    "papermill": {
     "duration": 0.005973,
     "end_time": "2022-12-23T19:06:58.883418",
     "exception": false,
     "start_time": "2022-12-23T19:06:58.877445",
     "status": "completed"
    },
    "tags": []
   },
   "source": [
    "## 1.\n",
    "Who are the most common wine reviewers in the dataset? Create a `Series` whose index is the `taster_twitter_handle` category from the dataset, and whose values count how many reviews each person wrote."
   ]
  },
  {
   "cell_type": "code",
   "execution_count": 2,
   "id": "90ab020a",
   "metadata": {
    "execution": {
     "iopub.execute_input": "2022-12-23T19:06:58.897402Z",
     "iopub.status.busy": "2022-12-23T19:06:58.897016Z",
     "iopub.status.idle": "2022-12-23T19:06:58.918983Z",
     "shell.execute_reply": "2022-12-23T19:06:58.918134Z"
    },
    "papermill": {
     "duration": 0.031451,
     "end_time": "2022-12-23T19:06:58.921349",
     "exception": false,
     "start_time": "2022-12-23T19:06:58.889898",
     "status": "completed"
    },
    "tags": []
   },
   "outputs": [
    {
     "data": {
      "application/javascript": [
       "parent.postMessage({\"jupyterEvent\": \"custom.exercise_interaction\", \"data\": {\"outcomeType\": 1, \"valueTowardsCompletion\": 0.16666666666666666, \"interactionType\": 1, \"questionType\": 1, \"questionId\": \"1_ReviewsWritten\", \"learnToolsVersion\": \"0.3.4\", \"failureMessage\": \"\", \"exceptionClass\": \"\", \"trace\": \"\"}}, \"*\")"
      ],
      "text/plain": [
       "<IPython.core.display.Javascript object>"
      ]
     },
     "metadata": {},
     "output_type": "display_data"
    },
    {
     "data": {
      "text/markdown": [
       "<span style=\"color:#33cc33\">Correct:</span> \n",
       "\n",
       "\n",
       "```python\n",
       "reviews_written = reviews.groupby('taster_twitter_handle').size()\n",
       "```\n",
       "or\n",
       "```python\n",
       "reviews_written = reviews.groupby('taster_twitter_handle').taster_twitter_handle.count()\n",
       "```\n"
      ],
      "text/plain": [
       "Correct: \n",
       "\n",
       "\n",
       "```python\n",
       "reviews_written = reviews.groupby('taster_twitter_handle').size()\n",
       "```\n",
       "or\n",
       "```python\n",
       "reviews_written = reviews.groupby('taster_twitter_handle').taster_twitter_handle.count()\n",
       "```"
      ]
     },
     "metadata": {},
     "output_type": "display_data"
    }
   ],
   "source": [
    "# Your code here\n",
    "reviews_written = reviews.groupby(\"taster_twitter_handle\").size();\n",
    "\n",
    "# Check your answer\n",
    "q1.check()"
   ]
  },
  {
   "cell_type": "code",
   "execution_count": 3,
   "id": "7a49aa86",
   "metadata": {
    "execution": {
     "iopub.execute_input": "2022-12-23T19:06:58.936826Z",
     "iopub.status.busy": "2022-12-23T19:06:58.936410Z",
     "iopub.status.idle": "2022-12-23T19:06:58.940829Z",
     "shell.execute_reply": "2022-12-23T19:06:58.939666Z"
    },
    "papermill": {
     "duration": 0.015082,
     "end_time": "2022-12-23T19:06:58.943333",
     "exception": false,
     "start_time": "2022-12-23T19:06:58.928251",
     "status": "completed"
    },
    "tags": []
   },
   "outputs": [],
   "source": [
    "#q1.hint()\n",
    "#q1.solution()"
   ]
  },
  {
   "cell_type": "markdown",
   "id": "8bf3488f",
   "metadata": {
    "papermill": {
     "duration": 0.008107,
     "end_time": "2022-12-23T19:06:58.958253",
     "exception": false,
     "start_time": "2022-12-23T19:06:58.950146",
     "status": "completed"
    },
    "tags": []
   },
   "source": [
    "## 2.\n",
    "What is the best wine I can buy for a given amount of money? Create a `Series` whose index is wine prices and whose values is the maximum number of points a wine costing that much was given in a review. Sort the values by price, ascending (so that `4.0` dollars is at the top and `3300.0` dollars is at the bottom)."
   ]
  },
  {
   "cell_type": "code",
   "execution_count": 4,
   "id": "d1f29730",
   "metadata": {
    "execution": {
     "iopub.execute_input": "2022-12-23T19:06:58.974755Z",
     "iopub.status.busy": "2022-12-23T19:06:58.973665Z",
     "iopub.status.idle": "2022-12-23T19:06:58.992301Z",
     "shell.execute_reply": "2022-12-23T19:06:58.990827Z"
    },
    "papermill": {
     "duration": 0.030563,
     "end_time": "2022-12-23T19:06:58.995413",
     "exception": false,
     "start_time": "2022-12-23T19:06:58.964850",
     "status": "completed"
    },
    "tags": []
   },
   "outputs": [
    {
     "data": {
      "application/javascript": [
       "parent.postMessage({\"jupyterEvent\": \"custom.exercise_interaction\", \"data\": {\"outcomeType\": 1, \"valueTowardsCompletion\": 0.16666666666666666, \"interactionType\": 1, \"questionType\": 1, \"questionId\": \"2_BestRatingPerPrice\", \"learnToolsVersion\": \"0.3.4\", \"failureMessage\": \"\", \"exceptionClass\": \"\", \"trace\": \"\"}}, \"*\")"
      ],
      "text/plain": [
       "<IPython.core.display.Javascript object>"
      ]
     },
     "metadata": {},
     "output_type": "display_data"
    },
    {
     "data": {
      "text/markdown": [
       "<span style=\"color:#33cc33\">Correct</span>"
      ],
      "text/plain": [
       "Correct"
      ]
     },
     "metadata": {},
     "output_type": "display_data"
    }
   ],
   "source": [
    "best_rating_per_price = reviews.groupby(\"price\").points.max()\n",
    "best_rating_per_price.sort_index()\n",
    "\n",
    "# Check your answer\n",
    "q2.check()"
   ]
  },
  {
   "cell_type": "code",
   "execution_count": 5,
   "id": "879ee2dd",
   "metadata": {
    "execution": {
     "iopub.execute_input": "2022-12-23T19:06:59.014126Z",
     "iopub.status.busy": "2022-12-23T19:06:59.013132Z",
     "iopub.status.idle": "2022-12-23T19:06:59.019261Z",
     "shell.execute_reply": "2022-12-23T19:06:59.017933Z"
    },
    "papermill": {
     "duration": 0.019402,
     "end_time": "2022-12-23T19:06:59.022686",
     "exception": false,
     "start_time": "2022-12-23T19:06:59.003284",
     "status": "completed"
    },
    "tags": []
   },
   "outputs": [],
   "source": [
    "#q2.hint()\n",
    "#q2.solution()"
   ]
  },
  {
   "cell_type": "markdown",
   "id": "7423336b",
   "metadata": {
    "papermill": {
     "duration": 0.009575,
     "end_time": "2022-12-23T19:06:59.043359",
     "exception": false,
     "start_time": "2022-12-23T19:06:59.033784",
     "status": "completed"
    },
    "tags": []
   },
   "source": [
    "## 3.\n",
    "What are the minimum and maximum prices for each `variety` of wine? Create a `DataFrame` whose index is the `variety` category from the dataset and whose values are the `min` and `max` values thereof."
   ]
  },
  {
   "cell_type": "code",
   "execution_count": 6,
   "id": "6fe960d7",
   "metadata": {
    "execution": {
     "iopub.execute_input": "2022-12-23T19:06:59.060860Z",
     "iopub.status.busy": "2022-12-23T19:06:59.060176Z",
     "iopub.status.idle": "2022-12-23T19:06:59.092978Z",
     "shell.execute_reply": "2022-12-23T19:06:59.092098Z"
    },
    "papermill": {
     "duration": 0.045065,
     "end_time": "2022-12-23T19:06:59.095560",
     "exception": false,
     "start_time": "2022-12-23T19:06:59.050495",
     "status": "completed"
    },
    "tags": []
   },
   "outputs": [
    {
     "data": {
      "application/javascript": [
       "parent.postMessage({\"jupyterEvent\": \"custom.exercise_interaction\", \"data\": {\"outcomeType\": 1, \"valueTowardsCompletion\": 0.16666666666666666, \"interactionType\": 1, \"questionType\": 1, \"questionId\": \"3_PriceExtremes\", \"learnToolsVersion\": \"0.3.4\", \"failureMessage\": \"\", \"exceptionClass\": \"\", \"trace\": \"\"}}, \"*\")"
      ],
      "text/plain": [
       "<IPython.core.display.Javascript object>"
      ]
     },
     "metadata": {},
     "output_type": "display_data"
    },
    {
     "data": {
      "text/markdown": [
       "<span style=\"color:#33cc33\">Correct</span>"
      ],
      "text/plain": [
       "Correct"
      ]
     },
     "metadata": {},
     "output_type": "display_data"
    }
   ],
   "source": [
    "price_extremes = reviews.groupby(\"variety\").price.agg([min, max])\n",
    "\n",
    "# Check your answer\n",
    "q3.check()"
   ]
  },
  {
   "cell_type": "code",
   "execution_count": 7,
   "id": "27b691a5",
   "metadata": {
    "execution": {
     "iopub.execute_input": "2022-12-23T19:06:59.111700Z",
     "iopub.status.busy": "2022-12-23T19:06:59.111245Z",
     "iopub.status.idle": "2022-12-23T19:06:59.115795Z",
     "shell.execute_reply": "2022-12-23T19:06:59.114606Z"
    },
    "papermill": {
     "duration": 0.015481,
     "end_time": "2022-12-23T19:06:59.118151",
     "exception": false,
     "start_time": "2022-12-23T19:06:59.102670",
     "status": "completed"
    },
    "tags": []
   },
   "outputs": [],
   "source": [
    "#q3.hint()\n",
    "#q3.solution()"
   ]
  },
  {
   "cell_type": "markdown",
   "id": "38c59b1f",
   "metadata": {
    "papermill": {
     "duration": 0.006535,
     "end_time": "2022-12-23T19:06:59.131612",
     "exception": false,
     "start_time": "2022-12-23T19:06:59.125077",
     "status": "completed"
    },
    "tags": []
   },
   "source": [
    "## 4.\n",
    "What are the most expensive wine varieties? Create a variable `sorted_varieties` containing a copy of the dataframe from the previous question where varieties are sorted in descending order based on minimum price, then on maximum price (to break ties)."
   ]
  },
  {
   "cell_type": "code",
   "execution_count": 8,
   "id": "658c317f",
   "metadata": {
    "execution": {
     "iopub.execute_input": "2022-12-23T19:06:59.147605Z",
     "iopub.status.busy": "2022-12-23T19:06:59.146690Z",
     "iopub.status.idle": "2022-12-23T19:06:59.158425Z",
     "shell.execute_reply": "2022-12-23T19:06:59.157331Z"
    },
    "papermill": {
     "duration": 0.022773,
     "end_time": "2022-12-23T19:06:59.161168",
     "exception": false,
     "start_time": "2022-12-23T19:06:59.138395",
     "status": "completed"
    },
    "tags": []
   },
   "outputs": [
    {
     "data": {
      "application/javascript": [
       "parent.postMessage({\"jupyterEvent\": \"custom.exercise_interaction\", \"data\": {\"outcomeType\": 1, \"valueTowardsCompletion\": 0.16666666666666666, \"interactionType\": 1, \"questionType\": 1, \"questionId\": \"4_SortedVarieties\", \"learnToolsVersion\": \"0.3.4\", \"failureMessage\": \"\", \"exceptionClass\": \"\", \"trace\": \"\"}}, \"*\")"
      ],
      "text/plain": [
       "<IPython.core.display.Javascript object>"
      ]
     },
     "metadata": {},
     "output_type": "display_data"
    },
    {
     "data": {
      "text/markdown": [
       "<span style=\"color:#33cc33\">Correct</span>"
      ],
      "text/plain": [
       "Correct"
      ]
     },
     "metadata": {},
     "output_type": "display_data"
    }
   ],
   "source": [
    "sorted_varieties = price_extremes.sort_values(by=[\"min\", \"max\"], ascending=False)\n",
    "\n",
    "# Check your answer\n",
    "q4.check()"
   ]
  },
  {
   "cell_type": "code",
   "execution_count": 9,
   "id": "fe204ba1",
   "metadata": {
    "execution": {
     "iopub.execute_input": "2022-12-23T19:06:59.177527Z",
     "iopub.status.busy": "2022-12-23T19:06:59.177104Z",
     "iopub.status.idle": "2022-12-23T19:06:59.181662Z",
     "shell.execute_reply": "2022-12-23T19:06:59.180358Z"
    },
    "papermill": {
     "duration": 0.015516,
     "end_time": "2022-12-23T19:06:59.184039",
     "exception": false,
     "start_time": "2022-12-23T19:06:59.168523",
     "status": "completed"
    },
    "tags": []
   },
   "outputs": [],
   "source": [
    "#q4.hint()\n",
    "#q4.solution()"
   ]
  },
  {
   "cell_type": "markdown",
   "id": "78559ba9",
   "metadata": {
    "papermill": {
     "duration": 0.006702,
     "end_time": "2022-12-23T19:06:59.198345",
     "exception": false,
     "start_time": "2022-12-23T19:06:59.191643",
     "status": "completed"
    },
    "tags": []
   },
   "source": [
    "## 5.\n",
    "Create a `Series` whose index is reviewers and whose values is the average review score given out by that reviewer. Hint: you will need the `taster_name` and `points` columns."
   ]
  },
  {
   "cell_type": "code",
   "execution_count": 10,
   "id": "a0a0e4cc",
   "metadata": {
    "execution": {
     "iopub.execute_input": "2022-12-23T19:06:59.213872Z",
     "iopub.status.busy": "2022-12-23T19:06:59.213457Z",
     "iopub.status.idle": "2022-12-23T19:06:59.234760Z",
     "shell.execute_reply": "2022-12-23T19:06:59.233756Z"
    },
    "papermill": {
     "duration": 0.03176,
     "end_time": "2022-12-23T19:06:59.237062",
     "exception": false,
     "start_time": "2022-12-23T19:06:59.205302",
     "status": "completed"
    },
    "tags": []
   },
   "outputs": [
    {
     "data": {
      "application/javascript": [
       "parent.postMessage({\"jupyterEvent\": \"custom.exercise_interaction\", \"data\": {\"outcomeType\": 1, \"valueTowardsCompletion\": 0.16666666666666666, \"interactionType\": 1, \"questionType\": 1, \"questionId\": \"5_ReviewerMeanRatings\", \"learnToolsVersion\": \"0.3.4\", \"failureMessage\": \"\", \"exceptionClass\": \"\", \"trace\": \"\"}}, \"*\")"
      ],
      "text/plain": [
       "<IPython.core.display.Javascript object>"
      ]
     },
     "metadata": {},
     "output_type": "display_data"
    },
    {
     "data": {
      "text/markdown": [
       "<span style=\"color:#33cc33\">Correct</span>"
      ],
      "text/plain": [
       "Correct"
      ]
     },
     "metadata": {},
     "output_type": "display_data"
    }
   ],
   "source": [
    "reviewer_mean_ratings = reviews.groupby(\"taster_name\").points.mean()\n",
    "\n",
    "# Check your answer\n",
    "q5.check()"
   ]
  },
  {
   "cell_type": "code",
   "execution_count": 11,
   "id": "c213112b",
   "metadata": {
    "execution": {
     "iopub.execute_input": "2022-12-23T19:06:59.254740Z",
     "iopub.status.busy": "2022-12-23T19:06:59.253483Z",
     "iopub.status.idle": "2022-12-23T19:06:59.258590Z",
     "shell.execute_reply": "2022-12-23T19:06:59.257610Z"
    },
    "papermill": {
     "duration": 0.016113,
     "end_time": "2022-12-23T19:06:59.261059",
     "exception": false,
     "start_time": "2022-12-23T19:06:59.244946",
     "status": "completed"
    },
    "tags": []
   },
   "outputs": [],
   "source": [
    "#q5.hint()\n",
    "#q5.solution()"
   ]
  },
  {
   "cell_type": "markdown",
   "id": "72852504",
   "metadata": {
    "papermill": {
     "duration": 0.007166,
     "end_time": "2022-12-23T19:06:59.276033",
     "exception": false,
     "start_time": "2022-12-23T19:06:59.268867",
     "status": "completed"
    },
    "tags": []
   },
   "source": [
    "Are there significant differences in the average scores assigned by the various reviewers? Run the cell below to use the `describe()` method to see a summary of the range of values."
   ]
  },
  {
   "cell_type": "code",
   "execution_count": 12,
   "id": "0fe31835",
   "metadata": {
    "execution": {
     "iopub.execute_input": "2022-12-23T19:06:59.292487Z",
     "iopub.status.busy": "2022-12-23T19:06:59.292086Z",
     "iopub.status.idle": "2022-12-23T19:06:59.306270Z",
     "shell.execute_reply": "2022-12-23T19:06:59.304941Z"
    },
    "papermill": {
     "duration": 0.02533,
     "end_time": "2022-12-23T19:06:59.308779",
     "exception": false,
     "start_time": "2022-12-23T19:06:59.283449",
     "status": "completed"
    },
    "tags": []
   },
   "outputs": [
    {
     "data": {
      "text/plain": [
       "count    19.000000\n",
       "mean     88.233026\n",
       "std       1.243610\n",
       "min      85.855422\n",
       "25%      87.323501\n",
       "50%      88.536235\n",
       "75%      88.975256\n",
       "max      90.562551\n",
       "Name: points, dtype: float64"
      ]
     },
     "execution_count": 12,
     "metadata": {},
     "output_type": "execute_result"
    }
   ],
   "source": [
    "reviewer_mean_ratings.describe()"
   ]
  },
  {
   "cell_type": "markdown",
   "id": "16846b8e",
   "metadata": {
    "papermill": {
     "duration": 0.007218,
     "end_time": "2022-12-23T19:06:59.323716",
     "exception": false,
     "start_time": "2022-12-23T19:06:59.316498",
     "status": "completed"
    },
    "tags": []
   },
   "source": [
    "## 6.\n",
    "What combination of countries and varieties are most common? Create a `Series` whose index is a `MultiIndex`of `{country, variety}` pairs. For example, a pinot noir produced in the US should map to `{\"US\", \"Pinot Noir\"}`. Sort the values in the `Series` in descending order based on wine count."
   ]
  },
  {
   "cell_type": "code",
   "execution_count": 13,
   "id": "1d3e0ebf",
   "metadata": {
    "execution": {
     "iopub.execute_input": "2022-12-23T19:06:59.340459Z",
     "iopub.status.busy": "2022-12-23T19:06:59.340054Z",
     "iopub.status.idle": "2022-12-23T19:06:59.377606Z",
     "shell.execute_reply": "2022-12-23T19:06:59.376365Z"
    },
    "papermill": {
     "duration": 0.048925,
     "end_time": "2022-12-23T19:06:59.380206",
     "exception": false,
     "start_time": "2022-12-23T19:06:59.331281",
     "status": "completed"
    },
    "tags": []
   },
   "outputs": [
    {
     "data": {
      "application/javascript": [
       "parent.postMessage({\"jupyterEvent\": \"custom.exercise_interaction\", \"data\": {\"outcomeType\": 1, \"valueTowardsCompletion\": 0.16666666666666666, \"interactionType\": 1, \"questionType\": 1, \"questionId\": \"6_GroupbyCountryVariety\", \"learnToolsVersion\": \"0.3.4\", \"failureMessage\": \"\", \"exceptionClass\": \"\", \"trace\": \"\"}}, \"*\")"
      ],
      "text/plain": [
       "<IPython.core.display.Javascript object>"
      ]
     },
     "metadata": {},
     "output_type": "display_data"
    },
    {
     "data": {
      "text/markdown": [
       "<span style=\"color:#33cc33\">Correct</span>"
      ],
      "text/plain": [
       "Correct"
      ]
     },
     "metadata": {},
     "output_type": "display_data"
    }
   ],
   "source": [
    "country_variety_counts = reviews.groupby([\"country\", \"variety\"]).size().sort_values(ascending=False)\n",
    "\n",
    "# Check your answer\n",
    "q6.check()"
   ]
  },
  {
   "cell_type": "code",
   "execution_count": 14,
   "id": "434b9877",
   "metadata": {
    "execution": {
     "iopub.execute_input": "2022-12-23T19:06:59.399086Z",
     "iopub.status.busy": "2022-12-23T19:06:59.398007Z",
     "iopub.status.idle": "2022-12-23T19:06:59.403183Z",
     "shell.execute_reply": "2022-12-23T19:06:59.401938Z"
    },
    "papermill": {
     "duration": 0.017101,
     "end_time": "2022-12-23T19:06:59.405532",
     "exception": false,
     "start_time": "2022-12-23T19:06:59.388431",
     "status": "completed"
    },
    "tags": []
   },
   "outputs": [],
   "source": [
    "#q6.hint()\n",
    "#q6.solution()"
   ]
  },
  {
   "cell_type": "markdown",
   "id": "d3cf411a",
   "metadata": {
    "papermill": {
     "duration": 0.007336,
     "end_time": "2022-12-23T19:06:59.420452",
     "exception": false,
     "start_time": "2022-12-23T19:06:59.413116",
     "status": "completed"
    },
    "tags": []
   },
   "source": [
    "# Keep going\n",
    "\n",
    "Move on to the [**data types and missing data**](https://www.kaggle.com/residentmario/data-types-and-missing-values)."
   ]
  },
  {
   "cell_type": "markdown",
   "id": "0cc785da",
   "metadata": {
    "papermill": {
     "duration": 0.007395,
     "end_time": "2022-12-23T19:06:59.435766",
     "exception": false,
     "start_time": "2022-12-23T19:06:59.428371",
     "status": "completed"
    },
    "tags": []
   },
   "source": [
    "---\n",
    "\n",
    "\n",
    "\n",
    "\n",
    "*Have questions or comments? Visit the [course discussion forum](https://www.kaggle.com/learn/pandas/discussion) to chat with other learners.*"
   ]
  }
 ],
 "metadata": {
  "kernelspec": {
   "display_name": "Python 3",
   "language": "python",
   "name": "python3"
  },
  "language_info": {
   "codemirror_mode": {
    "name": "ipython",
    "version": 3
   },
   "file_extension": ".py",
   "mimetype": "text/x-python",
   "name": "python",
   "nbconvert_exporter": "python",
   "pygments_lexer": "ipython3",
   "version": "3.7.12"
  },
  "papermill": {
   "default_parameters": {},
   "duration": 13.084412,
   "end_time": "2022-12-23T19:07:00.166650",
   "environment_variables": {},
   "exception": null,
   "input_path": "__notebook__.ipynb",
   "output_path": "__notebook__.ipynb",
   "parameters": {},
   "start_time": "2022-12-23T19:06:47.082238",
   "version": "2.3.4"
  }
 },
 "nbformat": 4,
 "nbformat_minor": 5
}

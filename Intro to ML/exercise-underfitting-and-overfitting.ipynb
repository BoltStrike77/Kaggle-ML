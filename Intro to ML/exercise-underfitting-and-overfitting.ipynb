{
 "cells": [
  {
   "cell_type": "markdown",
   "id": "dc17e46b",
   "metadata": {
    "papermill": {
     "duration": 0.00333,
     "end_time": "2022-06-26T17:36:15.988283",
     "exception": false,
     "start_time": "2022-06-26T17:36:15.984953",
     "status": "completed"
    },
    "tags": []
   },
   "source": [
    "**This notebook is an exercise in the [Introduction to Machine Learning](https://www.kaggle.com/learn/intro-to-machine-learning) course.  You can reference the tutorial at [this link](https://www.kaggle.com/dansbecker/underfitting-and-overfitting).**\n",
    "\n",
    "---\n"
   ]
  },
  {
   "cell_type": "markdown",
   "id": "f0face89",
   "metadata": {
    "papermill": {
     "duration": 0.002409,
     "end_time": "2022-06-26T17:36:15.993469",
     "exception": false,
     "start_time": "2022-06-26T17:36:15.991060",
     "status": "completed"
    },
    "tags": []
   },
   "source": [
    "## Recap\n",
    "You've built your first model, and now it's time to optimize the size of the tree to make better predictions. Run this cell to set up your coding environment where the previous step left off."
   ]
  },
  {
   "cell_type": "code",
   "execution_count": 1,
   "id": "efbe7098",
   "metadata": {
    "execution": {
     "iopub.execute_input": "2022-06-26T17:36:16.000463Z",
     "iopub.status.busy": "2022-06-26T17:36:16.000023Z",
     "iopub.status.idle": "2022-06-26T17:36:17.246178Z",
     "shell.execute_reply": "2022-06-26T17:36:17.244875Z"
    },
    "papermill": {
     "duration": 1.25206,
     "end_time": "2022-06-26T17:36:17.248106",
     "exception": false,
     "start_time": "2022-06-26T17:36:15.996046",
     "status": "completed"
    },
    "tags": []
   },
   "outputs": [
    {
     "name": "stdout",
     "output_type": "stream",
     "text": [
      "Validation MAE: 29,653\n",
      "\n",
      "Setup complete\n"
     ]
    }
   ],
   "source": [
    "# Code you have previously used to load data\n",
    "import pandas as pd\n",
    "from sklearn.metrics import mean_absolute_error\n",
    "from sklearn.model_selection import train_test_split\n",
    "from sklearn.tree import DecisionTreeRegressor\n",
    "\n",
    "\n",
    "# Path of the file to read\n",
    "iowa_file_path = '../input/home-data-for-ml-course/train.csv'\n",
    "\n",
    "home_data = pd.read_csv(iowa_file_path)\n",
    "# Create target object and call it y\n",
    "y = home_data.SalePrice\n",
    "# Create X\n",
    "features = ['LotArea', 'YearBuilt', '1stFlrSF', '2ndFlrSF', 'FullBath', 'BedroomAbvGr', 'TotRmsAbvGrd']\n",
    "X = home_data[features]\n",
    "\n",
    "# Split into validation and training data\n",
    "train_X, val_X, train_y, val_y = train_test_split(X, y, random_state=1)\n",
    "\n",
    "# Specify Model\n",
    "iowa_model = DecisionTreeRegressor(random_state=1)\n",
    "# Fit Model\n",
    "iowa_model.fit(train_X, train_y)\n",
    "\n",
    "# Make validation predictions and calculate mean absolute error\n",
    "val_predictions = iowa_model.predict(val_X)\n",
    "val_mae = mean_absolute_error(val_predictions, val_y)\n",
    "print(\"Validation MAE: {:,.0f}\".format(val_mae))\n",
    "\n",
    "# Set up code checking\n",
    "from learntools.core import binder\n",
    "binder.bind(globals())\n",
    "from learntools.machine_learning.ex5 import *\n",
    "print(\"\\nSetup complete\")"
   ]
  },
  {
   "cell_type": "markdown",
   "id": "23cae2d8",
   "metadata": {
    "papermill": {
     "duration": 0.00247,
     "end_time": "2022-06-26T17:36:17.253537",
     "exception": false,
     "start_time": "2022-06-26T17:36:17.251067",
     "status": "completed"
    },
    "tags": []
   },
   "source": [
    "# Exercises\n",
    "You could write the function `get_mae` yourself. For now, we'll supply it. This is the same function you read about in the previous lesson. Just run the cell below."
   ]
  },
  {
   "cell_type": "code",
   "execution_count": 2,
   "id": "e88fd114",
   "metadata": {
    "execution": {
     "iopub.execute_input": "2022-06-26T17:36:17.261221Z",
     "iopub.status.busy": "2022-06-26T17:36:17.259700Z",
     "iopub.status.idle": "2022-06-26T17:36:17.265740Z",
     "shell.execute_reply": "2022-06-26T17:36:17.265087Z"
    },
    "papermill": {
     "duration": 0.01104,
     "end_time": "2022-06-26T17:36:17.267202",
     "exception": false,
     "start_time": "2022-06-26T17:36:17.256162",
     "status": "completed"
    },
    "tags": []
   },
   "outputs": [],
   "source": [
    "def get_mae(max_leaf_nodes, train_X, val_X, train_y, val_y):\n",
    "    model = DecisionTreeRegressor(max_leaf_nodes=max_leaf_nodes, random_state=0)\n",
    "    model.fit(train_X, train_y)\n",
    "    preds_val = model.predict(val_X)\n",
    "    mae = mean_absolute_error(val_y, preds_val)\n",
    "    return(mae)"
   ]
  },
  {
   "cell_type": "markdown",
   "id": "e949f813",
   "metadata": {
    "papermill": {
     "duration": 0.002448,
     "end_time": "2022-06-26T17:36:17.272431",
     "exception": false,
     "start_time": "2022-06-26T17:36:17.269983",
     "status": "completed"
    },
    "tags": []
   },
   "source": [
    "## Step 1: Compare Different Tree Sizes\n",
    "Write a loop that tries the following values for *max_leaf_nodes* from a set of possible values.\n",
    "\n",
    "Call the *get_mae* function on each value of max_leaf_nodes. Store the output in some way that allows you to select the value of `max_leaf_nodes` that gives the most accurate model on your data."
   ]
  },
  {
   "cell_type": "code",
   "execution_count": 3,
   "id": "08b16fbd",
   "metadata": {
    "execution": {
     "iopub.execute_input": "2022-06-26T17:36:17.279242Z",
     "iopub.status.busy": "2022-06-26T17:36:17.278745Z",
     "iopub.status.idle": "2022-06-26T17:36:17.330759Z",
     "shell.execute_reply": "2022-06-26T17:36:17.329804Z"
    },
    "papermill": {
     "duration": 0.057174,
     "end_time": "2022-06-26T17:36:17.332284",
     "exception": false,
     "start_time": "2022-06-26T17:36:17.275110",
     "status": "completed"
    },
    "tags": []
   },
   "outputs": [
    {
     "name": "stdout",
     "output_type": "stream",
     "text": [
      "100\n"
     ]
    },
    {
     "data": {
      "application/javascript": [
       "parent.postMessage({\"jupyterEvent\": \"custom.exercise_interaction\", \"data\": {\"outcomeType\": 1, \"valueTowardsCompletion\": 0.5, \"interactionType\": 1, \"questionType\": 1, \"questionId\": \"1_BestTreeSize\", \"learnToolsVersion\": \"0.3.4\", \"failureMessage\": \"\", \"exceptionClass\": \"\", \"trace\": \"\"}}, \"*\")"
      ],
      "text/plain": [
       "<IPython.core.display.Javascript object>"
      ]
     },
     "metadata": {},
     "output_type": "display_data"
    },
    {
     "data": {
      "text/markdown": [
       "<span style=\"color:#33cc33\">Correct</span>"
      ],
      "text/plain": [
       "Correct"
      ]
     },
     "metadata": {},
     "output_type": "display_data"
    }
   ],
   "source": [
    "candidate_max_leaf_nodes = [5, 25, 50, 100, 250, 500]\n",
    "scores = []\n",
    "# Write loop to find the ideal tree size from candidate_max_leaf_nodes\n",
    "for x in candidate_max_leaf_nodes:\n",
    "    scores.append(get_mae(x, train_X, val_X, train_y, val_y))\n",
    "           \n",
    "best_score = scores[0]\n",
    "best_tree_size_index = 0\n",
    "for i in range(len(scores)):\n",
    "    if best_score > scores[i]:\n",
    "        best_score = scores[i]\n",
    "        best_tree_size_index = i\n",
    "    \n",
    "# Store the best value of max_leaf_nodes (it will be either 5, 25, 50, 100, 250 or 500)\n",
    "best_tree_size = candidate_max_leaf_nodes[best_tree_size_index]\n",
    "print(best_tree_size)\n",
    "\n",
    "# Check your answer\n",
    "step_1.check()"
   ]
  },
  {
   "cell_type": "code",
   "execution_count": 4,
   "id": "48794ded",
   "metadata": {
    "execution": {
     "iopub.execute_input": "2022-06-26T17:36:17.339764Z",
     "iopub.status.busy": "2022-06-26T17:36:17.339431Z",
     "iopub.status.idle": "2022-06-26T17:36:17.343706Z",
     "shell.execute_reply": "2022-06-26T17:36:17.342687Z"
    },
    "papermill": {
     "duration": 0.010024,
     "end_time": "2022-06-26T17:36:17.345453",
     "exception": false,
     "start_time": "2022-06-26T17:36:17.335429",
     "status": "completed"
    },
    "tags": []
   },
   "outputs": [],
   "source": [
    "# The lines below will show you a hint or the solution.\n",
    "# step_1.hint() \n",
    "# step_1.solution()"
   ]
  },
  {
   "cell_type": "markdown",
   "id": "26fc94bd",
   "metadata": {
    "papermill": {
     "duration": 0.003002,
     "end_time": "2022-06-26T17:36:17.351722",
     "exception": false,
     "start_time": "2022-06-26T17:36:17.348720",
     "status": "completed"
    },
    "tags": []
   },
   "source": [
    "## Step 2: Fit Model Using All Data\n",
    "You know the best tree size. If you were going to deploy this model in practice, you would make it even more accurate by using all of the data and keeping that tree size.  That is, you don't need to hold out the validation data now that you've made all your modeling decisions."
   ]
  },
  {
   "cell_type": "code",
   "execution_count": 5,
   "id": "0dfd1bcb",
   "metadata": {
    "execution": {
     "iopub.execute_input": "2022-06-26T17:36:17.359294Z",
     "iopub.status.busy": "2022-06-26T17:36:17.358745Z",
     "iopub.status.idle": "2022-06-26T17:36:17.372436Z",
     "shell.execute_reply": "2022-06-26T17:36:17.371873Z"
    },
    "papermill": {
     "duration": 0.019616,
     "end_time": "2022-06-26T17:36:17.374325",
     "exception": false,
     "start_time": "2022-06-26T17:36:17.354709",
     "status": "completed"
    },
    "tags": []
   },
   "outputs": [
    {
     "data": {
      "application/javascript": [
       "parent.postMessage({\"jupyterEvent\": \"custom.exercise_interaction\", \"data\": {\"outcomeType\": 1, \"valueTowardsCompletion\": 0.5, \"interactionType\": 1, \"questionType\": 2, \"questionId\": \"2_FitModelWithAllData\", \"learnToolsVersion\": \"0.3.4\", \"failureMessage\": \"\", \"exceptionClass\": \"\", \"trace\": \"\"}}, \"*\")"
      ],
      "text/plain": [
       "<IPython.core.display.Javascript object>"
      ]
     },
     "metadata": {},
     "output_type": "display_data"
    },
    {
     "data": {
      "text/markdown": [
       "<span style=\"color:#33cc33\">Correct</span>"
      ],
      "text/plain": [
       "Correct"
      ]
     },
     "metadata": {},
     "output_type": "display_data"
    }
   ],
   "source": [
    "# Fill in argument to make optimal size and uncomment\n",
    "final_model = DecisionTreeRegressor(random_state=1,max_leaf_nodes=best_tree_size)\n",
    "\n",
    "# fit the final model and uncomment the next two lines\n",
    "final_model.fit(X, y)\n",
    "\n",
    "# Check your answer\n",
    "step_2.check()"
   ]
  },
  {
   "cell_type": "code",
   "execution_count": 6,
   "id": "47be15f5",
   "metadata": {
    "execution": {
     "iopub.execute_input": "2022-06-26T17:36:17.385325Z",
     "iopub.status.busy": "2022-06-26T17:36:17.384934Z",
     "iopub.status.idle": "2022-06-26T17:36:17.387579Z",
     "shell.execute_reply": "2022-06-26T17:36:17.387063Z"
    },
    "papermill": {
     "duration": 0.010042,
     "end_time": "2022-06-26T17:36:17.389341",
     "exception": false,
     "start_time": "2022-06-26T17:36:17.379299",
     "status": "completed"
    },
    "tags": []
   },
   "outputs": [],
   "source": [
    "# step_2.hint()\n",
    "# step_2.solution()"
   ]
  },
  {
   "cell_type": "markdown",
   "id": "3081eaca",
   "metadata": {
    "papermill": {
     "duration": 0.004548,
     "end_time": "2022-06-26T17:36:17.398947",
     "exception": false,
     "start_time": "2022-06-26T17:36:17.394399",
     "status": "completed"
    },
    "tags": []
   },
   "source": [
    "You've tuned this model and improved your results. But we are still using Decision Tree models, which are not very sophisticated by modern machine learning standards. In the next step you will learn to use Random Forests to improve your models even more.\n",
    "\n",
    "# Keep Going\n",
    "\n",
    "You are ready for **[Random Forests](https://www.kaggle.com/dansbecker/random-forests).**\n"
   ]
  },
  {
   "cell_type": "markdown",
   "id": "d8678263",
   "metadata": {
    "papermill": {
     "duration": 0.004569,
     "end_time": "2022-06-26T17:36:17.408276",
     "exception": false,
     "start_time": "2022-06-26T17:36:17.403707",
     "status": "completed"
    },
    "tags": []
   },
   "source": [
    "---\n",
    "\n",
    "\n",
    "\n",
    "\n",
    "*Have questions or comments? Visit the [course discussion forum](https://www.kaggle.com/learn/intro-to-machine-learning/discussion) to chat with other learners.*"
   ]
  }
 ],
 "metadata": {
  "kernelspec": {
   "display_name": "Python 3",
   "language": "python",
   "name": "python3"
  },
  "language_info": {
   "codemirror_mode": {
    "name": "ipython",
    "version": 3
   },
   "file_extension": ".py",
   "mimetype": "text/x-python",
   "name": "python",
   "nbconvert_exporter": "python",
   "pygments_lexer": "ipython3",
   "version": "3.7.12"
  },
  "papermill": {
   "default_parameters": {},
   "duration": 12.054382,
   "end_time": "2022-06-26T17:36:18.131298",
   "environment_variables": {},
   "exception": null,
   "input_path": "__notebook__.ipynb",
   "output_path": "__notebook__.ipynb",
   "parameters": {},
   "start_time": "2022-06-26T17:36:06.076916",
   "version": "2.3.4"
  }
 },
 "nbformat": 4,
 "nbformat_minor": 5
}

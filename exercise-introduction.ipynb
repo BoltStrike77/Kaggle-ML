{
 "cells": [
  {
   "cell_type": "markdown",
   "id": "aa741348",
   "metadata": {
    "papermill": {
     "duration": 0.007177,
     "end_time": "2022-07-29T01:33:43.964906",
     "exception": false,
     "start_time": "2022-07-29T01:33:43.957729",
     "status": "completed"
    },
    "tags": []
   },
   "source": [
    "**This notebook is an exercise in the [Intermediate Machine Learning](https://www.kaggle.com/learn/intermediate-machine-learning) course.  You can reference the tutorial at [this link](https://www.kaggle.com/alexisbcook/introduction).**\n",
    "\n",
    "---\n"
   ]
  },
  {
   "cell_type": "markdown",
   "id": "fe457be3",
   "metadata": {
    "papermill": {
     "duration": 0.005413,
     "end_time": "2022-07-29T01:33:43.976225",
     "exception": false,
     "start_time": "2022-07-29T01:33:43.970812",
     "status": "completed"
    },
    "tags": []
   },
   "source": [
    "As a warm-up, you'll review some machine learning fundamentals and submit your initial results to a Kaggle competition.\n",
    "\n",
    "# Setup\n",
    "\n",
    "The questions below will give you feedback on your work. Run the following cell to set up the feedback system."
   ]
  },
  {
   "cell_type": "code",
   "execution_count": 1,
   "id": "b5f9eef6",
   "metadata": {
    "execution": {
     "iopub.execute_input": "2022-07-29T01:33:43.990525Z",
     "iopub.status.busy": "2022-07-29T01:33:43.989818Z",
     "iopub.status.idle": "2022-07-29T01:33:45.506992Z",
     "shell.execute_reply": "2022-07-29T01:33:45.505622Z"
    },
    "papermill": {
     "duration": 1.527656,
     "end_time": "2022-07-29T01:33:45.509670",
     "exception": false,
     "start_time": "2022-07-29T01:33:43.982014",
     "status": "completed"
    },
    "tags": []
   },
   "outputs": [
    {
     "name": "stdout",
     "output_type": "stream",
     "text": [
      "Setup Complete\n"
     ]
    }
   ],
   "source": [
    "# Set up code checking\n",
    "import os\n",
    "if not os.path.exists(\"../input/train.csv\"):\n",
    "    os.symlink(\"../input/home-data-for-ml-course/train.csv\", \"../input/train.csv\")  \n",
    "    os.symlink(\"../input/home-data-for-ml-course/test.csv\", \"../input/test.csv\")  \n",
    "from learntools.core import binder\n",
    "binder.bind(globals())\n",
    "from learntools.ml_intermediate.ex1 import *\n",
    "print(\"Setup Complete\")"
   ]
  },
  {
   "cell_type": "markdown",
   "id": "9446be62",
   "metadata": {
    "papermill": {
     "duration": 0.005624,
     "end_time": "2022-07-29T01:33:45.521393",
     "exception": false,
     "start_time": "2022-07-29T01:33:45.515769",
     "status": "completed"
    },
    "tags": []
   },
   "source": [
    "You will work with data from the [Housing Prices Competition for Kaggle Learn Users](https://www.kaggle.com/c/home-data-for-ml-course) to predict home prices in Iowa using 79 explanatory variables describing (almost) every aspect of the homes.  \n",
    "\n",
    "![Ames Housing dataset image](https://i.imgur.com/lTJVG4e.png)\n",
    "\n",
    "Run the next code cell without changes to load the training and validation features in `X_train` and `X_valid`, along with the prediction targets in `y_train` and `y_valid`.  The test features are loaded in `X_test`.  (_If you need to review **features** and **prediction targets**, please check out [this short tutorial](https://www.kaggle.com/dansbecker/your-first-machine-learning-model).  To read about model **validation**, look [here](https://www.kaggle.com/dansbecker/model-validation).  Alternatively, if you'd prefer to look through a full course to review all of these topics, start [here](https://www.kaggle.com/learn/machine-learning).)_"
   ]
  },
  {
   "cell_type": "code",
   "execution_count": 2,
   "id": "c4e3921b",
   "metadata": {
    "execution": {
     "iopub.execute_input": "2022-07-29T01:33:45.535492Z",
     "iopub.status.busy": "2022-07-29T01:33:45.534396Z",
     "iopub.status.idle": "2022-07-29T01:33:45.630984Z",
     "shell.execute_reply": "2022-07-29T01:33:45.629750Z"
    },
    "papermill": {
     "duration": 0.106668,
     "end_time": "2022-07-29T01:33:45.633829",
     "exception": false,
     "start_time": "2022-07-29T01:33:45.527161",
     "status": "completed"
    },
    "tags": []
   },
   "outputs": [],
   "source": [
    "import pandas as pd\n",
    "from sklearn.model_selection import train_test_split\n",
    "\n",
    "# Read the data\n",
    "X_full = pd.read_csv('../input/train.csv', index_col='Id')\n",
    "X_test_full = pd.read_csv('../input/test.csv', index_col='Id')\n",
    "\n",
    "# Obtain target and predictors\n",
    "y = X_full.SalePrice\n",
    "features = ['LotArea', 'YearBuilt', '1stFlrSF', '2ndFlrSF', 'FullBath', 'BedroomAbvGr', 'TotRmsAbvGrd']\n",
    "X = X_full[features].copy()\n",
    "X_test = X_test_full[features].copy()\n",
    "\n",
    "# Break off validation set from training data\n",
    "X_train, X_valid, y_train, y_valid = train_test_split(X, y, train_size=0.8, test_size=0.2,\n",
    "                                                      random_state=0)"
   ]
  },
  {
   "cell_type": "markdown",
   "id": "e3d61ce8",
   "metadata": {
    "papermill": {
     "duration": 0.005727,
     "end_time": "2022-07-29T01:33:45.645672",
     "exception": false,
     "start_time": "2022-07-29T01:33:45.639945",
     "status": "completed"
    },
    "tags": []
   },
   "source": [
    "Use the next cell to print the first several rows of the data. It's a nice way to get an overview of the data you will use in your price prediction model."
   ]
  },
  {
   "cell_type": "code",
   "execution_count": 3,
   "id": "4763b846",
   "metadata": {
    "execution": {
     "iopub.execute_input": "2022-07-29T01:33:45.659374Z",
     "iopub.status.busy": "2022-07-29T01:33:45.658958Z",
     "iopub.status.idle": "2022-07-29T01:33:45.677127Z",
     "shell.execute_reply": "2022-07-29T01:33:45.675765Z"
    },
    "papermill": {
     "duration": 0.029144,
     "end_time": "2022-07-29T01:33:45.680748",
     "exception": false,
     "start_time": "2022-07-29T01:33:45.651604",
     "status": "completed"
    },
    "tags": []
   },
   "outputs": [
    {
     "data": {
      "text/html": [
       "<div>\n",
       "<style scoped>\n",
       "    .dataframe tbody tr th:only-of-type {\n",
       "        vertical-align: middle;\n",
       "    }\n",
       "\n",
       "    .dataframe tbody tr th {\n",
       "        vertical-align: top;\n",
       "    }\n",
       "\n",
       "    .dataframe thead th {\n",
       "        text-align: right;\n",
       "    }\n",
       "</style>\n",
       "<table border=\"1\" class=\"dataframe\">\n",
       "  <thead>\n",
       "    <tr style=\"text-align: right;\">\n",
       "      <th></th>\n",
       "      <th>LotArea</th>\n",
       "      <th>YearBuilt</th>\n",
       "      <th>1stFlrSF</th>\n",
       "      <th>2ndFlrSF</th>\n",
       "      <th>FullBath</th>\n",
       "      <th>BedroomAbvGr</th>\n",
       "      <th>TotRmsAbvGrd</th>\n",
       "    </tr>\n",
       "    <tr>\n",
       "      <th>Id</th>\n",
       "      <th></th>\n",
       "      <th></th>\n",
       "      <th></th>\n",
       "      <th></th>\n",
       "      <th></th>\n",
       "      <th></th>\n",
       "      <th></th>\n",
       "    </tr>\n",
       "  </thead>\n",
       "  <tbody>\n",
       "    <tr>\n",
       "      <th>619</th>\n",
       "      <td>11694</td>\n",
       "      <td>2007</td>\n",
       "      <td>1828</td>\n",
       "      <td>0</td>\n",
       "      <td>2</td>\n",
       "      <td>3</td>\n",
       "      <td>9</td>\n",
       "    </tr>\n",
       "    <tr>\n",
       "      <th>871</th>\n",
       "      <td>6600</td>\n",
       "      <td>1962</td>\n",
       "      <td>894</td>\n",
       "      <td>0</td>\n",
       "      <td>1</td>\n",
       "      <td>2</td>\n",
       "      <td>5</td>\n",
       "    </tr>\n",
       "    <tr>\n",
       "      <th>93</th>\n",
       "      <td>13360</td>\n",
       "      <td>1921</td>\n",
       "      <td>964</td>\n",
       "      <td>0</td>\n",
       "      <td>1</td>\n",
       "      <td>2</td>\n",
       "      <td>5</td>\n",
       "    </tr>\n",
       "    <tr>\n",
       "      <th>818</th>\n",
       "      <td>13265</td>\n",
       "      <td>2002</td>\n",
       "      <td>1689</td>\n",
       "      <td>0</td>\n",
       "      <td>2</td>\n",
       "      <td>3</td>\n",
       "      <td>7</td>\n",
       "    </tr>\n",
       "    <tr>\n",
       "      <th>303</th>\n",
       "      <td>13704</td>\n",
       "      <td>2001</td>\n",
       "      <td>1541</td>\n",
       "      <td>0</td>\n",
       "      <td>2</td>\n",
       "      <td>3</td>\n",
       "      <td>6</td>\n",
       "    </tr>\n",
       "  </tbody>\n",
       "</table>\n",
       "</div>"
      ],
      "text/plain": [
       "     LotArea  YearBuilt  1stFlrSF  2ndFlrSF  FullBath  BedroomAbvGr  \\\n",
       "Id                                                                    \n",
       "619    11694       2007      1828         0         2             3   \n",
       "871     6600       1962       894         0         1             2   \n",
       "93     13360       1921       964         0         1             2   \n",
       "818    13265       2002      1689         0         2             3   \n",
       "303    13704       2001      1541         0         2             3   \n",
       "\n",
       "     TotRmsAbvGrd  \n",
       "Id                 \n",
       "619             9  \n",
       "871             5  \n",
       "93              5  \n",
       "818             7  \n",
       "303             6  "
      ]
     },
     "execution_count": 3,
     "metadata": {},
     "output_type": "execute_result"
    }
   ],
   "source": [
    "X_train.head()"
   ]
  },
  {
   "cell_type": "markdown",
   "id": "364cb02d",
   "metadata": {
    "papermill": {
     "duration": 0.006181,
     "end_time": "2022-07-29T01:33:45.693217",
     "exception": false,
     "start_time": "2022-07-29T01:33:45.687036",
     "status": "completed"
    },
    "tags": []
   },
   "source": [
    "The next code cell defines five different random forest models.  Run this code cell without changes.  (_To review **random forests**, look [here](https://www.kaggle.com/dansbecker/random-forests)._)"
   ]
  },
  {
   "cell_type": "code",
   "execution_count": 4,
   "id": "f8450959",
   "metadata": {
    "execution": {
     "iopub.execute_input": "2022-07-29T01:33:45.708223Z",
     "iopub.status.busy": "2022-07-29T01:33:45.707411Z",
     "iopub.status.idle": "2022-07-29T01:33:45.714928Z",
     "shell.execute_reply": "2022-07-29T01:33:45.714102Z"
    },
    "papermill": {
     "duration": 0.017866,
     "end_time": "2022-07-29T01:33:45.717401",
     "exception": false,
     "start_time": "2022-07-29T01:33:45.699535",
     "status": "completed"
    },
    "tags": []
   },
   "outputs": [],
   "source": [
    "from sklearn.ensemble import RandomForestRegressor\n",
    "\n",
    "# Define the models\n",
    "model_1 = RandomForestRegressor(n_estimators=50, random_state=0)\n",
    "model_2 = RandomForestRegressor(n_estimators=100, random_state=0)\n",
    "model_3 = RandomForestRegressor(n_estimators=100, criterion='absolute_error', random_state=0)\n",
    "model_4 = RandomForestRegressor(n_estimators=200, min_samples_split=20, random_state=0)\n",
    "model_5 = RandomForestRegressor(n_estimators=100, max_depth=7, random_state=0)\n",
    "\n",
    "models = [model_1, model_2, model_3, model_4, model_5]"
   ]
  },
  {
   "cell_type": "markdown",
   "id": "af5c7aa6",
   "metadata": {
    "papermill": {
     "duration": 0.006015,
     "end_time": "2022-07-29T01:33:45.729552",
     "exception": false,
     "start_time": "2022-07-29T01:33:45.723537",
     "status": "completed"
    },
    "tags": []
   },
   "source": [
    "To select the best model out of the five, we define a function `score_model()` below.  This function returns the mean absolute error (MAE) from the validation set.  Recall that the best model will obtain the lowest MAE.  (_To review **mean absolute error**, look [here](https://www.kaggle.com/dansbecker/model-validation).)_\n",
    "\n",
    "Run the code cell without changes."
   ]
  },
  {
   "cell_type": "code",
   "execution_count": 5,
   "id": "397e16ac",
   "metadata": {
    "execution": {
     "iopub.execute_input": "2022-07-29T01:33:45.744130Z",
     "iopub.status.busy": "2022-07-29T01:33:45.743333Z",
     "iopub.status.idle": "2022-07-29T01:33:50.622815Z",
     "shell.execute_reply": "2022-07-29T01:33:50.621472Z"
    },
    "papermill": {
     "duration": 4.889652,
     "end_time": "2022-07-29T01:33:50.625459",
     "exception": false,
     "start_time": "2022-07-29T01:33:45.735807",
     "status": "completed"
    },
    "tags": []
   },
   "outputs": [
    {
     "name": "stdout",
     "output_type": "stream",
     "text": [
      "Model 1 MAE: 24015\n",
      "Model 2 MAE: 23740\n",
      "Model 3 MAE: 23528\n",
      "Model 4 MAE: 23996\n",
      "Model 5 MAE: 23706\n"
     ]
    }
   ],
   "source": [
    "from sklearn.metrics import mean_absolute_error\n",
    "\n",
    "# Function for comparing different models\n",
    "def score_model(model, X_t=X_train, X_v=X_valid, y_t=y_train, y_v=y_valid):\n",
    "    model.fit(X_t, y_t)\n",
    "    preds = model.predict(X_v)\n",
    "    return mean_absolute_error(y_v, preds)\n",
    "\n",
    "for i in range(0, len(models)):\n",
    "    mae = score_model(models[i])\n",
    "    print(\"Model %d MAE: %d\" % (i+1, mae))"
   ]
  },
  {
   "cell_type": "markdown",
   "id": "f74622bb",
   "metadata": {
    "papermill": {
     "duration": 0.00622,
     "end_time": "2022-07-29T01:33:50.638806",
     "exception": false,
     "start_time": "2022-07-29T01:33:50.632586",
     "status": "completed"
    },
    "tags": []
   },
   "source": [
    "# Step 1: Evaluate several models\n",
    "\n",
    "Use the above results to fill in the line below.  Which model is the best model?  Your answer should be one of `model_1`, `model_2`, `model_3`, `model_4`, or `model_5`."
   ]
  },
  {
   "cell_type": "code",
   "execution_count": 6,
   "id": "dc79c8cf",
   "metadata": {
    "execution": {
     "iopub.execute_input": "2022-07-29T01:33:50.653253Z",
     "iopub.status.busy": "2022-07-29T01:33:50.652867Z",
     "iopub.status.idle": "2022-07-29T01:33:50.662721Z",
     "shell.execute_reply": "2022-07-29T01:33:50.661165Z"
    },
    "papermill": {
     "duration": 0.020028,
     "end_time": "2022-07-29T01:33:50.665271",
     "exception": false,
     "start_time": "2022-07-29T01:33:50.645243",
     "status": "completed"
    },
    "tags": []
   },
   "outputs": [
    {
     "data": {
      "application/javascript": [
       "parent.postMessage({\"jupyterEvent\": \"custom.exercise_interaction\", \"data\": {\"outcomeType\": 1, \"valueTowardsCompletion\": 0.5, \"interactionType\": 1, \"questionType\": 2, \"questionId\": \"1_BestModel\", \"learnToolsVersion\": \"0.3.4\", \"failureMessage\": \"\", \"exceptionClass\": \"\", \"trace\": \"\"}}, \"*\")"
      ],
      "text/plain": [
       "<IPython.core.display.Javascript object>"
      ]
     },
     "metadata": {},
     "output_type": "display_data"
    },
    {
     "data": {
      "text/markdown": [
       "<span style=\"color:#33cc33\">Correct</span>"
      ],
      "text/plain": [
       "Correct"
      ]
     },
     "metadata": {},
     "output_type": "display_data"
    }
   ],
   "source": [
    "# Fill in the best model\n",
    "best_model = model_3\n",
    "\n",
    "# Check your answer\n",
    "step_1.check()"
   ]
  },
  {
   "cell_type": "code",
   "execution_count": 7,
   "id": "bb267207",
   "metadata": {
    "execution": {
     "iopub.execute_input": "2022-07-29T01:33:50.681732Z",
     "iopub.status.busy": "2022-07-29T01:33:50.681026Z",
     "iopub.status.idle": "2022-07-29T01:33:50.685950Z",
     "shell.execute_reply": "2022-07-29T01:33:50.685059Z"
    },
    "papermill": {
     "duration": 0.01577,
     "end_time": "2022-07-29T01:33:50.688219",
     "exception": false,
     "start_time": "2022-07-29T01:33:50.672449",
     "status": "completed"
    },
    "tags": []
   },
   "outputs": [],
   "source": [
    "# Lines below will give you a hint or solution code\n",
    "#step_1.hint()\n",
    "#step_1.solution()"
   ]
  },
  {
   "cell_type": "markdown",
   "id": "8745e7fc",
   "metadata": {
    "papermill": {
     "duration": 0.006913,
     "end_time": "2022-07-29T01:33:50.701921",
     "exception": false,
     "start_time": "2022-07-29T01:33:50.695008",
     "status": "completed"
    },
    "tags": []
   },
   "source": [
    "# Step 2: Generate test predictions\n",
    "\n",
    "Great. You know how to evaluate what makes an accurate model. Now it's time to go through the modeling process and make predictions. In the line below, create a Random Forest model with the variable name `my_model`."
   ]
  },
  {
   "cell_type": "code",
   "execution_count": 8,
   "id": "51c38a13",
   "metadata": {
    "execution": {
     "iopub.execute_input": "2022-07-29T01:33:50.718754Z",
     "iopub.status.busy": "2022-07-29T01:33:50.718009Z",
     "iopub.status.idle": "2022-07-29T01:33:50.728079Z",
     "shell.execute_reply": "2022-07-29T01:33:50.727032Z"
    },
    "papermill": {
     "duration": 0.021093,
     "end_time": "2022-07-29T01:33:50.730336",
     "exception": false,
     "start_time": "2022-07-29T01:33:50.709243",
     "status": "completed"
    },
    "tags": []
   },
   "outputs": [
    {
     "data": {
      "application/javascript": [
       "parent.postMessage({\"jupyterEvent\": \"custom.exercise_interaction\", \"data\": {\"outcomeType\": 1, \"valueTowardsCompletion\": 0.5, \"interactionType\": 1, \"questionType\": 2, \"questionId\": \"2_Predictions\", \"learnToolsVersion\": \"0.3.4\", \"failureMessage\": \"\", \"exceptionClass\": \"\", \"trace\": \"\"}}, \"*\")"
      ],
      "text/plain": [
       "<IPython.core.display.Javascript object>"
      ]
     },
     "metadata": {},
     "output_type": "display_data"
    },
    {
     "data": {
      "text/markdown": [
       "<span style=\"color:#33cc33\">Correct</span>"
      ],
      "text/plain": [
       "Correct"
      ]
     },
     "metadata": {},
     "output_type": "display_data"
    }
   ],
   "source": [
    "# Define a model\n",
    "my_model = RandomForestRegressor(n_estimators=100, criterion='absolute_error', random_state=0) # Your code here\n",
    "\n",
    "# Check your answer\n",
    "step_2.check()"
   ]
  },
  {
   "cell_type": "code",
   "execution_count": 9,
   "id": "346b6d02",
   "metadata": {
    "execution": {
     "iopub.execute_input": "2022-07-29T01:33:50.747198Z",
     "iopub.status.busy": "2022-07-29T01:33:50.746581Z",
     "iopub.status.idle": "2022-07-29T01:33:50.751100Z",
     "shell.execute_reply": "2022-07-29T01:33:50.750189Z"
    },
    "papermill": {
     "duration": 0.015277,
     "end_time": "2022-07-29T01:33:50.753420",
     "exception": false,
     "start_time": "2022-07-29T01:33:50.738143",
     "status": "completed"
    },
    "tags": []
   },
   "outputs": [],
   "source": [
    "# Lines below will give you a hint or solution code\n",
    "#step_2.hint()\n",
    "#step_2.solution()"
   ]
  },
  {
   "cell_type": "markdown",
   "id": "f2ea0312",
   "metadata": {
    "papermill": {
     "duration": 0.006665,
     "end_time": "2022-07-29T01:33:50.767278",
     "exception": false,
     "start_time": "2022-07-29T01:33:50.760613",
     "status": "completed"
    },
    "tags": []
   },
   "source": [
    "Run the next code cell without changes.  The code fits the model to the training and validation data, and then generates test predictions that are saved to a CSV file.  These test predictions can be submitted directly to the competition!"
   ]
  },
  {
   "cell_type": "code",
   "execution_count": 10,
   "id": "6507bdf1",
   "metadata": {
    "execution": {
     "iopub.execute_input": "2022-07-29T01:33:50.784895Z",
     "iopub.status.busy": "2022-07-29T01:33:50.784150Z",
     "iopub.status.idle": "2022-07-29T01:33:54.953586Z",
     "shell.execute_reply": "2022-07-29T01:33:54.952042Z"
    },
    "papermill": {
     "duration": 4.181252,
     "end_time": "2022-07-29T01:33:54.956423",
     "exception": false,
     "start_time": "2022-07-29T01:33:50.775171",
     "status": "completed"
    },
    "tags": []
   },
   "outputs": [],
   "source": [
    "# Fit the model to the training data\n",
    "my_model.fit(X, y)\n",
    "\n",
    "# Generate test predictions\n",
    "preds_test = my_model.predict(X_test)\n",
    "\n",
    "# Save predictions in format used for competition scoring\n",
    "output = pd.DataFrame({'Id': X_test.index,\n",
    "                       'SalePrice': preds_test})\n",
    "output.to_csv('submission.csv', index=False)"
   ]
  },
  {
   "cell_type": "markdown",
   "id": "de6f7fc3",
   "metadata": {
    "papermill": {
     "duration": 0.006783,
     "end_time": "2022-07-29T01:33:54.970396",
     "exception": false,
     "start_time": "2022-07-29T01:33:54.963613",
     "status": "completed"
    },
    "tags": []
   },
   "source": [
    "# Submit your results\n",
    "\n",
    "Once you have successfully completed Step 2, you're ready to submit your results to the leaderboard!  First, you'll need to join the competition if you haven't already.  So open a new window by clicking on [this link](https://www.kaggle.com/c/home-data-for-ml-course).  Then click on the **Join Competition** button.  _(If you see a \"Submit Predictions\" button instead of a \"Join Competition\" button, you have already joined the competition, and don't need to do so again.)_\n",
    "\n",
    "Next, follow the instructions below:\n",
    "1. Begin by clicking on the **Save Version** button in the top right corner of the window.  This will generate a pop-up window.  \n",
    "2. Ensure that the **Save and Run All** option is selected, and then click on the **Save** button.\n",
    "3. This generates a window in the bottom left corner of the notebook.  After it has finished running, click on the number to the right of the **Save Version** button.  This pulls up a list of versions on the right of the screen.  Click on the ellipsis **(...)** to the right of the most recent version, and select **Open in Viewer**.  This brings you into view mode of the same page. You will need to scroll down to get back to these instructions.\n",
    "4. Click on the **Output** tab on the right of the screen.  Then, click on the file you would like to submit, and click on the **Submit** button to submit your results to the leaderboard.\n",
    "\n",
    "You have now successfully submitted to the competition!\n",
    "\n",
    "If you want to keep working to improve your performance, select the **Edit** button in the top right of the screen. Then you can change your code and repeat the process. There's a lot of room to improve, and you will climb up the leaderboard as you work.\n"
   ]
  },
  {
   "cell_type": "markdown",
   "id": "0aa4a1a4",
   "metadata": {
    "papermill": {
     "duration": 0.007446,
     "end_time": "2022-07-29T01:33:54.985095",
     "exception": false,
     "start_time": "2022-07-29T01:33:54.977649",
     "status": "completed"
    },
    "tags": []
   },
   "source": [
    "# Keep going\n",
    "\n",
    "You've made your first model. But how can you quickly make it better?\n",
    "\n",
    "Learn how to improve your competition results by incorporating columns with **[missing values](https://www.kaggle.com/alexisbcook/missing-values)**."
   ]
  },
  {
   "cell_type": "markdown",
   "id": "c9418624",
   "metadata": {
    "papermill": {
     "duration": 0.006706,
     "end_time": "2022-07-29T01:33:54.999022",
     "exception": false,
     "start_time": "2022-07-29T01:33:54.992316",
     "status": "completed"
    },
    "tags": []
   },
   "source": [
    "---\n",
    "\n",
    "\n",
    "\n",
    "\n",
    "*Have questions or comments? Visit the [course discussion forum](https://www.kaggle.com/learn/intermediate-machine-learning/discussion) to chat with other learners.*"
   ]
  }
 ],
 "metadata": {
  "kernelspec": {
   "display_name": "Python 3",
   "language": "python",
   "name": "python3"
  },
  "language_info": {
   "codemirror_mode": {
    "name": "ipython",
    "version": 3
   },
   "file_extension": ".py",
   "mimetype": "text/x-python",
   "name": "python",
   "nbconvert_exporter": "python",
   "pygments_lexer": "ipython3",
   "version": "3.7.12"
  },
  "papermill": {
   "default_parameters": {},
   "duration": 22.841545,
   "end_time": "2022-07-29T01:33:55.829195",
   "environment_variables": {},
   "exception": null,
   "input_path": "__notebook__.ipynb",
   "output_path": "__notebook__.ipynb",
   "parameters": {},
   "start_time": "2022-07-29T01:33:32.987650",
   "version": "2.3.4"
  }
 },
 "nbformat": 4,
 "nbformat_minor": 5
}

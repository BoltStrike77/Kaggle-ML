{
 "cells": [
  {
   "cell_type": "markdown",
   "id": "f7d8baf3",
   "metadata": {
    "papermill": {
     "duration": 0.007252,
     "end_time": "2023-05-26T06:08:22.402599",
     "exception": false,
     "start_time": "2023-05-26T06:08:22.395347",
     "status": "completed"
    },
    "tags": []
   },
   "source": [
    "**This notebook is an exercise in the [Intermediate Machine Learning](https://www.kaggle.com/learn/intermediate-machine-learning) course.  You can reference the tutorial at [this link](https://www.kaggle.com/alexisbcook/xgboost).**\n",
    "\n",
    "---\n"
   ]
  },
  {
   "cell_type": "markdown",
   "id": "02c21b63",
   "metadata": {
    "papermill": {
     "duration": 0.006505,
     "end_time": "2023-05-26T06:08:22.416142",
     "exception": false,
     "start_time": "2023-05-26T06:08:22.409637",
     "status": "completed"
    },
    "tags": []
   },
   "source": [
    "In this exercise, you will use your new knowledge to train a model with **gradient boosting**.\n",
    "\n",
    "# Setup\n",
    "\n",
    "The questions below will give you feedback on your work. Run the following cell to set up the feedback system."
   ]
  },
  {
   "cell_type": "code",
   "execution_count": 1,
   "id": "88794684",
   "metadata": {
    "execution": {
     "iopub.execute_input": "2023-05-26T06:08:22.431853Z",
     "iopub.status.busy": "2023-05-26T06:08:22.431400Z",
     "iopub.status.idle": "2023-05-26T06:08:25.645196Z",
     "shell.execute_reply": "2023-05-26T06:08:25.644205Z"
    },
    "papermill": {
     "duration": 3.224972,
     "end_time": "2023-05-26T06:08:25.648012",
     "exception": false,
     "start_time": "2023-05-26T06:08:22.423040",
     "status": "completed"
    },
    "tags": []
   },
   "outputs": [
    {
     "name": "stdout",
     "output_type": "stream",
     "text": [
      "Setup Complete\n"
     ]
    }
   ],
   "source": [
    "# Set up code checking\n",
    "import os\n",
    "if not os.path.exists(\"../input/train.csv\"):\n",
    "    os.symlink(\"../input/home-data-for-ml-course/train.csv\", \"../input/train.csv\")  \n",
    "    os.symlink(\"../input/home-data-for-ml-course/test.csv\", \"../input/test.csv\") \n",
    "from learntools.core import binder\n",
    "binder.bind(globals())\n",
    "from learntools.ml_intermediate.ex6 import *\n",
    "print(\"Setup Complete\")"
   ]
  },
  {
   "cell_type": "markdown",
   "id": "b2868801",
   "metadata": {
    "papermill": {
     "duration": 0.006711,
     "end_time": "2023-05-26T06:08:25.662208",
     "exception": false,
     "start_time": "2023-05-26T06:08:25.655497",
     "status": "completed"
    },
    "tags": []
   },
   "source": [
    "You will work with the [Housing Prices Competition for Kaggle Learn Users](https://www.kaggle.com/c/home-data-for-ml-course) dataset from the previous exercise. \n",
    "\n",
    "![Ames Housing dataset image](https://storage.googleapis.com/kaggle-media/learn/images/lTJVG4e.png)\n",
    "\n",
    "Run the next code cell without changes to load the training and validation sets in `X_train`, `X_valid`, `y_train`, and `y_valid`.  The test set is loaded in `X_test`."
   ]
  },
  {
   "cell_type": "code",
   "execution_count": 2,
   "id": "a19f8147",
   "metadata": {
    "execution": {
     "iopub.execute_input": "2023-05-26T06:08:25.677959Z",
     "iopub.status.busy": "2023-05-26T06:08:25.677523Z",
     "iopub.status.idle": "2023-05-26T06:08:25.885365Z",
     "shell.execute_reply": "2023-05-26T06:08:25.884020Z"
    },
    "papermill": {
     "duration": 0.219111,
     "end_time": "2023-05-26T06:08:25.888429",
     "exception": false,
     "start_time": "2023-05-26T06:08:25.669318",
     "status": "completed"
    },
    "tags": []
   },
   "outputs": [],
   "source": [
    "import pandas as pd\n",
    "from sklearn.model_selection import train_test_split\n",
    "\n",
    "# Read the data\n",
    "X = pd.read_csv('../input/train.csv', index_col='Id')\n",
    "X_test_full = pd.read_csv('../input/test.csv', index_col='Id')\n",
    "\n",
    "# Remove rows with missing target, separate target from predictors\n",
    "X.dropna(axis=0, subset=['SalePrice'], inplace=True)\n",
    "y = X.SalePrice              \n",
    "X.drop(['SalePrice'], axis=1, inplace=True)\n",
    "\n",
    "# Break off validation set from training data\n",
    "X_train_full, X_valid_full, y_train, y_valid = train_test_split(X, y, train_size=0.8, test_size=0.2,\n",
    "                                                                random_state=0)\n",
    "\n",
    "# \"Cardinality\" means the number of unique values in a column\n",
    "# Select categorical columns with relatively low cardinality (convenient but arbitrary)\n",
    "low_cardinality_cols = [cname for cname in X_train_full.columns if X_train_full[cname].nunique() < 10 and \n",
    "                        X_train_full[cname].dtype == \"object\"]\n",
    "\n",
    "# Select numeric columns\n",
    "numeric_cols = [cname for cname in X_train_full.columns if X_train_full[cname].dtype in ['int64', 'float64']]\n",
    "\n",
    "# Keep selected columns only\n",
    "my_cols = low_cardinality_cols + numeric_cols\n",
    "X_train = X_train_full[my_cols].copy()\n",
    "X_valid = X_valid_full[my_cols].copy()\n",
    "X_test = X_test_full[my_cols].copy()\n",
    "\n",
    "# One-hot encode the data (to shorten the code, we use pandas)\n",
    "X_train = pd.get_dummies(X_train)\n",
    "X_valid = pd.get_dummies(X_valid)\n",
    "X_test = pd.get_dummies(X_test)\n",
    "X_train, X_valid = X_train.align(X_valid, join='left', axis=1)\n",
    "X_train, X_test = X_train.align(X_test, join='left', axis=1)"
   ]
  },
  {
   "cell_type": "markdown",
   "id": "a1a2af12",
   "metadata": {
    "papermill": {
     "duration": 0.008082,
     "end_time": "2023-05-26T06:08:25.903455",
     "exception": false,
     "start_time": "2023-05-26T06:08:25.895373",
     "status": "completed"
    },
    "tags": []
   },
   "source": [
    "# Step 1: Build model\n",
    "\n",
    "### Part A\n",
    "\n",
    "In this step, you'll build and train your first model with gradient boosting.\n",
    "\n",
    "- Begin by setting `my_model_1` to an XGBoost model.  Use the [XGBRegressor](https://xgboost.readthedocs.io/en/latest/python/python_api.html#xgboost.XGBRegressor) class, and set the random seed to 0 (`random_state=0`).  **Leave all other parameters as default.**\n",
    "- Then, fit the model to the training data in `X_train` and `y_train`."
   ]
  },
  {
   "cell_type": "code",
   "execution_count": 3,
   "id": "66d5bd48",
   "metadata": {
    "execution": {
     "iopub.execute_input": "2023-05-26T06:08:25.918968Z",
     "iopub.status.busy": "2023-05-26T06:08:25.918532Z",
     "iopub.status.idle": "2023-05-26T06:08:26.818383Z",
     "shell.execute_reply": "2023-05-26T06:08:26.817203Z"
    },
    "papermill": {
     "duration": 0.912673,
     "end_time": "2023-05-26T06:08:26.822965",
     "exception": false,
     "start_time": "2023-05-26T06:08:25.910292",
     "status": "completed"
    },
    "tags": []
   },
   "outputs": [
    {
     "data": {
      "application/javascript": [
       "parent.postMessage({\"jupyterEvent\": \"custom.exercise_interaction\", \"data\": {\"outcomeType\": 1, \"valueTowardsCompletion\": 0.5, \"interactionType\": 1, \"questionType\": 2, \"questionId\": \"1.1_Model1A\", \"learnToolsVersion\": \"0.3.4\", \"failureMessage\": \"\", \"exceptionClass\": \"\", \"trace\": \"\"}}, \"*\")"
      ],
      "text/plain": [
       "<IPython.core.display.Javascript object>"
      ]
     },
     "metadata": {},
     "output_type": "display_data"
    },
    {
     "data": {
      "text/markdown": [
       "<span style=\"color:#33cc33\">Correct</span>"
      ],
      "text/plain": [
       "Correct"
      ]
     },
     "metadata": {},
     "output_type": "display_data"
    }
   ],
   "source": [
    "from xgboost import XGBRegressor\n",
    "\n",
    "# Define the model\n",
    "my_model_1 = XGBRegressor(random_state=0) # Your code here\n",
    "\n",
    "# Fit the model\n",
    "my_model_1.fit(X_train, y_train) # Your code here\n",
    "\n",
    "# Check your answer\n",
    "step_1.a.check()"
   ]
  },
  {
   "cell_type": "code",
   "execution_count": 4,
   "id": "ad4d860b",
   "metadata": {
    "execution": {
     "iopub.execute_input": "2023-05-26T06:08:26.841235Z",
     "iopub.status.busy": "2023-05-26T06:08:26.840281Z",
     "iopub.status.idle": "2023-05-26T06:08:26.844405Z",
     "shell.execute_reply": "2023-05-26T06:08:26.843607Z"
    },
    "papermill": {
     "duration": 0.01575,
     "end_time": "2023-05-26T06:08:26.846547",
     "exception": false,
     "start_time": "2023-05-26T06:08:26.830797",
     "status": "completed"
    },
    "tags": []
   },
   "outputs": [],
   "source": [
    "# Lines below will give you a hint or solution code\n",
    "#step_1.a.hint()\n",
    "#step_1.a.solution()"
   ]
  },
  {
   "cell_type": "markdown",
   "id": "3b8f7436",
   "metadata": {
    "papermill": {
     "duration": 0.007114,
     "end_time": "2023-05-26T06:08:26.861154",
     "exception": false,
     "start_time": "2023-05-26T06:08:26.854040",
     "status": "completed"
    },
    "tags": []
   },
   "source": [
    "### Part B\n",
    "\n",
    "Set `predictions_1` to the model's predictions for the validation data.  Recall that the validation features are stored in `X_valid`."
   ]
  },
  {
   "cell_type": "code",
   "execution_count": 5,
   "id": "47d366e4",
   "metadata": {
    "execution": {
     "iopub.execute_input": "2023-05-26T06:08:26.877654Z",
     "iopub.status.busy": "2023-05-26T06:08:26.877047Z",
     "iopub.status.idle": "2023-05-26T06:08:26.907636Z",
     "shell.execute_reply": "2023-05-26T06:08:26.906561Z"
    },
    "papermill": {
     "duration": 0.041957,
     "end_time": "2023-05-26T06:08:26.910313",
     "exception": false,
     "start_time": "2023-05-26T06:08:26.868356",
     "status": "completed"
    },
    "tags": []
   },
   "outputs": [
    {
     "data": {
      "application/javascript": [
       "parent.postMessage({\"jupyterEvent\": \"custom.exercise_interaction\", \"data\": {\"outcomeType\": 1, \"valueTowardsCompletion\": 0.5, \"interactionType\": 1, \"questionType\": 2, \"questionId\": \"1.2_Model1B\", \"learnToolsVersion\": \"0.3.4\", \"failureMessage\": \"\", \"exceptionClass\": \"\", \"trace\": \"\"}}, \"*\")"
      ],
      "text/plain": [
       "<IPython.core.display.Javascript object>"
      ]
     },
     "metadata": {},
     "output_type": "display_data"
    },
    {
     "data": {
      "text/markdown": [
       "<span style=\"color:#33cc33\">Correct</span>"
      ],
      "text/plain": [
       "Correct"
      ]
     },
     "metadata": {},
     "output_type": "display_data"
    }
   ],
   "source": [
    "from sklearn.metrics import mean_absolute_error\n",
    "\n",
    "# Get predictions\n",
    "predictions_1 = my_model_1.predict(X_valid) # Your code here\n",
    "\n",
    "# Check your answer\n",
    "step_1.b.check()"
   ]
  },
  {
   "cell_type": "code",
   "execution_count": 6,
   "id": "bc07e3f1",
   "metadata": {
    "execution": {
     "iopub.execute_input": "2023-05-26T06:08:26.928259Z",
     "iopub.status.busy": "2023-05-26T06:08:26.927819Z",
     "iopub.status.idle": "2023-05-26T06:08:26.932752Z",
     "shell.execute_reply": "2023-05-26T06:08:26.931658Z"
    },
    "papermill": {
     "duration": 0.016675,
     "end_time": "2023-05-26T06:08:26.935046",
     "exception": false,
     "start_time": "2023-05-26T06:08:26.918371",
     "status": "completed"
    },
    "tags": []
   },
   "outputs": [],
   "source": [
    "# Lines below will give you a hint or solution code\n",
    "#step_1.b.hint()\n",
    "#step_1.b.solution()"
   ]
  },
  {
   "cell_type": "markdown",
   "id": "d0b9bed3",
   "metadata": {
    "papermill": {
     "duration": 0.007373,
     "end_time": "2023-05-26T06:08:26.949970",
     "exception": false,
     "start_time": "2023-05-26T06:08:26.942597",
     "status": "completed"
    },
    "tags": []
   },
   "source": [
    "### Part C\n",
    "\n",
    "Finally, use the `mean_absolute_error()` function to calculate the mean absolute error (MAE) corresponding to the predictions for the validation set.  Recall that the labels for the validation data are stored in `y_valid`."
   ]
  },
  {
   "cell_type": "code",
   "execution_count": 7,
   "id": "0e418b6b",
   "metadata": {
    "execution": {
     "iopub.execute_input": "2023-05-26T06:08:26.967230Z",
     "iopub.status.busy": "2023-05-26T06:08:26.966527Z",
     "iopub.status.idle": "2023-05-26T06:08:26.977453Z",
     "shell.execute_reply": "2023-05-26T06:08:26.976303Z"
    },
    "papermill": {
     "duration": 0.022222,
     "end_time": "2023-05-26T06:08:26.979656",
     "exception": false,
     "start_time": "2023-05-26T06:08:26.957434",
     "status": "completed"
    },
    "tags": []
   },
   "outputs": [
    {
     "name": "stdout",
     "output_type": "stream",
     "text": [
      "Mean Absolute Error: 17662.736729452055\n"
     ]
    },
    {
     "data": {
      "application/javascript": [
       "parent.postMessage({\"jupyterEvent\": \"custom.exercise_interaction\", \"data\": {\"outcomeType\": 1, \"valueTowardsCompletion\": 0.5, \"interactionType\": 1, \"questionType\": 2, \"questionId\": \"1.3_Model1C\", \"learnToolsVersion\": \"0.3.4\", \"failureMessage\": \"\", \"exceptionClass\": \"\", \"trace\": \"\"}}, \"*\")"
      ],
      "text/plain": [
       "<IPython.core.display.Javascript object>"
      ]
     },
     "metadata": {},
     "output_type": "display_data"
    },
    {
     "data": {
      "text/markdown": [
       "<span style=\"color:#33cc33\">Correct</span>"
      ],
      "text/plain": [
       "Correct"
      ]
     },
     "metadata": {},
     "output_type": "display_data"
    }
   ],
   "source": [
    "# Calculate MAE\n",
    "mae_1 = mean_absolute_error(y_valid, predictions_1) # Your code here\n",
    "\n",
    "# Uncomment to print MAE\n",
    "print(\"Mean Absolute Error:\" , mae_1)\n",
    "\n",
    "# Check your answer\n",
    "step_1.c.check()"
   ]
  },
  {
   "cell_type": "code",
   "execution_count": 8,
   "id": "e2368ae3",
   "metadata": {
    "execution": {
     "iopub.execute_input": "2023-05-26T06:08:26.998694Z",
     "iopub.status.busy": "2023-05-26T06:08:26.997989Z",
     "iopub.status.idle": "2023-05-26T06:08:27.003341Z",
     "shell.execute_reply": "2023-05-26T06:08:27.002084Z"
    },
    "papermill": {
     "duration": 0.018262,
     "end_time": "2023-05-26T06:08:27.006246",
     "exception": false,
     "start_time": "2023-05-26T06:08:26.987984",
     "status": "completed"
    },
    "tags": []
   },
   "outputs": [],
   "source": [
    "# Lines below will give you a hint or solution code\n",
    "#step_1.c.hint()\n",
    "#step_1.c.solution()"
   ]
  },
  {
   "cell_type": "markdown",
   "id": "bb9471ee",
   "metadata": {
    "papermill": {
     "duration": 0.00786,
     "end_time": "2023-05-26T06:08:27.022778",
     "exception": false,
     "start_time": "2023-05-26T06:08:27.014918",
     "status": "completed"
    },
    "tags": []
   },
   "source": [
    "# Step 2: Improve the model\n",
    "\n",
    "Now that you've trained a default model as baseline, it's time to tinker with the parameters, to see if you can get better performance!\n",
    "- Begin by setting `my_model_2` to an XGBoost model, using the [XGBRegressor](https://xgboost.readthedocs.io/en/latest/python/python_api.html#xgboost.XGBRegressor) class.  Use what you learned in the previous tutorial to figure out how to change the default parameters (like `n_estimators` and `learning_rate`) to get better results.\n",
    "- Then, fit the model to the training data in `X_train` and `y_train`.\n",
    "- Set `predictions_2` to the model's predictions for the validation data.  Recall that the validation features are stored in `X_valid`.\n",
    "- Finally, use the `mean_absolute_error()` function to calculate the mean absolute error (MAE) corresponding to the predictions on the validation set.  Recall that the labels for the validation data are stored in `y_valid`.\n",
    "\n",
    "In order for this step to be marked correct, your model in `my_model_2` must attain lower MAE than the model in `my_model_1`. "
   ]
  },
  {
   "cell_type": "code",
   "execution_count": 9,
   "id": "a7b171c6",
   "metadata": {
    "execution": {
     "iopub.execute_input": "2023-05-26T06:08:27.041529Z",
     "iopub.status.busy": "2023-05-26T06:08:27.041121Z",
     "iopub.status.idle": "2023-05-26T06:08:37.239640Z",
     "shell.execute_reply": "2023-05-26T06:08:37.238730Z"
    },
    "papermill": {
     "duration": 10.211002,
     "end_time": "2023-05-26T06:08:37.242269",
     "exception": false,
     "start_time": "2023-05-26T06:08:27.031267",
     "status": "completed"
    },
    "tags": []
   },
   "outputs": [
    {
     "name": "stdout",
     "output_type": "stream",
     "text": [
      "Mean Absolute Error: 16688.691513270547\n"
     ]
    },
    {
     "data": {
      "application/javascript": [
       "parent.postMessage({\"jupyterEvent\": \"custom.exercise_interaction\", \"data\": {\"outcomeType\": 1, \"valueTowardsCompletion\": 0.5, \"interactionType\": 1, \"questionType\": 2, \"questionId\": \"2_Model2\", \"learnToolsVersion\": \"0.3.4\", \"failureMessage\": \"\", \"exceptionClass\": \"\", \"trace\": \"\"}}, \"*\")"
      ],
      "text/plain": [
       "<IPython.core.display.Javascript object>"
      ]
     },
     "metadata": {},
     "output_type": "display_data"
    },
    {
     "data": {
      "text/markdown": [
       "<span style=\"color:#33cc33\">Correct</span>"
      ],
      "text/plain": [
       "Correct"
      ]
     },
     "metadata": {},
     "output_type": "display_data"
    }
   ],
   "source": [
    "# Define the model\n",
    "my_model_2 =  XGBRegressor(n_estimators=1000, learning_rate=0.05) # Your code here\n",
    "\n",
    "# Fit the model\n",
    "my_model_2.fit(X_train, y_train,\n",
    "             eval_set=[(X_valid, y_valid)],\n",
    "             verbose=False) # Your code here\n",
    "\n",
    "# Get predictions\n",
    "predictions_2 = my_model_2.predict(X_valid) # Your code here\n",
    "\n",
    "# Calculate MAE\n",
    "mae_2 = mean_absolute_error(y_valid, predictions_2) # Your code here\n",
    "\n",
    "# Uncomment to print MAE\n",
    "print(\"Mean Absolute Error:\" , mae_2)\n",
    "\n",
    "# Check your answer\n",
    "step_2.check()"
   ]
  },
  {
   "cell_type": "code",
   "execution_count": 10,
   "id": "2b4c0d51",
   "metadata": {
    "execution": {
     "iopub.execute_input": "2023-05-26T06:08:37.260832Z",
     "iopub.status.busy": "2023-05-26T06:08:37.260401Z",
     "iopub.status.idle": "2023-05-26T06:08:37.264575Z",
     "shell.execute_reply": "2023-05-26T06:08:37.263749Z"
    },
    "papermill": {
     "duration": 0.016033,
     "end_time": "2023-05-26T06:08:37.266814",
     "exception": false,
     "start_time": "2023-05-26T06:08:37.250781",
     "status": "completed"
    },
    "tags": []
   },
   "outputs": [],
   "source": [
    "# Lines below will give you a hint or solution code\n",
    "#step_2.hint()\n",
    "#step_2.solution()"
   ]
  },
  {
   "cell_type": "markdown",
   "id": "7fb39fef",
   "metadata": {
    "papermill": {
     "duration": 0.008425,
     "end_time": "2023-05-26T06:08:37.283666",
     "exception": false,
     "start_time": "2023-05-26T06:08:37.275241",
     "status": "completed"
    },
    "tags": []
   },
   "source": [
    "# Step 3: Break the model\n",
    "\n",
    "In this step, you will create a model that performs worse than the original model in Step 1.  This will help you to develop your intuition for how to set parameters.  You might even find that you accidentally get better performance, which is ultimately a nice problem to have and a valuable learning experience!\n",
    "- Begin by setting `my_model_3` to an XGBoost model, using the [XGBRegressor](https://xgboost.readthedocs.io/en/latest/python/python_api.html#xgboost.XGBRegressor) class.  Use what you learned in the previous tutorial to figure out how to change the default parameters (like `n_estimators` and `learning_rate`) to design a model to get high MAE.\n",
    "- Then, fit the model to the training data in `X_train` and `y_train`.\n",
    "- Set `predictions_3` to the model's predictions for the validation data.  Recall that the validation features are stored in `X_valid`.\n",
    "- Finally, use the `mean_absolute_error()` function to calculate the mean absolute error (MAE) corresponding to the predictions on the validation set.  Recall that the labels for the validation data are stored in `y_valid`.\n",
    "\n",
    "In order for this step to be marked correct, your model in `my_model_3` must attain higher MAE than the model in `my_model_1`. "
   ]
  },
  {
   "cell_type": "code",
   "execution_count": 11,
   "id": "1f5058e4",
   "metadata": {
    "execution": {
     "iopub.execute_input": "2023-05-26T06:08:37.302760Z",
     "iopub.status.busy": "2023-05-26T06:08:37.302029Z",
     "iopub.status.idle": "2023-05-26T06:08:39.073472Z",
     "shell.execute_reply": "2023-05-26T06:08:39.072420Z"
    },
    "papermill": {
     "duration": 1.784257,
     "end_time": "2023-05-26T06:08:39.076308",
     "exception": false,
     "start_time": "2023-05-26T06:08:37.292051",
     "status": "completed"
    },
    "tags": []
   },
   "outputs": [
    {
     "name": "stdout",
     "output_type": "stream",
     "text": [
      "Mean Absolute Error: 17669.01241438356\n"
     ]
    },
    {
     "data": {
      "application/javascript": [
       "parent.postMessage({\"jupyterEvent\": \"custom.exercise_interaction\", \"data\": {\"outcomeType\": 1, \"valueTowardsCompletion\": 0.5, \"interactionType\": 1, \"questionType\": 2, \"questionId\": \"3_Model3\", \"learnToolsVersion\": \"0.3.4\", \"failureMessage\": \"\", \"exceptionClass\": \"\", \"trace\": \"\"}}, \"*\")"
      ],
      "text/plain": [
       "<IPython.core.display.Javascript object>"
      ]
     },
     "metadata": {},
     "output_type": "display_data"
    },
    {
     "data": {
      "text/markdown": [
       "<span style=\"color:#33cc33\">Correct</span>"
      ],
      "text/plain": [
       "Correct"
      ]
     },
     "metadata": {},
     "output_type": "display_data"
    }
   ],
   "source": [
    "# Define the model\n",
    "my_model_3 = XGBRegressor(n_estimators=200, random_state = 2)\n",
    "\n",
    "# Fit the model\n",
    "my_model_3.fit(X_train, y_train) # Your code here\n",
    "\n",
    "# Get predictions\n",
    "predictions_3 = my_model_3.predict(X_valid)\n",
    "\n",
    "# Calculate MAE\n",
    "mae_3 = mean_absolute_error(y_valid, predictions_3)\n",
    "\n",
    "# Uncomment to print MAE\n",
    "print(\"Mean Absolute Error:\" , mae_3)\n",
    "\n",
    "# Check your answer\n",
    "step_3.check()"
   ]
  },
  {
   "cell_type": "code",
   "execution_count": 12,
   "id": "bab1968d",
   "metadata": {
    "execution": {
     "iopub.execute_input": "2023-05-26T06:08:39.098189Z",
     "iopub.status.busy": "2023-05-26T06:08:39.097766Z",
     "iopub.status.idle": "2023-05-26T06:08:39.102709Z",
     "shell.execute_reply": "2023-05-26T06:08:39.101436Z"
    },
    "papermill": {
     "duration": 0.018686,
     "end_time": "2023-05-26T06:08:39.105108",
     "exception": false,
     "start_time": "2023-05-26T06:08:39.086422",
     "status": "completed"
    },
    "tags": []
   },
   "outputs": [],
   "source": [
    "# Lines below will give you a hint or solution code\n",
    "#step_3.hint()\n",
    "#step_3.solution()"
   ]
  },
  {
   "cell_type": "markdown",
   "id": "41fc2017",
   "metadata": {
    "papermill": {
     "duration": 0.008406,
     "end_time": "2023-05-26T06:08:39.122290",
     "exception": false,
     "start_time": "2023-05-26T06:08:39.113884",
     "status": "completed"
    },
    "tags": []
   },
   "source": [
    "# Keep going\n",
    "\n",
    "Continue to learn about **[data leakage](https://www.kaggle.com/alexisbcook/data-leakage)**.  This is an important issue for a data scientist to understand, and it has the potential to ruin your models in subtle and dangerous ways!"
   ]
  },
  {
   "cell_type": "markdown",
   "id": "54e8c8bf",
   "metadata": {
    "papermill": {
     "duration": 0.008267,
     "end_time": "2023-05-26T06:08:39.139182",
     "exception": false,
     "start_time": "2023-05-26T06:08:39.130915",
     "status": "completed"
    },
    "tags": []
   },
   "source": [
    "---\n",
    "\n",
    "\n",
    "\n",
    "\n",
    "*Have questions or comments? Visit the [course discussion forum](https://www.kaggle.com/learn/intermediate-machine-learning/discussion) to chat with other learners.*"
   ]
  }
 ],
 "metadata": {
  "kernelspec": {
   "display_name": "Python 3",
   "language": "python",
   "name": "python3"
  },
  "language_info": {
   "codemirror_mode": {
    "name": "ipython",
    "version": 3
   },
   "file_extension": ".py",
   "mimetype": "text/x-python",
   "name": "python",
   "nbconvert_exporter": "python",
   "pygments_lexer": "ipython3",
   "version": "3.10.10"
  },
  "papermill": {
   "default_parameters": {},
   "duration": 31.25829,
   "end_time": "2023-05-26T06:08:40.270750",
   "environment_variables": {},
   "exception": null,
   "input_path": "__notebook__.ipynb",
   "output_path": "__notebook__.ipynb",
   "parameters": {},
   "start_time": "2023-05-26T06:08:09.012460",
   "version": "2.4.0"
  }
 },
 "nbformat": 4,
 "nbformat_minor": 5
}

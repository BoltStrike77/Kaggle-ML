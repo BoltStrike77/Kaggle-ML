{
 "cells": [
  {
   "cell_type": "markdown",
   "id": "6d8eacfb",
   "metadata": {
    "papermill": {
     "duration": 0.005697,
     "end_time": "2022-12-23T19:18:07.431443",
     "exception": false,
     "start_time": "2022-12-23T19:18:07.425746",
     "status": "completed"
    },
    "tags": []
   },
   "source": [
    "**This notebook is an exercise in the [Pandas](https://www.kaggle.com/learn/pandas) course.  You can reference the tutorial at [this link](https://www.kaggle.com/residentmario/data-types-and-missing-values).**\n",
    "\n",
    "---\n"
   ]
  },
  {
   "cell_type": "markdown",
   "id": "b6a5d8bb",
   "metadata": {
    "papermill": {
     "duration": 0.004188,
     "end_time": "2022-12-23T19:18:07.440857",
     "exception": false,
     "start_time": "2022-12-23T19:18:07.436669",
     "status": "completed"
    },
    "tags": []
   },
   "source": [
    "# Introduction\n",
    "\n",
    "Run the following cell to load your data and some utility functions."
   ]
  },
  {
   "cell_type": "code",
   "execution_count": 1,
   "id": "45367a1b",
   "metadata": {
    "execution": {
     "iopub.execute_input": "2022-12-23T19:18:07.452013Z",
     "iopub.status.busy": "2022-12-23T19:18:07.451504Z",
     "iopub.status.idle": "2022-12-23T19:18:10.593844Z",
     "shell.execute_reply": "2022-12-23T19:18:10.592335Z"
    },
    "papermill": {
     "duration": 3.151552,
     "end_time": "2022-12-23T19:18:10.596875",
     "exception": false,
     "start_time": "2022-12-23T19:18:07.445323",
     "status": "completed"
    },
    "tags": []
   },
   "outputs": [
    {
     "name": "stdout",
     "output_type": "stream",
     "text": [
      "Setup complete.\n"
     ]
    }
   ],
   "source": [
    "import pandas as pd\n",
    "\n",
    "reviews = pd.read_csv(\"../input/wine-reviews/winemag-data-130k-v2.csv\", index_col=0)\n",
    "\n",
    "from learntools.core import binder; binder.bind(globals())\n",
    "from learntools.pandas.data_types_and_missing_data import *\n",
    "print(\"Setup complete.\")"
   ]
  },
  {
   "cell_type": "markdown",
   "id": "263a985b",
   "metadata": {
    "papermill": {
     "duration": 0.004337,
     "end_time": "2022-12-23T19:18:10.605974",
     "exception": false,
     "start_time": "2022-12-23T19:18:10.601637",
     "status": "completed"
    },
    "tags": []
   },
   "source": [
    "# Exercises"
   ]
  },
  {
   "cell_type": "markdown",
   "id": "64ca4a2e",
   "metadata": {
    "papermill": {
     "duration": 0.004275,
     "end_time": "2022-12-23T19:18:10.614933",
     "exception": false,
     "start_time": "2022-12-23T19:18:10.610658",
     "status": "completed"
    },
    "tags": []
   },
   "source": [
    "## 1. \n",
    "What is the data type of the `points` column in the dataset?"
   ]
  },
  {
   "cell_type": "code",
   "execution_count": 2,
   "id": "9c67cc9a",
   "metadata": {
    "execution": {
     "iopub.execute_input": "2022-12-23T19:18:10.627688Z",
     "iopub.status.busy": "2022-12-23T19:18:10.626035Z",
     "iopub.status.idle": "2022-12-23T19:18:10.640367Z",
     "shell.execute_reply": "2022-12-23T19:18:10.638899Z"
    },
    "papermill": {
     "duration": 0.023528,
     "end_time": "2022-12-23T19:18:10.643409",
     "exception": false,
     "start_time": "2022-12-23T19:18:10.619881",
     "status": "completed"
    },
    "tags": []
   },
   "outputs": [
    {
     "data": {
      "application/javascript": [
       "parent.postMessage({\"jupyterEvent\": \"custom.exercise_interaction\", \"data\": {\"outcomeType\": 1, \"valueTowardsCompletion\": 0.25, \"interactionType\": 1, \"questionType\": 1, \"questionId\": \"1_PointsDtype\", \"learnToolsVersion\": \"0.3.4\", \"failureMessage\": \"\", \"exceptionClass\": \"\", \"trace\": \"\"}}, \"*\")"
      ],
      "text/plain": [
       "<IPython.core.display.Javascript object>"
      ]
     },
     "metadata": {},
     "output_type": "display_data"
    },
    {
     "data": {
      "text/markdown": [
       "<span style=\"color:#33cc33\">Correct</span>"
      ],
      "text/plain": [
       "Correct"
      ]
     },
     "metadata": {},
     "output_type": "display_data"
    }
   ],
   "source": [
    "# Your code here\n",
    "dtype = reviews.points.dtype\n",
    "\n",
    "# Check your answer\n",
    "q1.check()"
   ]
  },
  {
   "cell_type": "code",
   "execution_count": 3,
   "id": "1e4079fc",
   "metadata": {
    "execution": {
     "iopub.execute_input": "2022-12-23T19:18:10.656396Z",
     "iopub.status.busy": "2022-12-23T19:18:10.655781Z",
     "iopub.status.idle": "2022-12-23T19:18:10.663249Z",
     "shell.execute_reply": "2022-12-23T19:18:10.661697Z"
    },
    "papermill": {
     "duration": 0.017249,
     "end_time": "2022-12-23T19:18:10.666270",
     "exception": false,
     "start_time": "2022-12-23T19:18:10.649021",
     "status": "completed"
    },
    "tags": []
   },
   "outputs": [],
   "source": [
    "#q1.hint()\n",
    "#q1.solution()"
   ]
  },
  {
   "cell_type": "markdown",
   "id": "4e2ff7f8",
   "metadata": {
    "papermill": {
     "duration": 0.005393,
     "end_time": "2022-12-23T19:18:10.677076",
     "exception": false,
     "start_time": "2022-12-23T19:18:10.671683",
     "status": "completed"
    },
    "tags": []
   },
   "source": [
    "## 2. \n",
    "Create a Series from entries in the `points` column, but convert the entries to strings. Hint: strings are `str` in native Python."
   ]
  },
  {
   "cell_type": "code",
   "execution_count": 4,
   "id": "448d397b",
   "metadata": {
    "execution": {
     "iopub.execute_input": "2022-12-23T19:18:10.689721Z",
     "iopub.status.busy": "2022-12-23T19:18:10.688835Z",
     "iopub.status.idle": "2022-12-23T19:18:10.776815Z",
     "shell.execute_reply": "2022-12-23T19:18:10.775278Z"
    },
    "papermill": {
     "duration": 0.097131,
     "end_time": "2022-12-23T19:18:10.779698",
     "exception": false,
     "start_time": "2022-12-23T19:18:10.682567",
     "status": "completed"
    },
    "tags": []
   },
   "outputs": [
    {
     "data": {
      "application/javascript": [
       "parent.postMessage({\"jupyterEvent\": \"custom.exercise_interaction\", \"data\": {\"outcomeType\": 1, \"valueTowardsCompletion\": 0.25, \"interactionType\": 1, \"questionType\": 1, \"questionId\": \"2_StrPoints\", \"learnToolsVersion\": \"0.3.4\", \"failureMessage\": \"\", \"exceptionClass\": \"\", \"trace\": \"\"}}, \"*\")"
      ],
      "text/plain": [
       "<IPython.core.display.Javascript object>"
      ]
     },
     "metadata": {},
     "output_type": "display_data"
    },
    {
     "data": {
      "text/markdown": [
       "<span style=\"color:#33cc33\">Correct</span>"
      ],
      "text/plain": [
       "Correct"
      ]
     },
     "metadata": {},
     "output_type": "display_data"
    }
   ],
   "source": [
    "point_strings = reviews.points.astype(str)\n",
    "\n",
    "# Check your answer\n",
    "q2.check()"
   ]
  },
  {
   "cell_type": "code",
   "execution_count": 5,
   "id": "dd6977aa",
   "metadata": {
    "execution": {
     "iopub.execute_input": "2022-12-23T19:18:10.792249Z",
     "iopub.status.busy": "2022-12-23T19:18:10.791755Z",
     "iopub.status.idle": "2022-12-23T19:18:10.796858Z",
     "shell.execute_reply": "2022-12-23T19:18:10.795720Z"
    },
    "papermill": {
     "duration": 0.014368,
     "end_time": "2022-12-23T19:18:10.799285",
     "exception": false,
     "start_time": "2022-12-23T19:18:10.784917",
     "status": "completed"
    },
    "tags": []
   },
   "outputs": [],
   "source": [
    "#q2.hint()\n",
    "#q2.solution()"
   ]
  },
  {
   "cell_type": "markdown",
   "id": "6eee51ec",
   "metadata": {
    "papermill": {
     "duration": 0.005273,
     "end_time": "2022-12-23T19:18:10.809918",
     "exception": false,
     "start_time": "2022-12-23T19:18:10.804645",
     "status": "completed"
    },
    "tags": []
   },
   "source": [
    "## 3.\n",
    "Sometimes the price column is null. How many reviews in the dataset are missing a price?"
   ]
  },
  {
   "cell_type": "code",
   "execution_count": 6,
   "id": "4dc269cd",
   "metadata": {
    "execution": {
     "iopub.execute_input": "2022-12-23T19:18:10.822722Z",
     "iopub.status.busy": "2022-12-23T19:18:10.821455Z",
     "iopub.status.idle": "2022-12-23T19:18:10.833387Z",
     "shell.execute_reply": "2022-12-23T19:18:10.832186Z"
    },
    "papermill": {
     "duration": 0.020955,
     "end_time": "2022-12-23T19:18:10.836021",
     "exception": false,
     "start_time": "2022-12-23T19:18:10.815066",
     "status": "completed"
    },
    "tags": []
   },
   "outputs": [
    {
     "data": {
      "application/javascript": [
       "parent.postMessage({\"jupyterEvent\": \"custom.exercise_interaction\", \"data\": {\"outcomeType\": 1, \"valueTowardsCompletion\": 0.25, \"interactionType\": 1, \"questionType\": 1, \"questionId\": \"3_CountMissingPrices\", \"learnToolsVersion\": \"0.3.4\", \"failureMessage\": \"\", \"exceptionClass\": \"\", \"trace\": \"\"}}, \"*\")"
      ],
      "text/plain": [
       "<IPython.core.display.Javascript object>"
      ]
     },
     "metadata": {},
     "output_type": "display_data"
    },
    {
     "data": {
      "text/markdown": [
       "<span style=\"color:#33cc33\">Correct</span>"
      ],
      "text/plain": [
       "Correct"
      ]
     },
     "metadata": {},
     "output_type": "display_data"
    }
   ],
   "source": [
    "n_missing_prices = reviews.price.isnull().sum()\n",
    "\n",
    "# Check your answer\n",
    "q3.check()"
   ]
  },
  {
   "cell_type": "code",
   "execution_count": 7,
   "id": "271d1d4a",
   "metadata": {
    "execution": {
     "iopub.execute_input": "2022-12-23T19:18:10.848763Z",
     "iopub.status.busy": "2022-12-23T19:18:10.848366Z",
     "iopub.status.idle": "2022-12-23T19:18:10.853344Z",
     "shell.execute_reply": "2022-12-23T19:18:10.851948Z"
    },
    "papermill": {
     "duration": 0.014363,
     "end_time": "2022-12-23T19:18:10.855821",
     "exception": false,
     "start_time": "2022-12-23T19:18:10.841458",
     "status": "completed"
    },
    "tags": []
   },
   "outputs": [],
   "source": [
    "#q3.hint()\n",
    "#q3.solution()"
   ]
  },
  {
   "cell_type": "markdown",
   "id": "3fddbdf9",
   "metadata": {
    "papermill": {
     "duration": 0.005323,
     "end_time": "2022-12-23T19:18:10.866532",
     "exception": false,
     "start_time": "2022-12-23T19:18:10.861209",
     "status": "completed"
    },
    "tags": []
   },
   "source": [
    "## 4.\n",
    "What are the most common wine-producing regions? Create a Series counting the number of times each value occurs in the `region_1` field. This field is often missing data, so replace missing values with `Unknown`. Sort in descending order.  Your output should look something like this:\n",
    "\n",
    "```\n",
    "Unknown                    21247\n",
    "Napa Valley                 4480\n",
    "                           ...  \n",
    "Bardolino Superiore            1\n",
    "Primitivo del Tarantino        1\n",
    "Name: region_1, Length: 1230, dtype: int64\n",
    "```"
   ]
  },
  {
   "cell_type": "code",
   "execution_count": 8,
   "id": "0d65082d",
   "metadata": {
    "execution": {
     "iopub.execute_input": "2022-12-23T19:18:10.880027Z",
     "iopub.status.busy": "2022-12-23T19:18:10.879564Z",
     "iopub.status.idle": "2022-12-23T19:18:10.925422Z",
     "shell.execute_reply": "2022-12-23T19:18:10.924192Z"
    },
    "papermill": {
     "duration": 0.056475,
     "end_time": "2022-12-23T19:18:10.928259",
     "exception": false,
     "start_time": "2022-12-23T19:18:10.871784",
     "status": "completed"
    },
    "tags": []
   },
   "outputs": [
    {
     "data": {
      "application/javascript": [
       "parent.postMessage({\"jupyterEvent\": \"custom.exercise_interaction\", \"data\": {\"outcomeType\": 1, \"valueTowardsCompletion\": 0.25, \"interactionType\": 1, \"questionType\": 2, \"questionId\": \"4_ReviewsPerRegion\", \"learnToolsVersion\": \"0.3.4\", \"failureMessage\": \"\", \"exceptionClass\": \"\", \"trace\": \"\"}}, \"*\")"
      ],
      "text/plain": [
       "<IPython.core.display.Javascript object>"
      ]
     },
     "metadata": {},
     "output_type": "display_data"
    },
    {
     "data": {
      "text/markdown": [
       "<span style=\"color:#33cc33\">Correct</span>"
      ],
      "text/plain": [
       "Correct"
      ]
     },
     "metadata": {},
     "output_type": "display_data"
    }
   ],
   "source": [
    "reviews_per_region = reviews.region_1.fillna('Unknown').value_counts().sort_values(ascending=False)\n",
    "\n",
    "# Check your answer\n",
    "q4.check()"
   ]
  },
  {
   "cell_type": "code",
   "execution_count": 9,
   "id": "c362c8b5",
   "metadata": {
    "execution": {
     "iopub.execute_input": "2022-12-23T19:18:10.940957Z",
     "iopub.status.busy": "2022-12-23T19:18:10.940541Z",
     "iopub.status.idle": "2022-12-23T19:18:10.945801Z",
     "shell.execute_reply": "2022-12-23T19:18:10.944478Z"
    },
    "papermill": {
     "duration": 0.014331,
     "end_time": "2022-12-23T19:18:10.948096",
     "exception": false,
     "start_time": "2022-12-23T19:18:10.933765",
     "status": "completed"
    },
    "tags": []
   },
   "outputs": [],
   "source": [
    "#q4.hint()\n",
    "#q4.solution()"
   ]
  },
  {
   "cell_type": "markdown",
   "id": "ea80a683",
   "metadata": {
    "papermill": {
     "duration": 0.005152,
     "end_time": "2022-12-23T19:18:10.958897",
     "exception": false,
     "start_time": "2022-12-23T19:18:10.953745",
     "status": "completed"
    },
    "tags": []
   },
   "source": [
    "# Keep going\n",
    "\n",
    "Move on to **[renaming and combining](https://www.kaggle.com/residentmario/renaming-and-combining)**."
   ]
  },
  {
   "cell_type": "markdown",
   "id": "bb6adcca",
   "metadata": {
    "papermill": {
     "duration": 0.005229,
     "end_time": "2022-12-23T19:18:10.969700",
     "exception": false,
     "start_time": "2022-12-23T19:18:10.964471",
     "status": "completed"
    },
    "tags": []
   },
   "source": [
    "---\n",
    "\n",
    "\n",
    "\n",
    "\n",
    "*Have questions or comments? Visit the [course discussion forum](https://www.kaggle.com/learn/pandas/discussion) to chat with other learners.*"
   ]
  }
 ],
 "metadata": {
  "kernelspec": {
   "display_name": "Python 3",
   "language": "python",
   "name": "python3"
  },
  "language_info": {
   "codemirror_mode": {
    "name": "ipython",
    "version": 3
   },
   "file_extension": ".py",
   "mimetype": "text/x-python",
   "name": "python",
   "nbconvert_exporter": "python",
   "pygments_lexer": "ipython3",
   "version": "3.7.12"
  },
  "papermill": {
   "default_parameters": {},
   "duration": 14.494753,
   "end_time": "2022-12-23T19:18:11.698001",
   "environment_variables": {},
   "exception": null,
   "input_path": "__notebook__.ipynb",
   "output_path": "__notebook__.ipynb",
   "parameters": {},
   "start_time": "2022-12-23T19:17:57.203248",
   "version": "2.3.4"
  }
 },
 "nbformat": 4,
 "nbformat_minor": 5
}

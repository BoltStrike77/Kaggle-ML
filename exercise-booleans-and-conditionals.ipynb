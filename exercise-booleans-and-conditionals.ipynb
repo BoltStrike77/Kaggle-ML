{
 "cells": [
  {
   "cell_type": "markdown",
   "id": "5d9b8550",
   "metadata": {
    "papermill": {
     "duration": 0.011741,
     "end_time": "2022-07-09T14:45:30.366312",
     "exception": false,
     "start_time": "2022-07-09T14:45:30.354571",
     "status": "completed"
    },
    "tags": []
   },
   "source": [
    "**This notebook is an exercise in the [Python](https://www.kaggle.com/learn/python) course.  You can reference the tutorial at [this link](https://www.kaggle.com/colinmorris/booleans-and-conditionals).**\n",
    "\n",
    "---\n"
   ]
  },
  {
   "cell_type": "markdown",
   "id": "087f00ce",
   "metadata": {
    "papermill": {
     "duration": 0.010075,
     "end_time": "2022-07-09T14:45:30.387485",
     "exception": false,
     "start_time": "2022-07-09T14:45:30.377410",
     "status": "completed"
    },
    "tags": []
   },
   "source": [
    "In this exercise, you'll put to work what you have learned about booleans and conditionals.\n",
    "\n",
    "To get started, **run the setup code below** before writing your own code (and if you leave this notebook and come back later, don't forget to run the setup code again)."
   ]
  },
  {
   "cell_type": "code",
   "execution_count": 1,
   "id": "e59f63ac",
   "metadata": {
    "execution": {
     "iopub.execute_input": "2022-07-09T14:45:30.411889Z",
     "iopub.status.busy": "2022-07-09T14:45:30.411242Z",
     "iopub.status.idle": "2022-07-09T14:45:30.480418Z",
     "shell.execute_reply": "2022-07-09T14:45:30.479170Z"
    },
    "papermill": {
     "duration": 0.085382,
     "end_time": "2022-07-09T14:45:30.483907",
     "exception": false,
     "start_time": "2022-07-09T14:45:30.398525",
     "status": "completed"
    },
    "tags": []
   },
   "outputs": [
    {
     "name": "stdout",
     "output_type": "stream",
     "text": [
      "Setup complete.\n"
     ]
    }
   ],
   "source": [
    "from learntools.core import binder; binder.bind(globals())\n",
    "from learntools.python.ex3 import *\n",
    "print('Setup complete.')"
   ]
  },
  {
   "cell_type": "markdown",
   "id": "7ce0711f",
   "metadata": {
    "papermill": {
     "duration": 0.009864,
     "end_time": "2022-07-09T14:45:30.504200",
     "exception": false,
     "start_time": "2022-07-09T14:45:30.494336",
     "status": "completed"
    },
    "tags": []
   },
   "source": [
    "# 1.\n",
    "\n",
    "Many programming languages have [`sign`](https://en.wikipedia.org/wiki/Sign_function) available as a built-in function. Python doesn't, but we can define our own!\n",
    "\n",
    "In the cell below, define a function called `sign` which takes a numerical argument and returns -1 if it's negative, 1 if it's positive, and 0 if it's 0."
   ]
  },
  {
   "cell_type": "code",
   "execution_count": 2,
   "id": "0098b89b",
   "metadata": {
    "execution": {
     "iopub.execute_input": "2022-07-09T14:45:30.527875Z",
     "iopub.status.busy": "2022-07-09T14:45:30.527187Z",
     "iopub.status.idle": "2022-07-09T14:45:30.539303Z",
     "shell.execute_reply": "2022-07-09T14:45:30.538122Z"
    },
    "papermill": {
     "duration": 0.027094,
     "end_time": "2022-07-09T14:45:30.541679",
     "exception": false,
     "start_time": "2022-07-09T14:45:30.514585",
     "status": "completed"
    },
    "tags": []
   },
   "outputs": [
    {
     "data": {
      "application/javascript": [
       "parent.postMessage({\"jupyterEvent\": \"custom.exercise_interaction\", \"data\": {\"outcomeType\": 1, \"valueTowardsCompletion\": 0.2, \"interactionType\": 1, \"questionType\": 2, \"questionId\": \"1_SignFunctionProblem\", \"learnToolsVersion\": \"0.3.4\", \"failureMessage\": \"\", \"exceptionClass\": \"\", \"trace\": \"\"}}, \"*\")"
      ],
      "text/plain": [
       "<IPython.core.display.Javascript object>"
      ]
     },
     "metadata": {},
     "output_type": "display_data"
    },
    {
     "data": {
      "text/markdown": [
       "<span style=\"color:#33cc33\">Correct</span>"
      ],
      "text/plain": [
       "Correct"
      ]
     },
     "metadata": {},
     "output_type": "display_data"
    }
   ],
   "source": [
    "# Your code goes here. Define a function called 'sign'\n",
    "def sign(x):\n",
    "    if (x < 0):\n",
    "        return -1\n",
    "    elif (x > 0):\n",
    "        return 1\n",
    "    else: \n",
    "        return 0\n",
    "\n",
    "# Check your answer\n",
    "q1.check()"
   ]
  },
  {
   "cell_type": "code",
   "execution_count": 3,
   "id": "cddb7b48",
   "metadata": {
    "execution": {
     "iopub.execute_input": "2022-07-09T14:45:30.565887Z",
     "iopub.status.busy": "2022-07-09T14:45:30.565505Z",
     "iopub.status.idle": "2022-07-09T14:45:30.570413Z",
     "shell.execute_reply": "2022-07-09T14:45:30.569190Z"
    },
    "papermill": {
     "duration": 0.019704,
     "end_time": "2022-07-09T14:45:30.573316",
     "exception": false,
     "start_time": "2022-07-09T14:45:30.553612",
     "status": "completed"
    },
    "tags": []
   },
   "outputs": [],
   "source": [
    "#q1.solution()"
   ]
  },
  {
   "cell_type": "markdown",
   "id": "4fd77e54",
   "metadata": {
    "papermill": {
     "duration": 0.01048,
     "end_time": "2022-07-09T14:45:30.594815",
     "exception": false,
     "start_time": "2022-07-09T14:45:30.584335",
     "status": "completed"
    },
    "tags": []
   },
   "source": [
    "# 2.\n",
    "\n",
    "We've decided to add \"logging\" to our `to_smash` function from the previous exercise."
   ]
  },
  {
   "cell_type": "code",
   "execution_count": 4,
   "id": "9def788a",
   "metadata": {
    "execution": {
     "iopub.execute_input": "2022-07-09T14:45:30.625570Z",
     "iopub.status.busy": "2022-07-09T14:45:30.624680Z",
     "iopub.status.idle": "2022-07-09T14:45:30.634678Z",
     "shell.execute_reply": "2022-07-09T14:45:30.633844Z"
    },
    "papermill": {
     "duration": 0.029463,
     "end_time": "2022-07-09T14:45:30.636952",
     "exception": false,
     "start_time": "2022-07-09T14:45:30.607489",
     "status": "completed"
    },
    "tags": []
   },
   "outputs": [
    {
     "name": "stdout",
     "output_type": "stream",
     "text": [
      "Splitting 91 candies\n"
     ]
    },
    {
     "data": {
      "text/plain": [
       "1"
      ]
     },
     "execution_count": 4,
     "metadata": {},
     "output_type": "execute_result"
    }
   ],
   "source": [
    "def to_smash(total_candies):\n",
    "    \"\"\"Return the number of leftover candies that must be smashed after distributing\n",
    "    the given number of candies evenly between 3 friends.\n",
    "    \n",
    "    >>> to_smash(91)\n",
    "    1\n",
    "    \"\"\"\n",
    "    print(\"Splitting\", total_candies, \"candies\")\n",
    "    return total_candies % 3\n",
    "\n",
    "to_smash(91)"
   ]
  },
  {
   "cell_type": "markdown",
   "id": "dd510738",
   "metadata": {
    "papermill": {
     "duration": 0.010647,
     "end_time": "2022-07-09T14:45:30.659034",
     "exception": false,
     "start_time": "2022-07-09T14:45:30.648387",
     "status": "completed"
    },
    "tags": []
   },
   "source": [
    "What happens if we call it with `total_candies = 1`?"
   ]
  },
  {
   "cell_type": "code",
   "execution_count": 5,
   "id": "1e7dfc5c",
   "metadata": {
    "execution": {
     "iopub.execute_input": "2022-07-09T14:45:30.683528Z",
     "iopub.status.busy": "2022-07-09T14:45:30.682819Z",
     "iopub.status.idle": "2022-07-09T14:45:30.689193Z",
     "shell.execute_reply": "2022-07-09T14:45:30.688250Z"
    },
    "papermill": {
     "duration": 0.02137,
     "end_time": "2022-07-09T14:45:30.691293",
     "exception": false,
     "start_time": "2022-07-09T14:45:30.669923",
     "status": "completed"
    },
    "tags": []
   },
   "outputs": [
    {
     "name": "stdout",
     "output_type": "stream",
     "text": [
      "Splitting 1 candies\n"
     ]
    },
    {
     "data": {
      "text/plain": [
       "1"
      ]
     },
     "execution_count": 5,
     "metadata": {},
     "output_type": "execute_result"
    }
   ],
   "source": [
    "to_smash(1)"
   ]
  },
  {
   "cell_type": "markdown",
   "id": "73fe5374",
   "metadata": {
    "papermill": {
     "duration": 0.010611,
     "end_time": "2022-07-09T14:45:30.712885",
     "exception": false,
     "start_time": "2022-07-09T14:45:30.702274",
     "status": "completed"
    },
    "tags": []
   },
   "source": [
    "That isn't great grammar!\n",
    "\n",
    "Modify the definition in the cell below to correct the grammar of our print statement. (If there's only one candy, we should use the singular \"candy\" instead of the plural \"candies\")"
   ]
  },
  {
   "cell_type": "code",
   "execution_count": 6,
   "id": "611c783b",
   "metadata": {
    "execution": {
     "iopub.execute_input": "2022-07-09T14:45:30.738135Z",
     "iopub.status.busy": "2022-07-09T14:45:30.737406Z",
     "iopub.status.idle": "2022-07-09T14:45:30.746734Z",
     "shell.execute_reply": "2022-07-09T14:45:30.745604Z"
    },
    "papermill": {
     "duration": 0.02452,
     "end_time": "2022-07-09T14:45:30.749103",
     "exception": false,
     "start_time": "2022-07-09T14:45:30.724583",
     "status": "completed"
    },
    "tags": []
   },
   "outputs": [
    {
     "name": "stdout",
     "output_type": "stream",
     "text": [
      "Splitting 91 candies\n",
      "Splitting 1 candy\n"
     ]
    },
    {
     "data": {
      "text/plain": [
       "1"
      ]
     },
     "execution_count": 6,
     "metadata": {},
     "output_type": "execute_result"
    }
   ],
   "source": [
    "def to_smash(total_candies):\n",
    "    \"\"\"Return the number of leftover candies that must be smashed after distributing\n",
    "    the given number of candies evenly between 3 friends.\n",
    "    \n",
    "    >>> to_smash(91)\n",
    "    1\n",
    "    \"\"\"\n",
    "    if total_candies == 1:\n",
    "        print(\"Splitting\", total_candies, \"candy\")\n",
    "    else:\n",
    "        print(\"Splitting\", total_candies, \"candies\")\n",
    "    return total_candies % 3\n",
    "\n",
    "to_smash(91)\n",
    "to_smash(1)"
   ]
  },
  {
   "cell_type": "markdown",
   "id": "e8c2fa7c",
   "metadata": {
    "papermill": {
     "duration": 0.011552,
     "end_time": "2022-07-09T14:45:30.772324",
     "exception": false,
     "start_time": "2022-07-09T14:45:30.760772",
     "status": "completed"
    },
    "tags": []
   },
   "source": [
    "To get credit for completing this problem, and to see the official answer, run the code cell below."
   ]
  },
  {
   "cell_type": "code",
   "execution_count": 7,
   "id": "a709ed94",
   "metadata": {
    "execution": {
     "iopub.execute_input": "2022-07-09T14:45:30.797280Z",
     "iopub.status.busy": "2022-07-09T14:45:30.796554Z",
     "iopub.status.idle": "2022-07-09T14:45:30.805457Z",
     "shell.execute_reply": "2022-07-09T14:45:30.803910Z"
    },
    "papermill": {
     "duration": 0.024276,
     "end_time": "2022-07-09T14:45:30.808082",
     "exception": false,
     "start_time": "2022-07-09T14:45:30.783806",
     "status": "completed"
    },
    "tags": []
   },
   "outputs": [
    {
     "data": {
      "application/javascript": [
       "parent.postMessage({\"jupyterEvent\": \"custom.exercise_interaction\", \"data\": {\"interactionType\": 3, \"questionType\": 4, \"questionId\": \"2_PluralizationProblem\", \"learnToolsVersion\": \"0.3.4\", \"valueTowardsCompletion\": 0.0, \"failureMessage\": \"\", \"exceptionClass\": \"\", \"trace\": \"\", \"outcomeType\": 4}}, \"*\")"
      ],
      "text/plain": [
       "<IPython.core.display.Javascript object>"
      ]
     },
     "metadata": {},
     "output_type": "display_data"
    },
    {
     "data": {
      "text/markdown": [
       "<span style=\"color:#33cc99\">Solution:</span> A straightforward (and totally fine) solution is to replace the original `print` call with:\n",
       "\n",
       "```python\n",
       "if total_candies == 1:\n",
       "    print(\"Splitting 1 candy\")\n",
       "else:\n",
       "    print(\"Splitting\", total_candies, \"candies\")\n",
       "```\n",
       "\n",
       "Here's a slightly more succinct solution using a conditional expression:\n",
       "\n",
       "```python\n",
       "print(\"Splitting\", total_candies, \"candy\" if total_candies == 1 else \"candies\")\n",
       "```"
      ],
      "text/plain": [
       "Solution: A straightforward (and totally fine) solution is to replace the original `print` call with:\n",
       "\n",
       "```python\n",
       "if total_candies == 1:\n",
       "    print(\"Splitting 1 candy\")\n",
       "else:\n",
       "    print(\"Splitting\", total_candies, \"candies\")\n",
       "```\n",
       "\n",
       "Here's a slightly more succinct solution using a conditional expression:\n",
       "\n",
       "```python\n",
       "print(\"Splitting\", total_candies, \"candy\" if total_candies == 1 else \"candies\")\n",
       "```"
      ]
     },
     "metadata": {},
     "output_type": "display_data"
    }
   ],
   "source": [
    "# Check your answer (Run this code cell to receive credit!)\n",
    "q2.solution()"
   ]
  },
  {
   "cell_type": "markdown",
   "id": "2119b624",
   "metadata": {
    "papermill": {
     "duration": 0.011639,
     "end_time": "2022-07-09T14:45:30.832250",
     "exception": false,
     "start_time": "2022-07-09T14:45:30.820611",
     "status": "completed"
    },
    "tags": []
   },
   "source": [
    "# 3. <span title=\"A bit spicy\" style=\"color: darkgreen \">🌶️</span>\n",
    "\n",
    "In the tutorial, we talked about deciding whether we're prepared for the weather. I said that I'm safe from today's weather if...\n",
    "- I have an umbrella...\n",
    "- or if the rain isn't too heavy and I have a hood...\n",
    "- otherwise, I'm still fine unless it's raining *and* it's a workday\n",
    "\n",
    "The function below uses our first attempt at turning this logic into a Python expression. I claimed that there was a bug in that code. Can you find it?\n",
    "\n",
    "To prove that `prepared_for_weather` is buggy, come up with a set of inputs where either:\n",
    "- the function returns `False` (but should have returned `True`), or\n",
    "- the function returned `True` (but should have returned `False`).\n",
    "\n",
    "To get credit for completing this question, your code should return a <font color='#33cc33'>Correct</font> result."
   ]
  },
  {
   "cell_type": "code",
   "execution_count": 8,
   "id": "5f904812",
   "metadata": {
    "execution": {
     "iopub.execute_input": "2022-07-09T14:45:30.857633Z",
     "iopub.status.busy": "2022-07-09T14:45:30.857225Z",
     "iopub.status.idle": "2022-07-09T14:45:30.870282Z",
     "shell.execute_reply": "2022-07-09T14:45:30.869033Z"
    },
    "papermill": {
     "duration": 0.028737,
     "end_time": "2022-07-09T14:45:30.872565",
     "exception": false,
     "start_time": "2022-07-09T14:45:30.843828",
     "status": "completed"
    },
    "tags": []
   },
   "outputs": [
    {
     "name": "stdout",
     "output_type": "stream",
     "text": [
      "False\n"
     ]
    },
    {
     "data": {
      "application/javascript": [
       "parent.postMessage({\"jupyterEvent\": \"custom.exercise_interaction\", \"data\": {\"outcomeType\": 1, \"valueTowardsCompletion\": 0.2, \"interactionType\": 1, \"questionType\": 1, \"questionId\": \"3_WeatherDebug\", \"learnToolsVersion\": \"0.3.4\", \"failureMessage\": \"\", \"exceptionClass\": \"\", \"trace\": \"\"}}, \"*\")"
      ],
      "text/plain": [
       "<IPython.core.display.Javascript object>"
      ]
     },
     "metadata": {},
     "output_type": "display_data"
    },
    {
     "data": {
      "text/markdown": [
       "<span style=\"color:#33cc33\">Correct:</span> \n",
       "\n",
       "One example of a failing test case is:\n",
       "\n",
       "```python\n",
       "have_umbrella = False\n",
       "rain_level = 0.0\n",
       "have_hood = False\n",
       "is_workday = False\n",
       "```\n",
       "\n",
       "Clearly we're prepared for the weather in this case. It's not raining. Not only that, it's not a workday, so we don't even need to leave the house! But our function will return False on these inputs.\n",
       "\n",
       "The key problem is that Python implictly parenthesizes the last part as:\n",
       "\n",
       "```python\n",
       "(not (rain_level > 0)) and is_workday\n",
       "```\n",
       "\n",
       "Whereas what we were trying to express would look more like:\n",
       "\n",
       "```python\n",
       "not (rain_level > 0 and is_workday)\n",
       "```\n"
      ],
      "text/plain": [
       "Correct: \n",
       "\n",
       "One example of a failing test case is:\n",
       "\n",
       "```python\n",
       "have_umbrella = False\n",
       "rain_level = 0.0\n",
       "have_hood = False\n",
       "is_workday = False\n",
       "```\n",
       "\n",
       "Clearly we're prepared for the weather in this case. It's not raining. Not only that, it's not a workday, so we don't even need to leave the house! But our function will return False on these inputs.\n",
       "\n",
       "The key problem is that Python implictly parenthesizes the last part as:\n",
       "\n",
       "```python\n",
       "(not (rain_level > 0)) and is_workday\n",
       "```\n",
       "\n",
       "Whereas what we were trying to express would look more like:\n",
       "\n",
       "```python\n",
       "not (rain_level > 0 and is_workday)\n",
       "```"
      ]
     },
     "metadata": {},
     "output_type": "display_data"
    }
   ],
   "source": [
    "def prepared_for_weather(have_umbrella, rain_level, have_hood, is_workday):\n",
    "    # Don't change this code. Our goal is just to find the bug, not fix it!\n",
    "    return have_umbrella or rain_level < 5 and have_hood or not rain_level > 0 and is_workday\n",
    "\n",
    "# Change the values of these inputs so they represent a case where prepared_for_weather\n",
    "# returns the wrong answer.\n",
    "have_umbrella = False\n",
    "rain_level = 1\n",
    "have_hood = False\n",
    "is_workday = False\n",
    "\n",
    "# Check what the function returns given the current values of the variables above\n",
    "actual = prepared_for_weather(have_umbrella, rain_level, have_hood, is_workday)\n",
    "print(actual)\n",
    "\n",
    "# Check your answer\n",
    "q3.check()"
   ]
  },
  {
   "cell_type": "code",
   "execution_count": 9,
   "id": "c6ef42c4",
   "metadata": {
    "execution": {
     "iopub.execute_input": "2022-07-09T14:45:30.900044Z",
     "iopub.status.busy": "2022-07-09T14:45:30.899110Z",
     "iopub.status.idle": "2022-07-09T14:45:30.903610Z",
     "shell.execute_reply": "2022-07-09T14:45:30.902739Z"
    },
    "papermill": {
     "duration": 0.021179,
     "end_time": "2022-07-09T14:45:30.905777",
     "exception": false,
     "start_time": "2022-07-09T14:45:30.884598",
     "status": "completed"
    },
    "tags": []
   },
   "outputs": [],
   "source": [
    "#q3.hint()\n",
    "#q3.solution()"
   ]
  },
  {
   "cell_type": "markdown",
   "id": "ad5b2db2",
   "metadata": {
    "papermill": {
     "duration": 0.012593,
     "end_time": "2022-07-09T14:45:30.931115",
     "exception": false,
     "start_time": "2022-07-09T14:45:30.918522",
     "status": "completed"
    },
    "tags": []
   },
   "source": [
    "# 4.\n",
    "\n",
    "The function `is_negative` below is implemented correctly - it returns True if the given number is negative and False otherwise.\n",
    "\n",
    "However, it's more verbose than it needs to be. We can actually reduce the number of lines of code in this function by *75%* while keeping the same behaviour. \n",
    "\n",
    "See if you can come up with an equivalent body that uses just **one line** of code, and put it in the function `concise_is_negative`. (HINT: you don't even need Python's ternary syntax)"
   ]
  },
  {
   "cell_type": "code",
   "execution_count": 10,
   "id": "269db600",
   "metadata": {
    "execution": {
     "iopub.execute_input": "2022-07-09T14:45:30.957428Z",
     "iopub.status.busy": "2022-07-09T14:45:30.957061Z",
     "iopub.status.idle": "2022-07-09T14:45:30.965223Z",
     "shell.execute_reply": "2022-07-09T14:45:30.964406Z"
    },
    "papermill": {
     "duration": 0.023878,
     "end_time": "2022-07-09T14:45:30.967203",
     "exception": false,
     "start_time": "2022-07-09T14:45:30.943325",
     "status": "completed"
    },
    "tags": []
   },
   "outputs": [
    {
     "data": {
      "application/javascript": [
       "parent.postMessage({\"jupyterEvent\": \"custom.exercise_interaction\", \"data\": {\"outcomeType\": 1, \"valueTowardsCompletion\": 0.2, \"interactionType\": 1, \"questionType\": 2, \"questionId\": \"4_ConciseIsNegative\", \"learnToolsVersion\": \"0.3.4\", \"failureMessage\": \"\", \"exceptionClass\": \"\", \"trace\": \"\"}}, \"*\")"
      ],
      "text/plain": [
       "<IPython.core.display.Javascript object>"
      ]
     },
     "metadata": {},
     "output_type": "display_data"
    },
    {
     "data": {
      "text/markdown": [
       "<span style=\"color:#33cc33\">Correct</span>"
      ],
      "text/plain": [
       "Correct"
      ]
     },
     "metadata": {},
     "output_type": "display_data"
    }
   ],
   "source": [
    "def is_negative(number):\n",
    "    if number < 0:\n",
    "        return True\n",
    "    else:\n",
    "        return False\n",
    "\n",
    "def concise_is_negative(number):\n",
    "    return (number < 0)\n",
    "\n",
    "# Check your answer\n",
    "q4.check()"
   ]
  },
  {
   "cell_type": "code",
   "execution_count": 11,
   "id": "40067cc8",
   "metadata": {
    "execution": {
     "iopub.execute_input": "2022-07-09T14:45:30.994813Z",
     "iopub.status.busy": "2022-07-09T14:45:30.994021Z",
     "iopub.status.idle": "2022-07-09T14:45:30.998287Z",
     "shell.execute_reply": "2022-07-09T14:45:30.997126Z"
    },
    "papermill": {
     "duration": 0.02067,
     "end_time": "2022-07-09T14:45:31.000531",
     "exception": false,
     "start_time": "2022-07-09T14:45:30.979861",
     "status": "completed"
    },
    "tags": []
   },
   "outputs": [],
   "source": [
    "#q4.hint()\n",
    "#q4.solution()"
   ]
  },
  {
   "cell_type": "markdown",
   "id": "5e0fe2eb",
   "metadata": {
    "papermill": {
     "duration": 0.011513,
     "end_time": "2022-07-09T14:45:31.024632",
     "exception": false,
     "start_time": "2022-07-09T14:45:31.013119",
     "status": "completed"
    },
    "tags": []
   },
   "source": [
    "# 5a.\n",
    "\n",
    "The boolean variables `ketchup`, `mustard` and `onion` represent whether a customer wants a particular topping on their hot dog. We want to implement a number of boolean functions that correspond to some yes-or-no questions about the customer's order. For example:"
   ]
  },
  {
   "cell_type": "code",
   "execution_count": 12,
   "id": "12051409",
   "metadata": {
    "execution": {
     "iopub.execute_input": "2022-07-09T14:45:31.050708Z",
     "iopub.status.busy": "2022-07-09T14:45:31.049987Z",
     "iopub.status.idle": "2022-07-09T14:45:31.054443Z",
     "shell.execute_reply": "2022-07-09T14:45:31.053575Z"
    },
    "papermill": {
     "duration": 0.020161,
     "end_time": "2022-07-09T14:45:31.056731",
     "exception": false,
     "start_time": "2022-07-09T14:45:31.036570",
     "status": "completed"
    },
    "tags": []
   },
   "outputs": [],
   "source": [
    "def onionless(ketchup, mustard, onion):\n",
    "    \"\"\"Return whether the customer doesn't want onions.\n",
    "    \"\"\"\n",
    "    return not onion"
   ]
  },
  {
   "cell_type": "code",
   "execution_count": 13,
   "id": "6ef474b7",
   "metadata": {
    "execution": {
     "iopub.execute_input": "2022-07-09T14:45:31.083297Z",
     "iopub.status.busy": "2022-07-09T14:45:31.082606Z",
     "iopub.status.idle": "2022-07-09T14:45:31.091515Z",
     "shell.execute_reply": "2022-07-09T14:45:31.090705Z"
    },
    "papermill": {
     "duration": 0.025064,
     "end_time": "2022-07-09T14:45:31.094202",
     "exception": false,
     "start_time": "2022-07-09T14:45:31.069138",
     "status": "completed"
    },
    "tags": []
   },
   "outputs": [
    {
     "data": {
      "application/javascript": [
       "parent.postMessage({\"jupyterEvent\": \"custom.exercise_interaction\", \"data\": {\"outcomeType\": 1, \"valueTowardsCompletion\": 0.2, \"interactionType\": 1, \"questionType\": 2, \"questionId\": \"5.1_AllToppings\", \"learnToolsVersion\": \"0.3.4\", \"failureMessage\": \"\", \"exceptionClass\": \"\", \"trace\": \"\"}}, \"*\")"
      ],
      "text/plain": [
       "<IPython.core.display.Javascript object>"
      ]
     },
     "metadata": {},
     "output_type": "display_data"
    },
    {
     "data": {
      "text/markdown": [
       "<span style=\"color:#33cc33\">Correct</span>"
      ],
      "text/plain": [
       "Correct"
      ]
     },
     "metadata": {},
     "output_type": "display_data"
    }
   ],
   "source": [
    "def wants_all_toppings(ketchup, mustard, onion):\n",
    "    \"\"\"Return whether the customer wants \"the works\" (all 3 toppings)\n",
    "    \"\"\"\n",
    "    return ketchup and mustard and onion\n",
    "\n",
    "# Check your answer\n",
    "q5.a.check()"
   ]
  },
  {
   "cell_type": "code",
   "execution_count": 14,
   "id": "9e29c10f",
   "metadata": {
    "execution": {
     "iopub.execute_input": "2022-07-09T14:45:31.122312Z",
     "iopub.status.busy": "2022-07-09T14:45:31.121931Z",
     "iopub.status.idle": "2022-07-09T14:45:31.127107Z",
     "shell.execute_reply": "2022-07-09T14:45:31.125758Z"
    },
    "papermill": {
     "duration": 0.022477,
     "end_time": "2022-07-09T14:45:31.130009",
     "exception": false,
     "start_time": "2022-07-09T14:45:31.107532",
     "status": "completed"
    },
    "tags": []
   },
   "outputs": [],
   "source": [
    "#q5.a.hint()\n",
    "#q5.a.solution()"
   ]
  },
  {
   "cell_type": "markdown",
   "id": "3cc91843",
   "metadata": {
    "papermill": {
     "duration": 0.012589,
     "end_time": "2022-07-09T14:45:31.154982",
     "exception": false,
     "start_time": "2022-07-09T14:45:31.142393",
     "status": "completed"
    },
    "tags": []
   },
   "source": [
    "# 5b.\n",
    "\n",
    "For the next function, fill in the body to match the English description in the docstring. "
   ]
  },
  {
   "cell_type": "code",
   "execution_count": 15,
   "id": "4f173f85",
   "metadata": {
    "execution": {
     "iopub.execute_input": "2022-07-09T14:45:31.183699Z",
     "iopub.status.busy": "2022-07-09T14:45:31.183303Z",
     "iopub.status.idle": "2022-07-09T14:45:31.194960Z",
     "shell.execute_reply": "2022-07-09T14:45:31.193726Z"
    },
    "papermill": {
     "duration": 0.02837,
     "end_time": "2022-07-09T14:45:31.197180",
     "exception": false,
     "start_time": "2022-07-09T14:45:31.168810",
     "status": "completed"
    },
    "tags": []
   },
   "outputs": [
    {
     "data": {
      "application/javascript": [
       "parent.postMessage({\"jupyterEvent\": \"custom.exercise_interaction\", \"data\": {\"outcomeType\": 1, \"valueTowardsCompletion\": 0.2, \"interactionType\": 1, \"questionType\": 2, \"questionId\": \"5.2_PlainDog\", \"learnToolsVersion\": \"0.3.4\", \"failureMessage\": \"\", \"exceptionClass\": \"\", \"trace\": \"\"}}, \"*\")"
      ],
      "text/plain": [
       "<IPython.core.display.Javascript object>"
      ]
     },
     "metadata": {},
     "output_type": "display_data"
    },
    {
     "data": {
      "text/markdown": [
       "<span style=\"color:#33cc33\">Correct:</span> \n",
       "\n",
       "One solution looks like:\n",
       "```python\n",
       "return not ketchup and not mustard and not onion\n",
       "```\n",
       "\n",
       "We can also [\"factor out\" the nots](https://en.wikipedia.org/wiki/De_Morgan%27s_laws) to get:\n",
       "\n",
       "```python\n",
       "return not (ketchup or mustard or onion)\n",
       "```"
      ],
      "text/plain": [
       "Correct: \n",
       "\n",
       "One solution looks like:\n",
       "```python\n",
       "return not ketchup and not mustard and not onion\n",
       "```\n",
       "\n",
       "We can also [\"factor out\" the nots](https://en.wikipedia.org/wiki/De_Morgan%27s_laws) to get:\n",
       "\n",
       "```python\n",
       "return not (ketchup or mustard or onion)\n",
       "```"
      ]
     },
     "metadata": {},
     "output_type": "display_data"
    }
   ],
   "source": [
    "def wants_plain_hotdog(ketchup, mustard, onion):\n",
    "    \"\"\"Return whether the customer wants a plain hot dog with no toppings.\n",
    "    \"\"\"\n",
    "    return (not ketchup and not mustard and not onion)\n",
    "\n",
    "# Check your answer\n",
    "q5.b.check()"
   ]
  },
  {
   "cell_type": "code",
   "execution_count": 16,
   "id": "7f94cce8",
   "metadata": {
    "execution": {
     "iopub.execute_input": "2022-07-09T14:45:31.227305Z",
     "iopub.status.busy": "2022-07-09T14:45:31.226351Z",
     "iopub.status.idle": "2022-07-09T14:45:31.232380Z",
     "shell.execute_reply": "2022-07-09T14:45:31.230950Z"
    },
    "papermill": {
     "duration": 0.02397,
     "end_time": "2022-07-09T14:45:31.234888",
     "exception": false,
     "start_time": "2022-07-09T14:45:31.210918",
     "status": "completed"
    },
    "tags": []
   },
   "outputs": [],
   "source": [
    "#q5.b.hint()\n",
    "#q5.b.solution()"
   ]
  },
  {
   "cell_type": "markdown",
   "id": "f2cdf1dd",
   "metadata": {
    "papermill": {
     "duration": 0.014401,
     "end_time": "2022-07-09T14:45:31.262705",
     "exception": false,
     "start_time": "2022-07-09T14:45:31.248304",
     "status": "completed"
    },
    "tags": []
   },
   "source": [
    "# 5c.\n",
    "\n",
    "You know what to do: for the next function, fill in the body to match the English description in the docstring."
   ]
  },
  {
   "cell_type": "code",
   "execution_count": 17,
   "id": "67e76d5c",
   "metadata": {
    "execution": {
     "iopub.execute_input": "2022-07-09T14:45:31.291304Z",
     "iopub.status.busy": "2022-07-09T14:45:31.290908Z",
     "iopub.status.idle": "2022-07-09T14:45:31.300130Z",
     "shell.execute_reply": "2022-07-09T14:45:31.299032Z"
    },
    "papermill": {
     "duration": 0.026573,
     "end_time": "2022-07-09T14:45:31.302584",
     "exception": false,
     "start_time": "2022-07-09T14:45:31.276011",
     "status": "completed"
    },
    "tags": []
   },
   "outputs": [
    {
     "data": {
      "application/javascript": [
       "parent.postMessage({\"jupyterEvent\": \"custom.exercise_interaction\", \"data\": {\"outcomeType\": 1, \"valueTowardsCompletion\": 0.2, \"interactionType\": 1, \"questionType\": 2, \"questionId\": \"5.3_OneSauce\", \"learnToolsVersion\": \"0.3.4\", \"failureMessage\": \"\", \"exceptionClass\": \"\", \"trace\": \"\"}}, \"*\")"
      ],
      "text/plain": [
       "<IPython.core.display.Javascript object>"
      ]
     },
     "metadata": {},
     "output_type": "display_data"
    },
    {
     "data": {
      "text/markdown": [
       "<span style=\"color:#33cc33\">Correct</span>"
      ],
      "text/plain": [
       "Correct"
      ]
     },
     "metadata": {},
     "output_type": "display_data"
    }
   ],
   "source": [
    "def exactly_one_sauce(ketchup, mustard, onion):\n",
    "    \"\"\"Return whether the customer wants either ketchup or mustard, but not both.\n",
    "    (You may be familiar with this operation under the name \"exclusive or\")\n",
    "    \"\"\"\n",
    "    return (ketchup and not mustard) or (mustard and not ketchup)\n",
    "\n",
    "# Check your answer\n",
    "q5.c.check()"
   ]
  },
  {
   "cell_type": "code",
   "execution_count": 18,
   "id": "0f870bd4",
   "metadata": {
    "execution": {
     "iopub.execute_input": "2022-07-09T14:45:31.331590Z",
     "iopub.status.busy": "2022-07-09T14:45:31.331188Z",
     "iopub.status.idle": "2022-07-09T14:45:31.335668Z",
     "shell.execute_reply": "2022-07-09T14:45:31.334573Z"
    },
    "papermill": {
     "duration": 0.021964,
     "end_time": "2022-07-09T14:45:31.338097",
     "exception": false,
     "start_time": "2022-07-09T14:45:31.316133",
     "status": "completed"
    },
    "tags": []
   },
   "outputs": [],
   "source": [
    "#q5.c.hint()\n",
    "#q5.c.solution()"
   ]
  },
  {
   "cell_type": "markdown",
   "id": "5ac51456",
   "metadata": {
    "papermill": {
     "duration": 0.012923,
     "end_time": "2022-07-09T14:45:31.363863",
     "exception": false,
     "start_time": "2022-07-09T14:45:31.350940",
     "status": "completed"
    },
    "tags": []
   },
   "source": [
    "# 6. <span title=\"A bit spicy\" style=\"color: darkgreen \">🌶️</span>\n",
    "\n",
    "We’ve seen that calling `bool()` on an integer returns `False` if it’s equal to 0 and `True` otherwise. What happens if we call `int()` on a bool? Try it out in the notebook cell below.\n",
    "\n",
    "Can you take advantage of this to write a succinct function that corresponds to the English sentence \"does the customer want exactly one topping?\"?"
   ]
  },
  {
   "cell_type": "code",
   "execution_count": 19,
   "id": "168e23ce",
   "metadata": {
    "execution": {
     "iopub.execute_input": "2022-07-09T14:45:31.392403Z",
     "iopub.status.busy": "2022-07-09T14:45:31.391984Z",
     "iopub.status.idle": "2022-07-09T14:45:31.403050Z",
     "shell.execute_reply": "2022-07-09T14:45:31.401918Z"
    },
    "papermill": {
     "duration": 0.027802,
     "end_time": "2022-07-09T14:45:31.405367",
     "exception": false,
     "start_time": "2022-07-09T14:45:31.377565",
     "status": "completed"
    },
    "tags": []
   },
   "outputs": [
    {
     "data": {
      "application/javascript": [
       "parent.postMessage({\"jupyterEvent\": \"custom.exercise_interaction\", \"data\": {\"outcomeType\": 1, \"valueTowardsCompletion\": 0.2, \"interactionType\": 1, \"questionType\": 2, \"questionId\": \"6_OneTopping\", \"learnToolsVersion\": \"0.3.4\", \"failureMessage\": \"\", \"exceptionClass\": \"\", \"trace\": \"\"}}, \"*\")"
      ],
      "text/plain": [
       "<IPython.core.display.Javascript object>"
      ]
     },
     "metadata": {},
     "output_type": "display_data"
    },
    {
     "data": {
      "text/markdown": [
       "<span style=\"color:#33cc33\">Correct:</span> \n",
       "\n",
       "This condition would be pretty complicated to express using just `and`, `or` and `not`, but using boolean-to-integer conversion gives us this short solution:\n",
       "```python\n",
       "return (int(ketchup) + int(mustard) + int(onion)) == 1\n",
       "```\n",
       "\n",
       "Fun fact: we don't technically need to call `int` on the arguments. Just by doing addition with booleans, Python implicitly does the integer conversion. So we could also write...\n",
       "\n",
       "```python\n",
       "return (ketchup + mustard + onion) == 1\n",
       "```"
      ],
      "text/plain": [
       "Correct: \n",
       "\n",
       "This condition would be pretty complicated to express using just `and`, `or` and `not`, but using boolean-to-integer conversion gives us this short solution:\n",
       "```python\n",
       "return (int(ketchup) + int(mustard) + int(onion)) == 1\n",
       "```\n",
       "\n",
       "Fun fact: we don't technically need to call `int` on the arguments. Just by doing addition with booleans, Python implicitly does the integer conversion. So we could also write...\n",
       "\n",
       "```python\n",
       "return (ketchup + mustard + onion) == 1\n",
       "```"
      ]
     },
     "metadata": {},
     "output_type": "display_data"
    }
   ],
   "source": [
    "def exactly_one_topping(ketchup, mustard, onion):\n",
    "    \"\"\"Return whether the customer wants exactly one of the three available toppings\n",
    "    on their hot dog.\n",
    "    \"\"\"\n",
    "    if ((int(ketchup) + int(mustard) + int(onion) == 1)):\n",
    "        return True\n",
    "    else:\n",
    "        return False\n",
    "\n",
    "# Check your answer\n",
    "q6.check()"
   ]
  },
  {
   "cell_type": "code",
   "execution_count": 20,
   "id": "23a83e96",
   "metadata": {
    "execution": {
     "iopub.execute_input": "2022-07-09T14:45:31.434008Z",
     "iopub.status.busy": "2022-07-09T14:45:31.433581Z",
     "iopub.status.idle": "2022-07-09T14:45:31.438521Z",
     "shell.execute_reply": "2022-07-09T14:45:31.437398Z"
    },
    "papermill": {
     "duration": 0.0219,
     "end_time": "2022-07-09T14:45:31.441031",
     "exception": false,
     "start_time": "2022-07-09T14:45:31.419131",
     "status": "completed"
    },
    "tags": []
   },
   "outputs": [],
   "source": [
    "#q6.hint()\n",
    "#q6.solution()"
   ]
  },
  {
   "cell_type": "markdown",
   "id": "20fb9877",
   "metadata": {
    "papermill": {
     "duration": 0.013438,
     "end_time": "2022-07-09T14:45:31.467862",
     "exception": false,
     "start_time": "2022-07-09T14:45:31.454424",
     "status": "completed"
    },
    "tags": []
   },
   "source": [
    "# 7. <span title=\"A bit spicy\" style=\"color: darkgreen \">🌶️</span> (Optional)\n",
    "\n",
    "In this problem we'll be working with a simplified version of [blackjack](https://en.wikipedia.org/wiki/Blackjack) (aka twenty-one). In this version there is one player (who you'll control) and a dealer. Play proceeds as follows:\n",
    "\n",
    "- The player is dealt two face-up cards. The dealer is dealt one face-up card.\n",
    "- The player may ask to be dealt another card ('hit') as many times as they wish. If the sum of their cards exceeds 21, they lose the round immediately.\n",
    "- The dealer then deals additional cards to himself until either:\n",
    "    - the sum of the dealer's cards exceeds 21, in which case the player wins the round\n",
    "    - the sum of the dealer's cards is greater than or equal to 17. If the player's total is greater than the dealer's, the player wins. Otherwise, the dealer wins (even in case of a tie).\n",
    "    \n",
    "When calculating the sum of cards, Jack, Queen, and King count for 10. Aces can count as 1 or 11 (when referring to a player's \"total\" above, we mean the largest total that can be made without exceeding 21. So e.g. A+8 = 19, A+8+8 = 17)\n",
    "\n",
    "For this problem, you'll write a function representing the player's decision-making strategy in this game. We've provided a very unintelligent implementation below:"
   ]
  },
  {
   "cell_type": "code",
   "execution_count": 21,
   "id": "f480e5f6",
   "metadata": {
    "execution": {
     "iopub.execute_input": "2022-07-09T14:45:31.496368Z",
     "iopub.status.busy": "2022-07-09T14:45:31.496002Z",
     "iopub.status.idle": "2022-07-09T14:45:31.501301Z",
     "shell.execute_reply": "2022-07-09T14:45:31.500247Z"
    },
    "papermill": {
     "duration": 0.022737,
     "end_time": "2022-07-09T14:45:31.503667",
     "exception": false,
     "start_time": "2022-07-09T14:45:31.480930",
     "status": "completed"
    },
    "tags": []
   },
   "outputs": [],
   "source": [
    "def should_hit(dealer_total, player_total, player_low_aces, player_high_aces):\n",
    "    \"\"\"Return True if the player should hit (request another card) given the current game\n",
    "    state, or False if the player should stay.\n",
    "    When calculating a hand's total value, we count aces as \"high\" (with value 11) if doing so\n",
    "    doesn't bring the total above 21, otherwise we count them as low (with value 1). \n",
    "    For example, if the player's hand is {A, A, A, 7}, we will count it as 11 + 1 + 1 + 7,\n",
    "    and therefore set player_total=20, player_low_aces=2, player_high_aces=1.\n",
    "    \"\"\"\n",
    "    return False"
   ]
  },
  {
   "cell_type": "markdown",
   "id": "6dc3cb27",
   "metadata": {
    "papermill": {
     "duration": 0.013496,
     "end_time": "2022-07-09T14:45:31.530753",
     "exception": false,
     "start_time": "2022-07-09T14:45:31.517257",
     "status": "completed"
    },
    "tags": []
   },
   "source": [
    "This very conservative agent *always* sticks with the hand of two cards that they're dealt.\n",
    "\n",
    "We'll be simulating games between your player agent and our own dealer agent by calling your function.\n",
    "\n",
    "Try running the function below to see an example of a simulated game:"
   ]
  },
  {
   "cell_type": "code",
   "execution_count": 22,
   "id": "e26732c7",
   "metadata": {
    "execution": {
     "iopub.execute_input": "2022-07-09T14:45:31.558600Z",
     "iopub.status.busy": "2022-07-09T14:45:31.558205Z",
     "iopub.status.idle": "2022-07-09T14:45:31.564330Z",
     "shell.execute_reply": "2022-07-09T14:45:31.563158Z"
    },
    "papermill": {
     "duration": 0.022971,
     "end_time": "2022-07-09T14:45:31.566756",
     "exception": false,
     "start_time": "2022-07-09T14:45:31.543785",
     "status": "completed"
    },
    "tags": []
   },
   "outputs": [
    {
     "name": "stdout",
     "output_type": "stream",
     "text": [
      "Player starts with 6 and 9 (total = 15)\n",
      "Dealer starts with 9\n",
      "\n",
      "__Player's turn__\n",
      "Player stays\n",
      "\n",
      "__Dealer's turn__\n",
      "Dealer hits and receives 3. (total = 12)\n",
      "Dealer hits and receives 10. (total = 22)\n",
      "Dealer busts! Player wins.\n"
     ]
    }
   ],
   "source": [
    "q7.simulate_one_game()"
   ]
  },
  {
   "cell_type": "markdown",
   "id": "55b6c190",
   "metadata": {
    "papermill": {
     "duration": 0.013607,
     "end_time": "2022-07-09T14:45:31.594197",
     "exception": false,
     "start_time": "2022-07-09T14:45:31.580590",
     "status": "completed"
    },
    "tags": []
   },
   "source": [
    "The real test of your agent's mettle is their average win rate over many games. Try calling the function below to simulate 50000 games of blackjack (it may take a couple seconds):"
   ]
  },
  {
   "cell_type": "code",
   "execution_count": 23,
   "id": "13ce3ab9",
   "metadata": {
    "execution": {
     "iopub.execute_input": "2022-07-09T14:45:31.623187Z",
     "iopub.status.busy": "2022-07-09T14:45:31.622802Z",
     "iopub.status.idle": "2022-07-09T14:45:33.643446Z",
     "shell.execute_reply": "2022-07-09T14:45:33.642059Z"
    },
    "papermill": {
     "duration": 2.038179,
     "end_time": "2022-07-09T14:45:33.646086",
     "exception": false,
     "start_time": "2022-07-09T14:45:31.607907",
     "status": "completed"
    },
    "tags": []
   },
   "outputs": [
    {
     "name": "stdout",
     "output_type": "stream",
     "text": [
      "Player won 18950 out of 50000 games (win rate = 37.9%)\n"
     ]
    }
   ],
   "source": [
    "q7.simulate(n_games=50000)"
   ]
  },
  {
   "cell_type": "markdown",
   "id": "01a62f70",
   "metadata": {
    "papermill": {
     "duration": 0.01366,
     "end_time": "2022-07-09T14:45:33.673081",
     "exception": false,
     "start_time": "2022-07-09T14:45:33.659421",
     "status": "completed"
    },
    "tags": []
   },
   "source": [
    "Our dumb agent that completely ignores the game state still manages to win shockingly often!\n",
    "\n",
    "Try adding some more smarts to the `should_hit` function and see how it affects the results."
   ]
  },
  {
   "cell_type": "code",
   "execution_count": 24,
   "id": "3c686cb2",
   "metadata": {
    "execution": {
     "iopub.execute_input": "2022-07-09T14:45:33.703208Z",
     "iopub.status.busy": "2022-07-09T14:45:33.702553Z",
     "iopub.status.idle": "2022-07-09T14:45:35.700756Z",
     "shell.execute_reply": "2022-07-09T14:45:35.699426Z"
    },
    "papermill": {
     "duration": 2.015875,
     "end_time": "2022-07-09T14:45:35.703294",
     "exception": false,
     "start_time": "2022-07-09T14:45:33.687419",
     "status": "completed"
    },
    "tags": []
   },
   "outputs": [
    {
     "name": "stdout",
     "output_type": "stream",
     "text": [
      "Player won 19102 out of 50000 games (win rate = 38.2%)\n"
     ]
    }
   ],
   "source": [
    "def should_hit(dealer_total, player_total, player_low_aces, player_high_aces):\n",
    "    \"\"\"Return True if the player should hit (request another card) given the current game\n",
    "    state, or False if the player should stay.\n",
    "    When calculating a hand's total value, we count aces as \"high\" (with value 11) if doing so\n",
    "    doesn't bring the total above 21, otherwise we count them as low (with value 1). \n",
    "    For example, if the player's hand is {A, A, A, 7}, we will count it as 11 + 1 + 1 + 7,\n",
    "    and therefore set player_total=20, player_low_aces=2, player_high_aces=1.\n",
    "    \"\"\"\n",
    "    return False\n",
    "\n",
    "q7.simulate(n_games=50000)"
   ]
  },
  {
   "cell_type": "markdown",
   "id": "2fde1c76",
   "metadata": {
    "papermill": {
     "duration": 0.017935,
     "end_time": "2022-07-09T14:45:35.735471",
     "exception": false,
     "start_time": "2022-07-09T14:45:35.717536",
     "status": "completed"
    },
    "tags": []
   },
   "source": [
    "# Keep Going\n",
    "\n",
    "Learn about **[lists and tuples](https://www.kaggle.com/colinmorris/lists)** to handle multiple items of data in a systematic way."
   ]
  },
  {
   "cell_type": "markdown",
   "id": "0373dba1",
   "metadata": {
    "papermill": {
     "duration": 0.013679,
     "end_time": "2022-07-09T14:45:35.764481",
     "exception": false,
     "start_time": "2022-07-09T14:45:35.750802",
     "status": "completed"
    },
    "tags": []
   },
   "source": [
    "---\n",
    "\n",
    "\n",
    "\n",
    "\n",
    "*Have questions or comments? Visit the [course discussion forum](https://www.kaggle.com/learn/python/discussion) to chat with other learners.*"
   ]
  }
 ],
 "metadata": {
  "kernelspec": {
   "display_name": "Python 3",
   "language": "python",
   "name": "python3"
  },
  "language_info": {
   "codemirror_mode": {
    "name": "ipython",
    "version": 3
   },
   "file_extension": ".py",
   "mimetype": "text/x-python",
   "name": "python",
   "nbconvert_exporter": "python",
   "pygments_lexer": "ipython3",
   "version": "3.7.12"
  },
  "papermill": {
   "default_parameters": {},
   "duration": 17.209532,
   "end_time": "2022-07-09T14:45:36.500506",
   "environment_variables": {},
   "exception": null,
   "input_path": "__notebook__.ipynb",
   "output_path": "__notebook__.ipynb",
   "parameters": {},
   "start_time": "2022-07-09T14:45:19.290974",
   "version": "2.3.4"
  }
 },
 "nbformat": 4,
 "nbformat_minor": 5
}
